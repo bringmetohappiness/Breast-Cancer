{
 "cells": [
  {
   "cell_type": "markdown",
   "id": "338a2d5b",
   "metadata": {},
   "source": [
    "# Удаляем точки с недопустимыми NaN"
   ]
  },
  {
   "cell_type": "code",
   "execution_count": 1,
   "id": "a11bb115",
   "metadata": {},
   "outputs": [],
   "source": [
    "import pandas as pd\n",
    "\n",
    "from utils import definitions as defs\n",
    "from utils import visualization as viz"
   ]
  },
  {
   "cell_type": "code",
   "execution_count": 2,
   "id": "079da157",
   "metadata": {},
   "outputs": [],
   "source": [
    "df = pd.read_excel(defs.ETLED_DATA_PATH_step_2)"
   ]
  },
  {
   "cell_type": "code",
   "execution_count": 3,
   "id": "3a662c70",
   "metadata": {},
   "outputs": [],
   "source": [
    "# для визуализации распределения по классами\n",
    "norm_old = (df[defs.LABEL] == defs.LABELS[0]).sum()\n",
    "benign_tumor_old = (df[defs.LABEL] == defs.LABELS[1]).sum()\n",
    "malignant_tumor_old = (df[defs.LABEL] == defs.LABELS[2]).sum()"
   ]
  },
  {
   "cell_type": "markdown",
   "id": "7f7b8bd2",
   "metadata": {},
   "source": [
    "### 2. Возраст"
   ]
  },
  {
   "cell_type": "code",
   "execution_count": 4,
   "id": "2d224436",
   "metadata": {},
   "outputs": [],
   "source": [
    "df = df[df[defs.QUESTION_2].notnull()]  # 567 - 2 = 565"
   ]
  },
  {
   "cell_type": "markdown",
   "id": "acccdc6f",
   "metadata": {},
   "source": [
    "### 5. В какой семье Вы выросли?"
   ]
  },
  {
   "cell_type": "code",
   "execution_count": 5,
   "id": "fdf30890",
   "metadata": {},
   "outputs": [],
   "source": [
    "df = df[df[defs.QUESTION_5].isin(defs.ANSWERS_5)]  # 565 - 1 = 564"
   ]
  },
  {
   "cell_type": "markdown",
   "id": "51175bce",
   "metadata": {},
   "source": [
    "### 12. Сколько человек живут вместе с Вами?"
   ]
  },
  {
   "cell_type": "code",
   "execution_count": 6,
   "id": "e823c994",
   "metadata": {},
   "outputs": [],
   "source": [
    "df = df[df[defs.QUESTION_12].isin(defs.ANSWERS_12)]  # 564 - 2 = 562"
   ]
  },
  {
   "cell_type": "markdown",
   "id": "f515c832",
   "metadata": {},
   "source": [
    "### 15. Есть ли у Вас домашние питомцы? (да/нет)"
   ]
  },
  {
   "cell_type": "code",
   "execution_count": 7,
   "id": "40b6d7a7",
   "metadata": {},
   "outputs": [],
   "source": [
    "df = df[df[defs.QUESTION_15].isin([defs.YES, defs.NO])]  # 562 - 1 = 561"
   ]
  },
  {
   "cell_type": "markdown",
   "id": "75165d11",
   "metadata": {},
   "source": [
    "### 16. В течение последних 7 дней, как часто Вы практиковали тяжелые физические нагрузки?"
   ]
  },
  {
   "cell_type": "code",
   "execution_count": 8,
   "id": "58ee091a",
   "metadata": {},
   "outputs": [],
   "source": [
    "df = df[df[defs.QUESTION_16].isin(defs.ANSWERS_16_17_18)]  # 561 - 2 = 569"
   ]
  },
  {
   "cell_type": "markdown",
   "id": "c84255db",
   "metadata": {},
   "source": [
    "### 17. В течение последних 7 дней, как часто Вы практиковали умеренные физические нагрузки?"
   ]
  },
  {
   "cell_type": "code",
   "execution_count": 9,
   "id": "a7b1e921",
   "metadata": {},
   "outputs": [],
   "source": [
    "df = df[df[defs.QUESTION_17].isin(defs.ANSWERS_16_17_18)]  # 569 - 10 = 559"
   ]
  },
  {
   "cell_type": "markdown",
   "id": "80eb99e5",
   "metadata": {},
   "source": [
    "### 22. Как долго Вы проживаете в этом месте? (в годах)"
   ]
  },
  {
   "cell_type": "code",
   "execution_count": 10,
   "id": "5ddfb856",
   "metadata": {},
   "outputs": [],
   "source": [
    "df = df[df[defs.QUESTION_22].notnull()]  # 559 - 4 = 555"
   ]
  },
  {
   "cell_type": "code",
   "execution_count": 11,
   "id": "f16b916d",
   "metadata": {},
   "outputs": [],
   "source": [
    "# для визуализации распределения по классами\n",
    "norm_new = (df[defs.LABEL] == defs.LABELS[0]).sum()\n",
    "benign_tumor_new = (df[defs.LABEL] == defs.LABELS[1]).sum()\n",
    "malignant_tumor_new = (df[defs.LABEL] == defs.LABELS[2]).sum()"
   ]
  },
  {
   "cell_type": "code",
   "execution_count": 12,
   "id": "91becd8d",
   "metadata": {},
   "outputs": [
    {
     "data": {
      "image/png": "[encoded data removed]",
      "text/plain": [
       "<Figure size 1296x360 with 2 Axes>"
      ]
     },
     "metadata": {
      "needs_background": "light"
     },
     "output_type": "display_data"
    }
   ],
   "source": [
    "viz.plot_distribution(\n",
    "    norm_old, benign_tumor_old, malignant_tumor_old,\n",
    "    norm_new, benign_tumor_new, malignant_tumor_new,\n",
    ")"
   ]
  },
  {
   "cell_type": "code",
   "execution_count": 13,
   "id": "424de824",
   "metadata": {},
   "outputs": [],
   "source": [
    "df.to_excel(excel_writer=defs.ETLED_DATA_PATH_step_3, index=False)"
   ]
  }
 ],
 "metadata": {
  "kernelspec": {
   "display_name": "Python 3",
   "language": "python",
   "name": "python3"
  },
  "language_info": {
   "codemirror_mode": {
    "name": "ipython",
    "version": 3
   },
   "file_extension": ".py",
   "mimetype": "text/x-python",
   "name": "python",
   "nbconvert_exporter": "python",
   "pygments_lexer": "ipython3",
   "version": "3.8.3"
  }
 },
 "nbformat": 4,
 "nbformat_minor": 5
}
