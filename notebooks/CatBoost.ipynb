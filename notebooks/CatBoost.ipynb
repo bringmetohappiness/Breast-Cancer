{
 "cells": [
  {
   "cell_type": "markdown",
   "id": "eeab2eb1",
   "metadata": {},
   "source": [
    "# CatBoost"
   ]
  },
  {
   "cell_type": "markdown",
   "id": "4a7b46cf",
   "metadata": {},
   "source": [
    "## Навигация\n",
    "\n",
    "- [Оптимизация гиперпараметров с кросс-валидацией](#Оптимизация-гиперпараметров-с-кросс-валидацией)\n",
    "- [Refit на всём X_train](#Refit-на-всём-X_train)\n",
    "- [Perfomance на X_test](#Perfomance-на-X_test)"
   ]
  },
  {
   "cell_type": "code",
   "execution_count": 1,
   "id": "924c7631",
   "metadata": {},
   "outputs": [],
   "source": [
    "import os\n",
    "import sys\n",
    "sys.path.append('..')\n",
    "from typing import Dict\n",
    "\n",
    "import catboost\n",
    "import optuna\n",
    "import pandas as pd\n",
    "import numpy as np\n",
    "\n",
    "import sklearn\n",
    "from sklearn.model_selection import train_test_split\n",
    "from sklearn.model_selection import cross_val_score\n",
    "from sklearn.model_selection import StratifiedShuffleSplit\n",
    "from sklearn.pipeline import Pipeline\n",
    "from sklearn.compose import ColumnTransformer\n",
    "from sklearn.impute import KNNImputer\n",
    "from sklearn.impute import SimpleImputer\n",
    "\n",
    "from my_ds_tools.classification import my_multiclass_classification_report\n",
    "import src"
   ]
  },
  {
   "cell_type": "code",
   "execution_count": 2,
   "id": "22bdc752",
   "metadata": {},
   "outputs": [],
   "source": [
    "optuna.logging.set_verbosity(optuna.logging.WARNING)"
   ]
  },
  {
   "cell_type": "code",
   "execution_count": 3,
   "id": "ed15f2db",
   "metadata": {},
   "outputs": [],
   "source": [
    "DATA_PATH = os.path.join('..', 'data', 'encoded', 'encoded.csv')\n",
    "\n",
    "N_TRIALS = 5\n",
    "N_SPLITS = 10\n",
    "\n",
    "CAT_FEATURES = sorted(list(src.constants.CATEGORICAL_FEATURES))\n",
    "FEATURES_TO_IMPUT = [src.constants.QUESTION_2]\n",
    "USEFUL_FOR_IMPUT = [\n",
    "    src.constants.QUESTION_6, src.constants.QUESTION_8, src.constants.QUESTION_31,\n",
    "    src.constants.QUESTION_32, src.constants.QUESTION_33, src.constants.QUESTION_34,\n",
    "    src.constants.QUESTION_35,\n",
    "]"
   ]
  },
  {
   "cell_type": "code",
   "execution_count": 4,
   "id": "bc68706c",
   "metadata": {},
   "outputs": [],
   "source": [
    "data = pd.read_csv(DATA_PATH)\n",
    "\n",
    "y = data[src.constants.TARGET]\n",
    "X = data.drop(columns=src.constants.TARGET)\n",
    "X_train, X_test, y_train, y_test = train_test_split(X, y, stratify=y, random_state=src.constants.RANDOM_STATE)"
   ]
  },
  {
   "cell_type": "markdown",
   "id": "132ef55a",
   "metadata": {},
   "source": [
    "## Оптимизация гиперпараметров с кросс-валидацией\n",
    "\n",
    "[К навигации](#Навигация)"
   ]
  },
  {
   "cell_type": "code",
   "execution_count": 5,
   "id": "b3053df0",
   "metadata": {},
   "outputs": [],
   "source": [
    "def objective(trial: optuna.trial.Trial) -> float:\n",
    "    \"\"\"Целевая функция для оптимизации гиперпараметров.\"\"\"\n",
    "    model = get_model(trial, mode='fit')\n",
    "    scores = cross_val_score(\n",
    "        estimator=model,\n",
    "        X=X_train,\n",
    "        y=y_train,\n",
    "        scoring='accuracy',\n",
    "        cv=StratifiedShuffleSplit(n_splits=N_SPLITS, random_state=src.constants.RANDOM_STATE),\n",
    "        n_jobs=-1,\n",
    "    )\n",
    "    \n",
    "    return scores.mean()\n",
    "\n",
    "\n",
    "def get_model(trial: optuna.trial.Trial, mode: str) -> sklearn.pipeline.Pipeline:\n",
    "    preprocessing = ColumnTransformer(\n",
    "        transformers=[\n",
    "            ('knn_imputer', KNNImputer(), FEATURES_TO_IMPUT + USEFUL_FOR_IMPUT),\n",
    "            ('constant_imputer', SimpleImputer(strategy='constant', fill_value='пропуск'), CAT_FEATURES),\n",
    "        ],\n",
    "        remainder='passthrough',\n",
    "        verbose_feature_names_out=False,\n",
    "    ).set_output(transform='pandas')\n",
    "\n",
    "    catboost_model = catboost.CatBoostClassifier(**get_init_hyperparams(trial, mode))\n",
    "\n",
    "    pipe = Pipeline([\n",
    "        ('preprocessing', preprocessing),\n",
    "        ('catboost', catboost_model),\n",
    "    ])\n",
    "\n",
    "    return pipe\n",
    "\n",
    "\n",
    "def get_init_hyperparams(trial: optuna.trial.Trial, mode: str) -> Dict:\n",
    "    if mode == 'fit':\n",
    "        max_depth = trial.suggest_int('max_depth', 1, 5)\n",
    "        max_\n",
    "    elif mode == 'refit':\n",
    "        max_depth = trial.params['max_depth']\n",
    "    else:\n",
    "        assert False, 'ABOBA'\n",
    "\n",
    "    init_hyperparams = dict(\n",
    "        max_depth=max_depth,\n",
    "        cat_features=CAT_FEATURES,\n",
    "        verbose=0,\n",
    "        random_state=src.constants.RANDOM_STATE,\n",
    "    )\n",
    "\n",
    "    return init_hyperparams"
   ]
  },
  {
   "cell_type": "code",
   "execution_count": 6,
   "id": "487c58b3",
   "metadata": {},
   "outputs": [
    {
     "data": {
      "application/vnd.jupyter.widget-view+json": {
       "model_id": "e6c995db490c4bdb9e443f0cd31c1fb9",
       "version_major": 2,
       "version_minor": 0
      },
      "text/plain": [
       "  0%|          | 0/5 [00:00<?, ?it/s]"
      ]
     },
     "metadata": {},
     "output_type": "display_data"
    }
   ],
   "source": [
    "study = optuna.create_study(\n",
    "    sampler=optuna.samplers.TPESampler(seed=src.constants.RANDOM_STATE),\n",
    "    direction='maximize',\n",
    "    study_name='catboost',\n",
    ")\n",
    "study.optimize(objective, n_trials=N_TRIALS, show_progress_bar=True)"
   ]
  },
  {
   "cell_type": "code",
   "execution_count": 7,
   "id": "f6546b97",
   "metadata": {},
   "outputs": [
    {
     "name": "stdout",
     "output_type": "stream",
     "text": [
      "Лучшие гиперпараметры:\n",
      "* max_depth: 5\n",
      "Лучший mean Accuracy: 0.6977777777777778\n"
     ]
    }
   ],
   "source": [
    "print('Лучшие гиперпараметры:')\n",
    "for hyperparam, value in study.best_trial.params.items():\n",
    "    print(f'* {hyperparam}: {value}')\n",
    "print(f'Лучший mean Accuracy: {study.best_trial.value}')"
   ]
  },
  {
   "cell_type": "code",
   "execution_count": 8,
   "id": "47f6a03a",
   "metadata": {},
   "outputs": [
    {
     "data": {
      "text/html": [
       "<style>#sk-container-id-1 {color: black;}#sk-container-id-1 pre{padding: 0;}#sk-container-id-1 div.sk-toggleable {background-color: white;}#sk-container-id-1 label.sk-toggleable__label {cursor: pointer;display: block;width: 100%;margin-bottom: 0;padding: 0.3em;box-sizing: border-box;text-align: center;}#sk-container-id-1 label.sk-toggleable__label-arrow:before {content: \"▸\";float: left;margin-right: 0.25em;color: #696969;}#sk-container-id-1 label.sk-toggleable__label-arrow:hover:before {color: black;}#sk-container-id-1 div.sk-estimator:hover label.sk-toggleable__label-arrow:before {color: black;}#sk-container-id-1 div.sk-toggleable__content {max-height: 0;max-width: 0;overflow: hidden;text-align: left;background-color: #f0f8ff;}#sk-container-id-1 div.sk-toggleable__content pre {margin: 0.2em;color: black;border-radius: 0.25em;background-color: #f0f8ff;}#sk-container-id-1 input.sk-toggleable__control:checked~div.sk-toggleable__content {max-height: 200px;max-width: 100%;overflow: auto;}#sk-container-id-1 input.sk-toggleable__control:checked~label.sk-toggleable__label-arrow:before {content: \"▾\";}#sk-container-id-1 div.sk-estimator input.sk-toggleable__control:checked~label.sk-toggleable__label {background-color: #d4ebff;}#sk-container-id-1 div.sk-label input.sk-toggleable__control:checked~label.sk-toggleable__label {background-color: #d4ebff;}#sk-container-id-1 input.sk-hidden--visually {border: 0;clip: rect(1px 1px 1px 1px);clip: rect(1px, 1px, 1px, 1px);height: 1px;margin: -1px;overflow: hidden;padding: 0;position: absolute;width: 1px;}#sk-container-id-1 div.sk-estimator {font-family: monospace;background-color: #f0f8ff;border: 1px dotted black;border-radius: 0.25em;box-sizing: border-box;margin-bottom: 0.5em;}#sk-container-id-1 div.sk-estimator:hover {background-color: #d4ebff;}#sk-container-id-1 div.sk-parallel-item::after {content: \"\";width: 100%;border-bottom: 1px solid gray;flex-grow: 1;}#sk-container-id-1 div.sk-label:hover label.sk-toggleable__label {background-color: #d4ebff;}#sk-container-id-1 div.sk-serial::before {content: \"\";position: absolute;border-left: 1px solid gray;box-sizing: border-box;top: 0;bottom: 0;left: 50%;z-index: 0;}#sk-container-id-1 div.sk-serial {display: flex;flex-direction: column;align-items: center;background-color: white;padding-right: 0.2em;padding-left: 0.2em;position: relative;}#sk-container-id-1 div.sk-item {position: relative;z-index: 1;}#sk-container-id-1 div.sk-parallel {display: flex;align-items: stretch;justify-content: center;background-color: white;position: relative;}#sk-container-id-1 div.sk-item::before, #sk-container-id-1 div.sk-parallel-item::before {content: \"\";position: absolute;border-left: 1px solid gray;box-sizing: border-box;top: 0;bottom: 0;left: 50%;z-index: -1;}#sk-container-id-1 div.sk-parallel-item {display: flex;flex-direction: column;z-index: 1;position: relative;background-color: white;}#sk-container-id-1 div.sk-parallel-item:first-child::after {align-self: flex-end;width: 50%;}#sk-container-id-1 div.sk-parallel-item:last-child::after {align-self: flex-start;width: 50%;}#sk-container-id-1 div.sk-parallel-item:only-child::after {width: 0;}#sk-container-id-1 div.sk-dashed-wrapped {border: 1px dashed gray;margin: 0 0.4em 0.5em 0.4em;box-sizing: border-box;padding-bottom: 0.4em;background-color: white;}#sk-container-id-1 div.sk-label label {font-family: monospace;font-weight: bold;display: inline-block;line-height: 1.2em;}#sk-container-id-1 div.sk-label-container {text-align: center;}#sk-container-id-1 div.sk-container {/* jupyter's `normalize.less` sets `[hidden] { display: none; }` but bootstrap.min.css set `[hidden] { display: none !important; }` so we also need the `!important` here to be able to override the default hidden behavior on the sphinx rendered scikit-learn.org. See: https://github.com/scikit-learn/scikit-learn/issues/21755 */display: inline-block !important;position: relative;}#sk-container-id-1 div.sk-text-repr-fallback {display: none;}</style><div id=\"sk-container-id-1\" class=\"sk-top-container\"><div class=\"sk-text-repr-fallback\"><pre>Pipeline(steps=[(&#x27;preprocessing&#x27;,\n",
       "                 ColumnTransformer(remainder=&#x27;passthrough&#x27;,\n",
       "                                   transformers=[(&#x27;knn_imputer&#x27;, KNNImputer(),\n",
       "                                                  [&#x27;2. Возраст&#x27;,\n",
       "                                                   &#x27;6. Жив ли хотя бы один из &#x27;\n",
       "                                                   &#x27;Ваших родителей (да/нет)?&#x27;,\n",
       "                                                   &#x27;8. Есть ли у Вас дети &#x27;\n",
       "                                                   &#x27;(да/нет)?&#x27;,\n",
       "                                                   &#x27;31. Количество родов&#x27;,\n",
       "                                                   &#x27;32. Количество прерванных &#x27;\n",
       "                                                   &#x27;беременностей&#x27;,\n",
       "                                                   &#x27;33. Гинекологические &#x27;\n",
       "                                                   &#x27;заболевания (да/нет)&#x27;,\n",
       "                                                   &#x27;34. Заболевания щитовидной &#x27;\n",
       "                                                   &#x27;железы (да/нет)&#x27;,\n",
       "                                                   &#x27;35. Наследственность &#x27;\n",
       "                                                   &#x27;(да/нет)&#x27;]),\n",
       "                                                 (&#x27;constant_imputer&#x27;,\n",
       "                                                  SimpleImputer(fill_value=&#x27;пропуск&#x27;,\n",
       "                                                                strategy=&#x27;constant&#x27;),\n",
       "                                                  [&#x27;23. Каков тип Вашего дома?&#x27;,\n",
       "                                                   &#x27;25. Каким транспортом Вы &#x27;\n",
       "                                                   &#x27;обычно пользуетесь?&#x27;,\n",
       "                                                   &#x27;3. Семейное положение&#x27;])],\n",
       "                                   verbose_feature_names_out=False)),\n",
       "                (&#x27;catboost&#x27;,\n",
       "                 &lt;catboost.core.CatBoostClassifier object at 0x000001C0099EE500&gt;)])</pre><b>In a Jupyter environment, please rerun this cell to show the HTML representation or trust the notebook. <br />On GitHub, the HTML representation is unable to render, please try loading this page with nbviewer.org.</b></div><div class=\"sk-container\" hidden><div class=\"sk-item sk-dashed-wrapped\"><div class=\"sk-label-container\"><div class=\"sk-label sk-toggleable\"><input class=\"sk-toggleable__control sk-hidden--visually\" id=\"sk-estimator-id-1\" type=\"checkbox\" ><label for=\"sk-estimator-id-1\" class=\"sk-toggleable__label sk-toggleable__label-arrow\">Pipeline</label><div class=\"sk-toggleable__content\"><pre>Pipeline(steps=[(&#x27;preprocessing&#x27;,\n",
       "                 ColumnTransformer(remainder=&#x27;passthrough&#x27;,\n",
       "                                   transformers=[(&#x27;knn_imputer&#x27;, KNNImputer(),\n",
       "                                                  [&#x27;2. Возраст&#x27;,\n",
       "                                                   &#x27;6. Жив ли хотя бы один из &#x27;\n",
       "                                                   &#x27;Ваших родителей (да/нет)?&#x27;,\n",
       "                                                   &#x27;8. Есть ли у Вас дети &#x27;\n",
       "                                                   &#x27;(да/нет)?&#x27;,\n",
       "                                                   &#x27;31. Количество родов&#x27;,\n",
       "                                                   &#x27;32. Количество прерванных &#x27;\n",
       "                                                   &#x27;беременностей&#x27;,\n",
       "                                                   &#x27;33. Гинекологические &#x27;\n",
       "                                                   &#x27;заболевания (да/нет)&#x27;,\n",
       "                                                   &#x27;34. Заболевания щитовидной &#x27;\n",
       "                                                   &#x27;железы (да/нет)&#x27;,\n",
       "                                                   &#x27;35. Наследственность &#x27;\n",
       "                                                   &#x27;(да/нет)&#x27;]),\n",
       "                                                 (&#x27;constant_imputer&#x27;,\n",
       "                                                  SimpleImputer(fill_value=&#x27;пропуск&#x27;,\n",
       "                                                                strategy=&#x27;constant&#x27;),\n",
       "                                                  [&#x27;23. Каков тип Вашего дома?&#x27;,\n",
       "                                                   &#x27;25. Каким транспортом Вы &#x27;\n",
       "                                                   &#x27;обычно пользуетесь?&#x27;,\n",
       "                                                   &#x27;3. Семейное положение&#x27;])],\n",
       "                                   verbose_feature_names_out=False)),\n",
       "                (&#x27;catboost&#x27;,\n",
       "                 &lt;catboost.core.CatBoostClassifier object at 0x000001C0099EE500&gt;)])</pre></div></div></div><div class=\"sk-serial\"><div class=\"sk-item sk-dashed-wrapped\"><div class=\"sk-label-container\"><div class=\"sk-label sk-toggleable\"><input class=\"sk-toggleable__control sk-hidden--visually\" id=\"sk-estimator-id-2\" type=\"checkbox\" ><label for=\"sk-estimator-id-2\" class=\"sk-toggleable__label sk-toggleable__label-arrow\">preprocessing: ColumnTransformer</label><div class=\"sk-toggleable__content\"><pre>ColumnTransformer(remainder=&#x27;passthrough&#x27;,\n",
       "                  transformers=[(&#x27;knn_imputer&#x27;, KNNImputer(),\n",
       "                                 [&#x27;2. Возраст&#x27;,\n",
       "                                  &#x27;6. Жив ли хотя бы один из Ваших родителей &#x27;\n",
       "                                  &#x27;(да/нет)?&#x27;,\n",
       "                                  &#x27;8. Есть ли у Вас дети (да/нет)?&#x27;,\n",
       "                                  &#x27;31. Количество родов&#x27;,\n",
       "                                  &#x27;32. Количество прерванных беременностей&#x27;,\n",
       "                                  &#x27;33. Гинекологические заболевания (да/нет)&#x27;,\n",
       "                                  &#x27;34. Заболевания щитовидной железы (да/нет)&#x27;,\n",
       "                                  &#x27;35. Наследственность (да/нет)&#x27;]),\n",
       "                                (&#x27;constant_imputer&#x27;,\n",
       "                                 SimpleImputer(fill_value=&#x27;пропуск&#x27;,\n",
       "                                               strategy=&#x27;constant&#x27;),\n",
       "                                 [&#x27;23. Каков тип Вашего дома?&#x27;,\n",
       "                                  &#x27;25. Каким транспортом Вы обычно &#x27;\n",
       "                                  &#x27;пользуетесь?&#x27;,\n",
       "                                  &#x27;3. Семейное положение&#x27;])],\n",
       "                  verbose_feature_names_out=False)</pre></div></div></div><div class=\"sk-parallel\"><div class=\"sk-parallel-item\"><div class=\"sk-item\"><div class=\"sk-label-container\"><div class=\"sk-label sk-toggleable\"><input class=\"sk-toggleable__control sk-hidden--visually\" id=\"sk-estimator-id-3\" type=\"checkbox\" ><label for=\"sk-estimator-id-3\" class=\"sk-toggleable__label sk-toggleable__label-arrow\">knn_imputer</label><div class=\"sk-toggleable__content\"><pre>[&#x27;2. Возраст&#x27;, &#x27;6. Жив ли хотя бы один из Ваших родителей (да/нет)?&#x27;, &#x27;8. Есть ли у Вас дети (да/нет)?&#x27;, &#x27;31. Количество родов&#x27;, &#x27;32. Количество прерванных беременностей&#x27;, &#x27;33. Гинекологические заболевания (да/нет)&#x27;, &#x27;34. Заболевания щитовидной железы (да/нет)&#x27;, &#x27;35. Наследственность (да/нет)&#x27;]</pre></div></div></div><div class=\"sk-serial\"><div class=\"sk-item\"><div class=\"sk-estimator sk-toggleable\"><input class=\"sk-toggleable__control sk-hidden--visually\" id=\"sk-estimator-id-4\" type=\"checkbox\" ><label for=\"sk-estimator-id-4\" class=\"sk-toggleable__label sk-toggleable__label-arrow\">KNNImputer</label><div class=\"sk-toggleable__content\"><pre>KNNImputer()</pre></div></div></div></div></div></div><div class=\"sk-parallel-item\"><div class=\"sk-item\"><div class=\"sk-label-container\"><div class=\"sk-label sk-toggleable\"><input class=\"sk-toggleable__control sk-hidden--visually\" id=\"sk-estimator-id-5\" type=\"checkbox\" ><label for=\"sk-estimator-id-5\" class=\"sk-toggleable__label sk-toggleable__label-arrow\">constant_imputer</label><div class=\"sk-toggleable__content\"><pre>[&#x27;23. Каков тип Вашего дома?&#x27;, &#x27;25. Каким транспортом Вы обычно пользуетесь?&#x27;, &#x27;3. Семейное положение&#x27;]</pre></div></div></div><div class=\"sk-serial\"><div class=\"sk-item\"><div class=\"sk-estimator sk-toggleable\"><input class=\"sk-toggleable__control sk-hidden--visually\" id=\"sk-estimator-id-6\" type=\"checkbox\" ><label for=\"sk-estimator-id-6\" class=\"sk-toggleable__label sk-toggleable__label-arrow\">SimpleImputer</label><div class=\"sk-toggleable__content\"><pre>SimpleImputer(fill_value=&#x27;пропуск&#x27;, strategy=&#x27;constant&#x27;)</pre></div></div></div></div></div></div><div class=\"sk-parallel-item\"><div class=\"sk-item\"><div class=\"sk-label-container\"><div class=\"sk-label sk-toggleable\"><input class=\"sk-toggleable__control sk-hidden--visually\" id=\"sk-estimator-id-7\" type=\"checkbox\" ><label for=\"sk-estimator-id-7\" class=\"sk-toggleable__label sk-toggleable__label-arrow\">remainder</label><div class=\"sk-toggleable__content\"><pre>[&#x27;4. Если имеете супруга или партнера, как долго вы живете вместе (в годах)?&#x27;, &#x27;5. В какой семье Вы выросли?&#x27;, &#x27;7. Если да, как часто вы общаетесь?&#x27;, &#x27;9. Если да, сколько?&#x27;, &#x27;10. Есть ли у Вас совершеннолетние дети (да/нет)?&#x27;, &#x27;11. Если да, как часто вы общаетесь?&#x27;, &#x27;12. Сколько человек живут вместе с Вами?&#x27;, &#x27;13. Каковы Ваши взаимоотношения с соседями?&#x27;, &#x27;14. Как часто Вы встречаетесь с друзьями?&#x27;, &#x27;15. Есть ли у Вас домашние питомцы (да/нет)?&#x27;, &#x27;16. В течение последних 7 дней, как часто Вы практиковали тяжелые физические нагрузки?&#x27;, &#x27;17. В течение последних 7 дней, как часто Вы практиковали умеренные физические нагрузки?&#x27;, &#x27;18. В течение последних 7 дней, как часто Вы ходили пешком минимум 10 минут без перерыва?&#x27;, &#x27;19. Уровень Вашего образования?&#x27;, &#x27;20. Каков уровень образования Вашего партнера (если применимо)?&#x27;, &#x27;22. Как долго Вы проживаете в этом месте (в годах)?&#x27;, &#x27;24. Если Вы живете в многоквартирном доме, то на каком этаже?&#x27;, &#x27;26. Сколько времени занимает Ваш путь до работы в одну сторону?&#x27;, &#x27;27. Каков тип Вашей занятости?&#x27;, &#x27;28. Каковы Ваши предпочтения в пище?&#x27;, &#x27;29. Каков тип Вашего питания?&#x27;, &#x27;30. Вы курите (да/нет)?&#x27;]</pre></div></div></div><div class=\"sk-serial\"><div class=\"sk-item\"><div class=\"sk-estimator sk-toggleable\"><input class=\"sk-toggleable__control sk-hidden--visually\" id=\"sk-estimator-id-8\" type=\"checkbox\" ><label for=\"sk-estimator-id-8\" class=\"sk-toggleable__label sk-toggleable__label-arrow\">passthrough</label><div class=\"sk-toggleable__content\"><pre>passthrough</pre></div></div></div></div></div></div></div></div><div class=\"sk-item\"><div class=\"sk-estimator sk-toggleable\"><input class=\"sk-toggleable__control sk-hidden--visually\" id=\"sk-estimator-id-9\" type=\"checkbox\" ><label for=\"sk-estimator-id-9\" class=\"sk-toggleable__label sk-toggleable__label-arrow\">CatBoostClassifier</label><div class=\"sk-toggleable__content\"><pre>&lt;catboost.core.CatBoostClassifier object at 0x000001C0099EE500&gt;</pre></div></div></div></div></div></div></div>"
      ],
      "text/plain": [
       "Pipeline(steps=[('preprocessing',\n",
       "                 ColumnTransformer(remainder='passthrough',\n",
       "                                   transformers=[('knn_imputer', KNNImputer(),\n",
       "                                                  ['2. Возраст',\n",
       "                                                   '6. Жив ли хотя бы один из '\n",
       "                                                   'Ваших родителей (да/нет)?',\n",
       "                                                   '8. Есть ли у Вас дети '\n",
       "                                                   '(да/нет)?',\n",
       "                                                   '31. Количество родов',\n",
       "                                                   '32. Количество прерванных '\n",
       "                                                   'беременностей',\n",
       "                                                   '33. Гинекологические '\n",
       "                                                   'заболевания (да/нет)',\n",
       "                                                   '34. Заболевания щитовидной '\n",
       "                                                   'железы (да/нет)',\n",
       "                                                   '35. Наследственность '\n",
       "                                                   '(да/нет)']),\n",
       "                                                 ('constant_imputer',\n",
       "                                                  SimpleImputer(fill_value='пропуск',\n",
       "                                                                strategy='constant'),\n",
       "                                                  ['23. Каков тип Вашего дома?',\n",
       "                                                   '25. Каким транспортом Вы '\n",
       "                                                   'обычно пользуетесь?',\n",
       "                                                   '3. Семейное положение'])],\n",
       "                                   verbose_feature_names_out=False)),\n",
       "                ('catboost',\n",
       "                 <catboost.core.CatBoostClassifier object at 0x000001C0099EE500>)])"
      ]
     },
     "execution_count": 8,
     "metadata": {},
     "output_type": "execute_result"
    }
   ],
   "source": [
    "model = get_model(study.best_trial, mode='refit')\n",
    "model.fit(X_train, y_train)"
   ]
  },
  {
   "cell_type": "markdown",
   "id": "a61af207",
   "metadata": {},
   "source": [
    "## Refit на всём X_train\n",
    "\n",
    "[К навигации](#Навигация)"
   ]
  },
  {
   "cell_type": "code",
   "execution_count": 9,
   "id": "f5fc9b7e",
   "metadata": {},
   "outputs": [
    {
     "data": {
      "text/html": [
       "<style>#sk-container-id-2 {color: black;}#sk-container-id-2 pre{padding: 0;}#sk-container-id-2 div.sk-toggleable {background-color: white;}#sk-container-id-2 label.sk-toggleable__label {cursor: pointer;display: block;width: 100%;margin-bottom: 0;padding: 0.3em;box-sizing: border-box;text-align: center;}#sk-container-id-2 label.sk-toggleable__label-arrow:before {content: \"▸\";float: left;margin-right: 0.25em;color: #696969;}#sk-container-id-2 label.sk-toggleable__label-arrow:hover:before {color: black;}#sk-container-id-2 div.sk-estimator:hover label.sk-toggleable__label-arrow:before {color: black;}#sk-container-id-2 div.sk-toggleable__content {max-height: 0;max-width: 0;overflow: hidden;text-align: left;background-color: #f0f8ff;}#sk-container-id-2 div.sk-toggleable__content pre {margin: 0.2em;color: black;border-radius: 0.25em;background-color: #f0f8ff;}#sk-container-id-2 input.sk-toggleable__control:checked~div.sk-toggleable__content {max-height: 200px;max-width: 100%;overflow: auto;}#sk-container-id-2 input.sk-toggleable__control:checked~label.sk-toggleable__label-arrow:before {content: \"▾\";}#sk-container-id-2 div.sk-estimator input.sk-toggleable__control:checked~label.sk-toggleable__label {background-color: #d4ebff;}#sk-container-id-2 div.sk-label input.sk-toggleable__control:checked~label.sk-toggleable__label {background-color: #d4ebff;}#sk-container-id-2 input.sk-hidden--visually {border: 0;clip: rect(1px 1px 1px 1px);clip: rect(1px, 1px, 1px, 1px);height: 1px;margin: -1px;overflow: hidden;padding: 0;position: absolute;width: 1px;}#sk-container-id-2 div.sk-estimator {font-family: monospace;background-color: #f0f8ff;border: 1px dotted black;border-radius: 0.25em;box-sizing: border-box;margin-bottom: 0.5em;}#sk-container-id-2 div.sk-estimator:hover {background-color: #d4ebff;}#sk-container-id-2 div.sk-parallel-item::after {content: \"\";width: 100%;border-bottom: 1px solid gray;flex-grow: 1;}#sk-container-id-2 div.sk-label:hover label.sk-toggleable__label {background-color: #d4ebff;}#sk-container-id-2 div.sk-serial::before {content: \"\";position: absolute;border-left: 1px solid gray;box-sizing: border-box;top: 0;bottom: 0;left: 50%;z-index: 0;}#sk-container-id-2 div.sk-serial {display: flex;flex-direction: column;align-items: center;background-color: white;padding-right: 0.2em;padding-left: 0.2em;position: relative;}#sk-container-id-2 div.sk-item {position: relative;z-index: 1;}#sk-container-id-2 div.sk-parallel {display: flex;align-items: stretch;justify-content: center;background-color: white;position: relative;}#sk-container-id-2 div.sk-item::before, #sk-container-id-2 div.sk-parallel-item::before {content: \"\";position: absolute;border-left: 1px solid gray;box-sizing: border-box;top: 0;bottom: 0;left: 50%;z-index: -1;}#sk-container-id-2 div.sk-parallel-item {display: flex;flex-direction: column;z-index: 1;position: relative;background-color: white;}#sk-container-id-2 div.sk-parallel-item:first-child::after {align-self: flex-end;width: 50%;}#sk-container-id-2 div.sk-parallel-item:last-child::after {align-self: flex-start;width: 50%;}#sk-container-id-2 div.sk-parallel-item:only-child::after {width: 0;}#sk-container-id-2 div.sk-dashed-wrapped {border: 1px dashed gray;margin: 0 0.4em 0.5em 0.4em;box-sizing: border-box;padding-bottom: 0.4em;background-color: white;}#sk-container-id-2 div.sk-label label {font-family: monospace;font-weight: bold;display: inline-block;line-height: 1.2em;}#sk-container-id-2 div.sk-label-container {text-align: center;}#sk-container-id-2 div.sk-container {/* jupyter's `normalize.less` sets `[hidden] { display: none; }` but bootstrap.min.css set `[hidden] { display: none !important; }` so we also need the `!important` here to be able to override the default hidden behavior on the sphinx rendered scikit-learn.org. See: https://github.com/scikit-learn/scikit-learn/issues/21755 */display: inline-block !important;position: relative;}#sk-container-id-2 div.sk-text-repr-fallback {display: none;}</style><div id=\"sk-container-id-2\" class=\"sk-top-container\"><div class=\"sk-text-repr-fallback\"><pre>Pipeline(steps=[(&#x27;preprocessing&#x27;,\n",
       "                 ColumnTransformer(remainder=&#x27;passthrough&#x27;,\n",
       "                                   transformers=[(&#x27;knn_imputer&#x27;, KNNImputer(),\n",
       "                                                  [&#x27;2. Возраст&#x27;,\n",
       "                                                   &#x27;6. Жив ли хотя бы один из &#x27;\n",
       "                                                   &#x27;Ваших родителей (да/нет)?&#x27;,\n",
       "                                                   &#x27;8. Есть ли у Вас дети &#x27;\n",
       "                                                   &#x27;(да/нет)?&#x27;,\n",
       "                                                   &#x27;31. Количество родов&#x27;,\n",
       "                                                   &#x27;32. Количество прерванных &#x27;\n",
       "                                                   &#x27;беременностей&#x27;,\n",
       "                                                   &#x27;33. Гинекологические &#x27;\n",
       "                                                   &#x27;заболевания (да/нет)&#x27;,\n",
       "                                                   &#x27;34. Заболевания щитовидной &#x27;\n",
       "                                                   &#x27;железы (да/нет)&#x27;,\n",
       "                                                   &#x27;35. Наследственность &#x27;\n",
       "                                                   &#x27;(да/нет)&#x27;]),\n",
       "                                                 (&#x27;constant_imputer&#x27;,\n",
       "                                                  SimpleImputer(fill_value=&#x27;пропуск&#x27;,\n",
       "                                                                strategy=&#x27;constant&#x27;),\n",
       "                                                  [&#x27;23. Каков тип Вашего дома?&#x27;,\n",
       "                                                   &#x27;25. Каким транспортом Вы &#x27;\n",
       "                                                   &#x27;обычно пользуетесь?&#x27;,\n",
       "                                                   &#x27;3. Семейное положение&#x27;])],\n",
       "                                   verbose_feature_names_out=False)),\n",
       "                (&#x27;catboost&#x27;,\n",
       "                 &lt;catboost.core.CatBoostClassifier object at 0x000001C0099EF3D0&gt;)])</pre><b>In a Jupyter environment, please rerun this cell to show the HTML representation or trust the notebook. <br />On GitHub, the HTML representation is unable to render, please try loading this page with nbviewer.org.</b></div><div class=\"sk-container\" hidden><div class=\"sk-item sk-dashed-wrapped\"><div class=\"sk-label-container\"><div class=\"sk-label sk-toggleable\"><input class=\"sk-toggleable__control sk-hidden--visually\" id=\"sk-estimator-id-10\" type=\"checkbox\" ><label for=\"sk-estimator-id-10\" class=\"sk-toggleable__label sk-toggleable__label-arrow\">Pipeline</label><div class=\"sk-toggleable__content\"><pre>Pipeline(steps=[(&#x27;preprocessing&#x27;,\n",
       "                 ColumnTransformer(remainder=&#x27;passthrough&#x27;,\n",
       "                                   transformers=[(&#x27;knn_imputer&#x27;, KNNImputer(),\n",
       "                                                  [&#x27;2. Возраст&#x27;,\n",
       "                                                   &#x27;6. Жив ли хотя бы один из &#x27;\n",
       "                                                   &#x27;Ваших родителей (да/нет)?&#x27;,\n",
       "                                                   &#x27;8. Есть ли у Вас дети &#x27;\n",
       "                                                   &#x27;(да/нет)?&#x27;,\n",
       "                                                   &#x27;31. Количество родов&#x27;,\n",
       "                                                   &#x27;32. Количество прерванных &#x27;\n",
       "                                                   &#x27;беременностей&#x27;,\n",
       "                                                   &#x27;33. Гинекологические &#x27;\n",
       "                                                   &#x27;заболевания (да/нет)&#x27;,\n",
       "                                                   &#x27;34. Заболевания щитовидной &#x27;\n",
       "                                                   &#x27;железы (да/нет)&#x27;,\n",
       "                                                   &#x27;35. Наследственность &#x27;\n",
       "                                                   &#x27;(да/нет)&#x27;]),\n",
       "                                                 (&#x27;constant_imputer&#x27;,\n",
       "                                                  SimpleImputer(fill_value=&#x27;пропуск&#x27;,\n",
       "                                                                strategy=&#x27;constant&#x27;),\n",
       "                                                  [&#x27;23. Каков тип Вашего дома?&#x27;,\n",
       "                                                   &#x27;25. Каким транспортом Вы &#x27;\n",
       "                                                   &#x27;обычно пользуетесь?&#x27;,\n",
       "                                                   &#x27;3. Семейное положение&#x27;])],\n",
       "                                   verbose_feature_names_out=False)),\n",
       "                (&#x27;catboost&#x27;,\n",
       "                 &lt;catboost.core.CatBoostClassifier object at 0x000001C0099EF3D0&gt;)])</pre></div></div></div><div class=\"sk-serial\"><div class=\"sk-item sk-dashed-wrapped\"><div class=\"sk-label-container\"><div class=\"sk-label sk-toggleable\"><input class=\"sk-toggleable__control sk-hidden--visually\" id=\"sk-estimator-id-11\" type=\"checkbox\" ><label for=\"sk-estimator-id-11\" class=\"sk-toggleable__label sk-toggleable__label-arrow\">preprocessing: ColumnTransformer</label><div class=\"sk-toggleable__content\"><pre>ColumnTransformer(remainder=&#x27;passthrough&#x27;,\n",
       "                  transformers=[(&#x27;knn_imputer&#x27;, KNNImputer(),\n",
       "                                 [&#x27;2. Возраст&#x27;,\n",
       "                                  &#x27;6. Жив ли хотя бы один из Ваших родителей &#x27;\n",
       "                                  &#x27;(да/нет)?&#x27;,\n",
       "                                  &#x27;8. Есть ли у Вас дети (да/нет)?&#x27;,\n",
       "                                  &#x27;31. Количество родов&#x27;,\n",
       "                                  &#x27;32. Количество прерванных беременностей&#x27;,\n",
       "                                  &#x27;33. Гинекологические заболевания (да/нет)&#x27;,\n",
       "                                  &#x27;34. Заболевания щитовидной железы (да/нет)&#x27;,\n",
       "                                  &#x27;35. Наследственность (да/нет)&#x27;]),\n",
       "                                (&#x27;constant_imputer&#x27;,\n",
       "                                 SimpleImputer(fill_value=&#x27;пропуск&#x27;,\n",
       "                                               strategy=&#x27;constant&#x27;),\n",
       "                                 [&#x27;23. Каков тип Вашего дома?&#x27;,\n",
       "                                  &#x27;25. Каким транспортом Вы обычно &#x27;\n",
       "                                  &#x27;пользуетесь?&#x27;,\n",
       "                                  &#x27;3. Семейное положение&#x27;])],\n",
       "                  verbose_feature_names_out=False)</pre></div></div></div><div class=\"sk-parallel\"><div class=\"sk-parallel-item\"><div class=\"sk-item\"><div class=\"sk-label-container\"><div class=\"sk-label sk-toggleable\"><input class=\"sk-toggleable__control sk-hidden--visually\" id=\"sk-estimator-id-12\" type=\"checkbox\" ><label for=\"sk-estimator-id-12\" class=\"sk-toggleable__label sk-toggleable__label-arrow\">knn_imputer</label><div class=\"sk-toggleable__content\"><pre>[&#x27;2. Возраст&#x27;, &#x27;6. Жив ли хотя бы один из Ваших родителей (да/нет)?&#x27;, &#x27;8. Есть ли у Вас дети (да/нет)?&#x27;, &#x27;31. Количество родов&#x27;, &#x27;32. Количество прерванных беременностей&#x27;, &#x27;33. Гинекологические заболевания (да/нет)&#x27;, &#x27;34. Заболевания щитовидной железы (да/нет)&#x27;, &#x27;35. Наследственность (да/нет)&#x27;]</pre></div></div></div><div class=\"sk-serial\"><div class=\"sk-item\"><div class=\"sk-estimator sk-toggleable\"><input class=\"sk-toggleable__control sk-hidden--visually\" id=\"sk-estimator-id-13\" type=\"checkbox\" ><label for=\"sk-estimator-id-13\" class=\"sk-toggleable__label sk-toggleable__label-arrow\">KNNImputer</label><div class=\"sk-toggleable__content\"><pre>KNNImputer()</pre></div></div></div></div></div></div><div class=\"sk-parallel-item\"><div class=\"sk-item\"><div class=\"sk-label-container\"><div class=\"sk-label sk-toggleable\"><input class=\"sk-toggleable__control sk-hidden--visually\" id=\"sk-estimator-id-14\" type=\"checkbox\" ><label for=\"sk-estimator-id-14\" class=\"sk-toggleable__label sk-toggleable__label-arrow\">constant_imputer</label><div class=\"sk-toggleable__content\"><pre>[&#x27;23. Каков тип Вашего дома?&#x27;, &#x27;25. Каким транспортом Вы обычно пользуетесь?&#x27;, &#x27;3. Семейное положение&#x27;]</pre></div></div></div><div class=\"sk-serial\"><div class=\"sk-item\"><div class=\"sk-estimator sk-toggleable\"><input class=\"sk-toggleable__control sk-hidden--visually\" id=\"sk-estimator-id-15\" type=\"checkbox\" ><label for=\"sk-estimator-id-15\" class=\"sk-toggleable__label sk-toggleable__label-arrow\">SimpleImputer</label><div class=\"sk-toggleable__content\"><pre>SimpleImputer(fill_value=&#x27;пропуск&#x27;, strategy=&#x27;constant&#x27;)</pre></div></div></div></div></div></div><div class=\"sk-parallel-item\"><div class=\"sk-item\"><div class=\"sk-label-container\"><div class=\"sk-label sk-toggleable\"><input class=\"sk-toggleable__control sk-hidden--visually\" id=\"sk-estimator-id-16\" type=\"checkbox\" ><label for=\"sk-estimator-id-16\" class=\"sk-toggleable__label sk-toggleable__label-arrow\">remainder</label><div class=\"sk-toggleable__content\"><pre>[&#x27;4. Если имеете супруга или партнера, как долго вы живете вместе (в годах)?&#x27;, &#x27;5. В какой семье Вы выросли?&#x27;, &#x27;7. Если да, как часто вы общаетесь?&#x27;, &#x27;9. Если да, сколько?&#x27;, &#x27;10. Есть ли у Вас совершеннолетние дети (да/нет)?&#x27;, &#x27;11. Если да, как часто вы общаетесь?&#x27;, &#x27;12. Сколько человек живут вместе с Вами?&#x27;, &#x27;13. Каковы Ваши взаимоотношения с соседями?&#x27;, &#x27;14. Как часто Вы встречаетесь с друзьями?&#x27;, &#x27;15. Есть ли у Вас домашние питомцы (да/нет)?&#x27;, &#x27;16. В течение последних 7 дней, как часто Вы практиковали тяжелые физические нагрузки?&#x27;, &#x27;17. В течение последних 7 дней, как часто Вы практиковали умеренные физические нагрузки?&#x27;, &#x27;18. В течение последних 7 дней, как часто Вы ходили пешком минимум 10 минут без перерыва?&#x27;, &#x27;19. Уровень Вашего образования?&#x27;, &#x27;20. Каков уровень образования Вашего партнера (если применимо)?&#x27;, &#x27;22. Как долго Вы проживаете в этом месте (в годах)?&#x27;, &#x27;24. Если Вы живете в многоквартирном доме, то на каком этаже?&#x27;, &#x27;26. Сколько времени занимает Ваш путь до работы в одну сторону?&#x27;, &#x27;27. Каков тип Вашей занятости?&#x27;, &#x27;28. Каковы Ваши предпочтения в пище?&#x27;, &#x27;29. Каков тип Вашего питания?&#x27;, &#x27;30. Вы курите (да/нет)?&#x27;]</pre></div></div></div><div class=\"sk-serial\"><div class=\"sk-item\"><div class=\"sk-estimator sk-toggleable\"><input class=\"sk-toggleable__control sk-hidden--visually\" id=\"sk-estimator-id-17\" type=\"checkbox\" ><label for=\"sk-estimator-id-17\" class=\"sk-toggleable__label sk-toggleable__label-arrow\">passthrough</label><div class=\"sk-toggleable__content\"><pre>passthrough</pre></div></div></div></div></div></div></div></div><div class=\"sk-item\"><div class=\"sk-estimator sk-toggleable\"><input class=\"sk-toggleable__control sk-hidden--visually\" id=\"sk-estimator-id-18\" type=\"checkbox\" ><label for=\"sk-estimator-id-18\" class=\"sk-toggleable__label sk-toggleable__label-arrow\">CatBoostClassifier</label><div class=\"sk-toggleable__content\"><pre>&lt;catboost.core.CatBoostClassifier object at 0x000001C0099EF3D0&gt;</pre></div></div></div></div></div></div></div>"
      ],
      "text/plain": [
       "Pipeline(steps=[('preprocessing',\n",
       "                 ColumnTransformer(remainder='passthrough',\n",
       "                                   transformers=[('knn_imputer', KNNImputer(),\n",
       "                                                  ['2. Возраст',\n",
       "                                                   '6. Жив ли хотя бы один из '\n",
       "                                                   'Ваших родителей (да/нет)?',\n",
       "                                                   '8. Есть ли у Вас дети '\n",
       "                                                   '(да/нет)?',\n",
       "                                                   '31. Количество родов',\n",
       "                                                   '32. Количество прерванных '\n",
       "                                                   'беременностей',\n",
       "                                                   '33. Гинекологические '\n",
       "                                                   'заболевания (да/нет)',\n",
       "                                                   '34. Заболевания щитовидной '\n",
       "                                                   'железы (да/нет)',\n",
       "                                                   '35. Наследственность '\n",
       "                                                   '(да/нет)']),\n",
       "                                                 ('constant_imputer',\n",
       "                                                  SimpleImputer(fill_value='пропуск',\n",
       "                                                                strategy='constant'),\n",
       "                                                  ['23. Каков тип Вашего дома?',\n",
       "                                                   '25. Каким транспортом Вы '\n",
       "                                                   'обычно пользуетесь?',\n",
       "                                                   '3. Семейное положение'])],\n",
       "                                   verbose_feature_names_out=False)),\n",
       "                ('catboost',\n",
       "                 <catboost.core.CatBoostClassifier object at 0x000001C0099EF3D0>)])"
      ]
     },
     "execution_count": 9,
     "metadata": {},
     "output_type": "execute_result"
    }
   ],
   "source": [
    "model = get_model(study.best_trial, mode='refit')\n",
    "model.fit(X_train, y_train)"
   ]
  },
  {
   "cell_type": "markdown",
   "id": "2b50e326",
   "metadata": {},
   "source": [
    "## Perfomance на X_test\n",
    "\n",
    "[К навигации](#Навигация)"
   ]
  },
  {
   "cell_type": "code",
   "execution_count": 10,
   "id": "9b3cb8b5",
   "metadata": {},
   "outputs": [
    {
     "data": {
      "image/png": "[encoded data removed]",
      "text/plain": [
       "<Figure size 640x480 with 1 Axes>"
      ]
     },
     "metadata": {},
     "output_type": "display_data"
    },
    {
     "name": "stdout",
     "output_type": "stream",
     "text": [
      "                           precision    recall  f1-score   support\n",
      "\n",
      "доброкачественная опухоль       0.65      0.70      0.67        50\n",
      "  злокачественная опухоль       0.61      0.66      0.63        50\n",
      "                    норма       0.56      0.47      0.51        49\n",
      "\n",
      "                 accuracy                           0.61       149\n",
      "                macro avg       0.61      0.61      0.61       149\n",
      "             weighted avg       0.61      0.61      0.61       149\n",
      "\n"
     ]
    }
   ],
   "source": [
    "my_multiclass_classification_report(y_test, model.predict(X_test))"
   ]
  }
 ],
 "metadata": {
  "kernelspec": {
   "display_name": "Python 3 (ipykernel)",
   "language": "python",
   "name": "python3"
  },
  "language_info": {
   "codemirror_mode": {
    "name": "ipython",
    "version": 3
   },
   "file_extension": ".py",
   "mimetype": "text/x-python",
   "name": "python",
   "nbconvert_exporter": "python",
   "pygments_lexer": "ipython3",
   "version": "3.10.7"
  }
 },
 "nbformat": 4,
 "nbformat_minor": 5
}
