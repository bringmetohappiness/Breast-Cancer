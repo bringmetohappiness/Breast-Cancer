{
 "cells": [
  {
   "cell_type": "markdown",
   "id": "41f0e725",
   "metadata": {},
   "source": [
    "Исходный набор данных находится в трёх отдельных Excel-таблицах. Каждая из них содержит точки данных, принадлежащих одному из классов. В этом файле производится\n",
    "- обединение данных таблиц в одну\n",
    "- исправление опечаток\n",
    "- раскодирование ответов к строковым значениям\n",
    "- приведение признака к необходимому типу данных\n",
    "- приведение пропусков к единому формату np.NaN (пустая ячейка)"
   ]
  },
  {
   "cell_type": "markdown",
   "id": "60cc8048",
   "metadata": {},
   "source": [
    "## Анкета-опросник\n",
    "\n",
    "- [2. Возраст](#2.-Возраст)\n",
    "- [3. Семейное положение](#3.-Семейное-положение)\n",
    "   - замужем\n",
    "   - имею гражданского супруга\n",
    "   - одинока\n",
    "   - разведена\n",
    "   - вдова\n",
    "- [4. Если имеете супруга или партнёра, как долго вы живёте вместе? (в годах)](#4.-Если-имеете-супруга-или-партнёра,-как-долго-вы-живёте-вместе?-(в-годах))\n",
    "- [5. В какой семье Вы выросли?](#5.-В-какой-семье-Вы-выросли?)\n",
    "   - полная семья, кровные родители\n",
    "   - мачеха/отчим\n",
    "   - мать/отец одиночка\n",
    "   - с бабушкой и дедушкой\n",
    "   - в детском доме\n",
    "- [6. Жив ли хотя бы один из Ваших родителей? (да/нет)](#6.-Жив-ли-хотя-бы-один-из-Ваших-родителей?-(да/нет))\n",
    "- [7. Если да, как часто вы общаетесь?](#7.-Если-да,-как-часто-вы-общаетесь?)\n",
    "   - я живу с моими родителями\n",
    "   - каждый день или почти каждый день\n",
    "   - раз в неделю\n",
    "   - один-два раза в месяц\n",
    "   - несколько раз в год\n",
    "   - я не общаюсь с родителями\n",
    "- [8. Есть ли у Вас дети? (да/нет)](#8.-Есть-ли-у-Вас-дети?-(да/нет))\n",
    "- [9. Если да, сколько?](#9.-Если-да,-сколько?)\n",
    "- [10. Есть ли у Вас совершеннолетние дети? (да/нет)](#10.-Есть-ли-у-Вас-совершеннолетние-дети?-(да/нет))\n",
    "- [11. Если да, как часто вы общаетесь?](#11.-Если-да,-как-часто-вы-общаетесь?)\n",
    "   - я живу с моими взрослыми детьми\n",
    "   - каждый день или почти каждый день\n",
    "   - раз в неделю\n",
    "   - один-два раза в месяц\n",
    "   - несколько раз в год\n",
    "   - я не общаюсь со взрослыми детьми\n",
    "- [12. Сколько человек живут вместе с Вами?](#12.-Сколько-человек-живут-вместе-с-Вами?)\n",
    "   - я живу одна\n",
    "   - 1 человек\n",
    "   - 2-3 человека\n",
    "   - 4 и более человек\n",
    "- [13. Каковы Ваши взаимоотношения с соседями?](#13.-Каковы-Ваши-взаимоотношения-с-соседями?)\n",
    "   - очень хорошие, дружеские\n",
    "   - хорошие\n",
    "   - нейтральные\n",
    "   - скорее плохие\n",
    "   - очень плохие\n",
    "   - я не знаю своих соседей\n",
    "   - у меня нет соседей\n",
    "- [14. Как часто Вы встречаетесь с друзьями?](#14.-Как-часто-Вы-встречаетесь-с-друзьями?)\n",
    "   - несколько раз в неделю\n",
    "   - раз в неделю\n",
    "   - раз в месяц\n",
    "   - реже, чем раз в месяц\n",
    "- [15. Есть ли у Вас домашние питомцы? (да/нет)](#15.-Есть-ли-у-Вас-домашние-питомцы?-(да/нет))\n",
    "- [16. В течение последних 7 дней, как часто Вы практиковали тяжелые физические нагрузки?](#16.-В-течение-последних-7-дней,-как-часто-Вы-практиковали-тяжелые-физические-нагрузки?)\n",
    "- [17. В течение последних 7 дней, как часто Вы практиковали умеренные физические нагрузки?](#17.-В-течение-последних-7-дней,-как-часто-Вы-практиковали-умеренные-физические-нагрузки?)\n",
    "- [18. В течение последних 7 дней, как часто Вы ходили пешком минимум 10 минут без перерыва?](#18.-В-течение-последних-7-дней,-как-часто-Вы-ходили-пешком-минимум-10-минут-без-перерыва?)\n",
    "- [19. Уровень Вашего образования?](#19.-Уровень-Вашего-образования?)\n",
    "   - средняя школа\n",
    "   - среднее специальное образование\n",
    "   - законченное высшее образование\n",
    "   - учёная степень\n",
    "- [20. Каков уровень образования Вашего партнёра? (если применимо)](#20.-Каков-уровень-образования-Вашего-партнёра?-(если-применимо))\n",
    "   - средняя школа\n",
    "   - среднее специальное образование\n",
    "   - законченное высшее образование\n",
    "   - учёная степень\n",
    "- [22. Как долго Вы проживаете в этом месте? (в годах)](#22.-Как-долго-Вы-проживаете-в-этом-месте?-(в-годах))\n",
    "- [23. Каков тип Вашего дома?](#23.-Каков-тип-Вашего-дома?)\n",
    "   - многоквартирный дом\n",
    "   - таунхаус\n",
    "   - собственный дом\n",
    "- [24. Если Вы живёте в многоквартирном доме, то на каком этаже?](#24.-Если-Вы-живёте-в-многоквартирном-доме,-то-на-каком-этаже?)\n",
    "- [25. Каким транспортом Вы обычно пользуетесь?](#25.-Каким-транспортом-Вы-обычно-пользуетесь?)\n",
    "   - общественный транспорт\n",
    "   - собственная машина/такси\n",
    "   - я обычно не пользуюсь транспортом\n",
    "- [26. Сколько времени занимает Ваш путь до работы в одну сторону?](#26.-Сколько-времени-занимает-Ваш-путь-до-работы-в-одну-сторону?)\n",
    "   - 1 час и меньше\n",
    "   - 1-3 часа\n",
    "   - более трёх часов\n",
    "- [27. Каков тип Вашей занятости?](#27.-Каков-тип-Вашей-занятости?)\n",
    "  - полный рабочий день\n",
    "  - частичная занятость\n",
    "  - я работаю из дома\n",
    "  - я не работаю\n",
    "- [28. Каковы Ваши предпочтения в пище?](#28.-Каковы-Ваши-предпочтения-в-пище?)\n",
    "   - я ем мясо или рыбу ежедневно\n",
    "   - я ем мясо или рыбу 2-3 раза в неделю\n",
    "   - я практически не ем мясо/рыбу\n",
    "   - я вегетарианец/веган\n",
    "- [29. Каков тип Вашего питания?](#29.-Каков-тип-Вашего-питания?)\n",
    "   - 3-4-разовое домашнее питание\n",
    "   - 3-разовое питание, домашнее и в предприятиях общественного питания\n",
    "   - дома готовлю редко, питаюсь в предприятиях общественного питания\n",
    "   - регулярного режима питания нет\n",
    "- [30. Вы курите? (да/нет)](#30.-Вы-курите?-(да/нет))\n",
    "- [31. Количество родов](#31.-Количество-родов)\n",
    "- [32. Количество прерванных беременностей](#32.-Количество-прерванных-беременностей)\n",
    "- [33. Гинекологические заболевания (да/нет)](#33.-Гинекологические-заболевания-(да/нет))\n",
    "- [34. Заболевания щитовидной железы (да/нет)](#34.-Заболевания-щитовидной-железы-(да/нет))\n",
    "- [35. Наследственность (да/нет)](#35.-Наследственность-(да/нет))"
   ]
  },
  {
   "cell_type": "code",
   "execution_count": 1,
   "id": "855d167b",
   "metadata": {},
   "outputs": [],
   "source": [
    "import os\n",
    "\n",
    "import numpy as np\n",
    "import pandas as pd\n",
    "pd.set_option('max_columns', None)\n",
    "\n",
    "from utils import definitions as defs\n",
    "from utils import visualization as viz"
   ]
  },
  {
   "cell_type": "code",
   "execution_count": 2,
   "id": "e7f8a572",
   "metadata": {},
   "outputs": [],
   "source": [
    "NORM_N_ROWS = 197\n",
    "BENIGN_TUMOR_N_ROWS = 199\n",
    "MALIGNANT_TUMOR_N_ROWS = 199"
   ]
  },
  {
   "cell_type": "code",
   "execution_count": 3,
   "id": "00cdfbef",
   "metadata": {},
   "outputs": [
    {
     "data": {
      "text/html": [
       "<div>\n",
       "<style scoped>\n",
       "    .dataframe tbody tr th:only-of-type {\n",
       "        vertical-align: middle;\n",
       "    }\n",
       "\n",
       "    .dataframe tbody tr th {\n",
       "        vertical-align: top;\n",
       "    }\n",
       "\n",
       "    .dataframe thead th {\n",
       "        text-align: right;\n",
       "    }\n",
       "</style>\n",
       "<table border=\"1\" class=\"dataframe\">\n",
       "  <thead>\n",
       "    <tr style=\"text-align: right;\">\n",
       "      <th></th>\n",
       "      <th>2. Возраст</th>\n",
       "      <th>3. Семейное положение</th>\n",
       "      <th>4. Если имеете супруга или партнера, как долго вы живете вместе (в годах)?</th>\n",
       "      <th>5. В какой семье Вы выросли?</th>\n",
       "      <th>6. Жив ли хотя бы один из Ваших родителей (да/нет)?</th>\n",
       "      <th>7. Если да, как часто вы общаетесь?</th>\n",
       "      <th>8. Есть ли у Вас дети (да/нет)?</th>\n",
       "      <th>9. Если да, сколько?</th>\n",
       "      <th>10. Есть ли у Вас совершеннолетние дети (да/нет)?</th>\n",
       "      <th>11. Если да, как часто вы общаетесь?</th>\n",
       "      <th>12. Сколько человек живут вместе с Вами?</th>\n",
       "      <th>13. Каковы Ваши взаимоотношения с соседями?</th>\n",
       "      <th>14. Как часто Вы встречаетесь с друзьями?</th>\n",
       "      <th>15. Есть ли у Вас домашние питомцы (да/нет)?</th>\n",
       "      <th>16. В течение последних 7 дней, как часто Вы практиковали тяжелые физические нагрузки?</th>\n",
       "      <th>17. В течение последних 7 дней, как часто Вы практиковали умеренные физические нагрузки?</th>\n",
       "      <th>18. В течение последних 7 дней, как часто Вы ходили пешком минимум 10 минут без перерыва?</th>\n",
       "      <th>19. Уровень Вашего образования?</th>\n",
       "      <th>20. Каков уровень образования Вашего партнера (если применимо)?</th>\n",
       "      <th>22. Как долго Вы проживаете в этом месте (в годах)?</th>\n",
       "      <th>23. Каков тип Вашего дома?</th>\n",
       "      <th>24. Если Вы живете в многоквартирном доме, то на каком этаже?</th>\n",
       "      <th>25. Каким транспортом Вы обычно пользуетесь?</th>\n",
       "      <th>26. Сколько времени занимает Ваш путь до работы в одну сторону?</th>\n",
       "      <th>27. Каков тип Вашей занятости?</th>\n",
       "      <th>28. Каковы Ваши предпочтения в пище?</th>\n",
       "      <th>29. Каков тип Вашего питания?</th>\n",
       "      <th>30. Вы курите (да/нет)?</th>\n",
       "      <th>31. Количество родов</th>\n",
       "      <th>32. Количество прерванных беременностей</th>\n",
       "      <th>33. Гинекологические заболевания (да/нет)</th>\n",
       "      <th>34. Заболевания щитовидной железы (да/нет)</th>\n",
       "      <th>35. Наследственность (да/нет)</th>\n",
       "      <th>Метка</th>\n",
       "    </tr>\n",
       "  </thead>\n",
       "  <tbody>\n",
       "    <tr>\n",
       "      <th>0</th>\n",
       "      <td>46.515068</td>\n",
       "      <td>2</td>\n",
       "      <td>21</td>\n",
       "      <td>1</td>\n",
       "      <td>да</td>\n",
       "      <td>2</td>\n",
       "      <td>да</td>\n",
       "      <td>1</td>\n",
       "      <td>да</td>\n",
       "      <td>1</td>\n",
       "      <td>3.0</td>\n",
       "      <td>2.0</td>\n",
       "      <td>2.0</td>\n",
       "      <td>да</td>\n",
       "      <td>-</td>\n",
       "      <td>-</td>\n",
       "      <td>7.0</td>\n",
       "      <td>2.0</td>\n",
       "      <td>2</td>\n",
       "      <td>7</td>\n",
       "      <td>1.0</td>\n",
       "      <td>12</td>\n",
       "      <td>1.0</td>\n",
       "      <td>-</td>\n",
       "      <td>4</td>\n",
       "      <td>1.0</td>\n",
       "      <td>1.0</td>\n",
       "      <td>нет</td>\n",
       "      <td>1</td>\n",
       "      <td>0</td>\n",
       "      <td>да</td>\n",
       "      <td>нет</td>\n",
       "      <td>нет</td>\n",
       "      <td>норма</td>\n",
       "    </tr>\n",
       "    <tr>\n",
       "      <th>1</th>\n",
       "      <td>45.983562</td>\n",
       "      <td>4</td>\n",
       "      <td>-</td>\n",
       "      <td>1</td>\n",
       "      <td>да</td>\n",
       "      <td>3</td>\n",
       "      <td>да</td>\n",
       "      <td>1</td>\n",
       "      <td>да</td>\n",
       "      <td>2</td>\n",
       "      <td>1.0</td>\n",
       "      <td>1.0</td>\n",
       "      <td>3.0</td>\n",
       "      <td>да</td>\n",
       "      <td>4</td>\n",
       "      <td>4</td>\n",
       "      <td>7.0</td>\n",
       "      <td>2.0</td>\n",
       "      <td>-</td>\n",
       "      <td>11</td>\n",
       "      <td>1.0</td>\n",
       "      <td>5</td>\n",
       "      <td>1.0</td>\n",
       "      <td>2</td>\n",
       "      <td>1</td>\n",
       "      <td>2.0</td>\n",
       "      <td>3.0</td>\n",
       "      <td>нет</td>\n",
       "      <td>1</td>\n",
       "      <td>0</td>\n",
       "      <td>да</td>\n",
       "      <td>нет</td>\n",
       "      <td>нет</td>\n",
       "      <td>норма</td>\n",
       "    </tr>\n",
       "    <tr>\n",
       "      <th>2</th>\n",
       "      <td>35.443836</td>\n",
       "      <td>1</td>\n",
       "      <td>11</td>\n",
       "      <td>1</td>\n",
       "      <td>да</td>\n",
       "      <td>3</td>\n",
       "      <td>да</td>\n",
       "      <td>1</td>\n",
       "      <td>нет</td>\n",
       "      <td>-</td>\n",
       "      <td>3.0</td>\n",
       "      <td>2.0</td>\n",
       "      <td>2.0</td>\n",
       "      <td>да</td>\n",
       "      <td>1</td>\n",
       "      <td>3</td>\n",
       "      <td>7.0</td>\n",
       "      <td>3.0</td>\n",
       "      <td>3</td>\n",
       "      <td>34</td>\n",
       "      <td>1.0</td>\n",
       "      <td>3</td>\n",
       "      <td>1.0</td>\n",
       "      <td>1</td>\n",
       "      <td>3</td>\n",
       "      <td>1.0</td>\n",
       "      <td>2.0</td>\n",
       "      <td>да</td>\n",
       "      <td>1</td>\n",
       "      <td>2</td>\n",
       "      <td>нет</td>\n",
       "      <td>нет</td>\n",
       "      <td>нет</td>\n",
       "      <td>норма</td>\n",
       "    </tr>\n",
       "    <tr>\n",
       "      <th>3</th>\n",
       "      <td>53.539726</td>\n",
       "      <td>4</td>\n",
       "      <td>-</td>\n",
       "      <td>1</td>\n",
       "      <td>да</td>\n",
       "      <td>2</td>\n",
       "      <td>да</td>\n",
       "      <td>2</td>\n",
       "      <td>да</td>\n",
       "      <td>2</td>\n",
       "      <td>3.0</td>\n",
       "      <td>1.0</td>\n",
       "      <td>4.0</td>\n",
       "      <td>да</td>\n",
       "      <td>0</td>\n",
       "      <td>0</td>\n",
       "      <td>7.0</td>\n",
       "      <td>3.0</td>\n",
       "      <td>1</td>\n",
       "      <td>50 лет</td>\n",
       "      <td>1.0</td>\n",
       "      <td>5</td>\n",
       "      <td>1.0</td>\n",
       "      <td>2</td>\n",
       "      <td>1</td>\n",
       "      <td>1.0</td>\n",
       "      <td>1.0</td>\n",
       "      <td>да</td>\n",
       "      <td>2</td>\n",
       "      <td>5</td>\n",
       "      <td>нет</td>\n",
       "      <td>нет</td>\n",
       "      <td>нет</td>\n",
       "      <td>норма</td>\n",
       "    </tr>\n",
       "    <tr>\n",
       "      <th>4</th>\n",
       "      <td>44.115068</td>\n",
       "      <td>1</td>\n",
       "      <td>12 лет</td>\n",
       "      <td>1</td>\n",
       "      <td>да</td>\n",
       "      <td>2</td>\n",
       "      <td>да</td>\n",
       "      <td>1</td>\n",
       "      <td>да</td>\n",
       "      <td>1</td>\n",
       "      <td>3.0</td>\n",
       "      <td>2.0</td>\n",
       "      <td>4.0</td>\n",
       "      <td>нет</td>\n",
       "      <td>5</td>\n",
       "      <td>0</td>\n",
       "      <td>7.0</td>\n",
       "      <td>1.0</td>\n",
       "      <td>3</td>\n",
       "      <td>4 года</td>\n",
       "      <td>1.0</td>\n",
       "      <td>4</td>\n",
       "      <td>3.0</td>\n",
       "      <td>1</td>\n",
       "      <td>1</td>\n",
       "      <td>2.0</td>\n",
       "      <td>1.0</td>\n",
       "      <td>нет</td>\n",
       "      <td>1</td>\n",
       "      <td>2</td>\n",
       "      <td>есть</td>\n",
       "      <td>нет</td>\n",
       "      <td>нет</td>\n",
       "      <td>норма</td>\n",
       "    </tr>\n",
       "  </tbody>\n",
       "</table>\n",
       "</div>"
      ],
      "text/plain": [
       "   2. Возраст  3. Семейное положение  \\\n",
       "0   46.515068                      2   \n",
       "1   45.983562                      4   \n",
       "2   35.443836                      1   \n",
       "3   53.539726                      4   \n",
       "4   44.115068                      1   \n",
       "\n",
       "  4. Если имеете супруга или партнера, как долго вы живете вместе (в годах)?  \\\n",
       "0                                                 21                           \n",
       "1                                                  -                           \n",
       "2                                                 11                           \n",
       "3                                                  -                           \n",
       "4                                             12 лет                           \n",
       "\n",
       "  5. В какой семье Вы выросли?  \\\n",
       "0                            1   \n",
       "1                            1   \n",
       "2                            1   \n",
       "3                            1   \n",
       "4                            1   \n",
       "\n",
       "  6. Жив ли хотя бы один из Ваших родителей (да/нет)?  \\\n",
       "0                                                 да    \n",
       "1                                                 да    \n",
       "2                                                 да    \n",
       "3                                                 да    \n",
       "4                                                 да    \n",
       "\n",
       "  7. Если да, как часто вы общаетесь? 8. Есть ли у Вас дети (да/нет)?  \\\n",
       "0                                   2                              да   \n",
       "1                                   3                              да   \n",
       "2                                   3                              да   \n",
       "3                                   2                              да   \n",
       "4                                   2                              да   \n",
       "\n",
       "  9. Если да, сколько? 10. Есть ли у Вас совершеннолетние дети (да/нет)?  \\\n",
       "0                    1                                                да   \n",
       "1                    1                                                да   \n",
       "2                    1                                               нет   \n",
       "3                    2                                                да   \n",
       "4                    1                                                да   \n",
       "\n",
       "  11. Если да, как часто вы общаетесь?  \\\n",
       "0                                    1   \n",
       "1                                    2   \n",
       "2                                    -   \n",
       "3                                    2   \n",
       "4                                    1   \n",
       "\n",
       "   12. Сколько человек живут вместе с Вами?  \\\n",
       "0                                       3.0   \n",
       "1                                       1.0   \n",
       "2                                       3.0   \n",
       "3                                       3.0   \n",
       "4                                       3.0   \n",
       "\n",
       "   13. Каковы Ваши взаимоотношения с соседями?  \\\n",
       "0                                          2.0   \n",
       "1                                          1.0   \n",
       "2                                          2.0   \n",
       "3                                          1.0   \n",
       "4                                          2.0   \n",
       "\n",
       "   14. Как часто Вы встречаетесь с друзьями?  \\\n",
       "0                                        2.0   \n",
       "1                                        3.0   \n",
       "2                                        2.0   \n",
       "3                                        4.0   \n",
       "4                                        4.0   \n",
       "\n",
       "  15. Есть ли у Вас домашние питомцы (да/нет)?  \\\n",
       "0                                           да   \n",
       "1                                           да   \n",
       "2                                           да   \n",
       "3                                           да   \n",
       "4                                          нет   \n",
       "\n",
       "  16. В течение последних 7 дней, как часто Вы практиковали тяжелые физические нагрузки?  \\\n",
       "0                                                  -                                       \n",
       "1                                                  4                                       \n",
       "2                                                  1                                       \n",
       "3                                                  0                                       \n",
       "4                                                  5                                       \n",
       "\n",
       "  17. В течение последних 7 дней, как часто Вы практиковали умеренные физические нагрузки?  \\\n",
       "0                                                  -                                         \n",
       "1                                                  4                                         \n",
       "2                                                  3                                         \n",
       "3                                                  0                                         \n",
       "4                                                  0                                         \n",
       "\n",
       "  18. В течение последних 7 дней, как часто Вы ходили пешком минимум 10 минут без перерыва?  \\\n",
       "0                                                7.0                                          \n",
       "1                                                7.0                                          \n",
       "2                                                7.0                                          \n",
       "3                                                7.0                                          \n",
       "4                                                7.0                                          \n",
       "\n",
       "   19. Уровень Вашего образования?  \\\n",
       "0                              2.0   \n",
       "1                              2.0   \n",
       "2                              3.0   \n",
       "3                              3.0   \n",
       "4                              1.0   \n",
       "\n",
       "  20. Каков уровень образования Вашего партнера (если применимо)?  \\\n",
       "0                                                  2                \n",
       "1                                                  -                \n",
       "2                                                  3                \n",
       "3                                                  1                \n",
       "4                                                  3                \n",
       "\n",
       "  22. Как долго Вы проживаете в этом месте (в годах)?  \\\n",
       "0                                                  7    \n",
       "1                                                 11    \n",
       "2                                                 34    \n",
       "3                                             50 лет    \n",
       "4                                            4 года     \n",
       "\n",
       "   23. Каков тип Вашего дома?  \\\n",
       "0                         1.0   \n",
       "1                         1.0   \n",
       "2                         1.0   \n",
       "3                         1.0   \n",
       "4                         1.0   \n",
       "\n",
       "  24. Если Вы живете в многоквартирном доме, то на каком этаже?  \\\n",
       "0                                                 12              \n",
       "1                                                  5              \n",
       "2                                                  3              \n",
       "3                                                  5              \n",
       "4                                                  4              \n",
       "\n",
       "  25. Каким транспортом Вы обычно пользуетесь?  \\\n",
       "0                                          1.0   \n",
       "1                                          1.0   \n",
       "2                                          1.0   \n",
       "3                                          1.0   \n",
       "4                                          3.0   \n",
       "\n",
       "  26. Сколько времени занимает Ваш путь до работы в одну сторону?  \\\n",
       "0                                                  -                \n",
       "1                                                  2                \n",
       "2                                                  1                \n",
       "3                                                  2                \n",
       "4                                                  1                \n",
       "\n",
       "  27. Каков тип Вашей занятости?  28. Каковы Ваши предпочтения в пище?  \\\n",
       "0                              4                                   1.0   \n",
       "1                              1                                   2.0   \n",
       "2                              3                                   1.0   \n",
       "3                              1                                   1.0   \n",
       "4                              1                                   2.0   \n",
       "\n",
       "   29. Каков тип Вашего питания? 30. Вы курите (да/нет)?  \\\n",
       "0                            1.0                     нет   \n",
       "1                            3.0                     нет   \n",
       "2                            2.0                      да   \n",
       "3                            1.0                      да   \n",
       "4                            1.0                     нет   \n",
       "\n",
       "   31. Количество родов  32. Количество прерванных беременностей  \\\n",
       "0                     1                                        0   \n",
       "1                     1                                        0   \n",
       "2                     1                                        2   \n",
       "3                     2                                        5   \n",
       "4                     1                                        2   \n",
       "\n",
       "  33. Гинекологические заболевания (да/нет)  \\\n",
       "0                                        да   \n",
       "1                                        да   \n",
       "2                                       нет   \n",
       "3                                       нет   \n",
       "4                                      есть   \n",
       "\n",
       "  34. Заболевания щитовидной железы (да/нет) 35. Наследственность (да/нет)  \\\n",
       "0                                        нет                           нет   \n",
       "1                                        нет                           нет   \n",
       "2                                        нет                           нет   \n",
       "3                                        нет                           нет   \n",
       "4                                        нет                           нет   \n",
       "\n",
       "   Метка  \n",
       "0  норма  \n",
       "1  норма  \n",
       "2  норма  \n",
       "3  норма  \n",
       "4  норма  "
      ]
     },
     "execution_count": 3,
     "metadata": {},
     "output_type": "execute_result"
    }
   ],
   "source": [
    "norm_df = pd.read_excel(defs.NORM_PATH, index_col=0, nrows=NORM_N_ROWS)\n",
    "# удаление ненужных столбцов\n",
    "norm_df = norm_df.drop(['Дата рождения'], axis=1)\n",
    "norm_df = norm_df.drop(['Дата тестирования'], axis=1)\n",
    "norm_df = norm_df.drop(['Пол'], axis=1)\n",
    "norm_df = norm_df.drop(['?1'], axis=1)\n",
    "norm_df = norm_df.drop(['?2'], axis=1)\n",
    "# добавление столбца с меткой\n",
    "norm_df[defs.LABEL] = [defs.LABELS[0]] * NORM_N_ROWS\n",
    "\n",
    "benign_tumor_df = pd.read_excel(defs.BENIGN_TUMOR_PATH, index_col=0, nrows=BENIGN_TUMOR_N_ROWS)\n",
    "# удаление ненужных столбцов\n",
    "benign_tumor_df = benign_tumor_df.drop(['Дата рождения'], axis=1)\n",
    "benign_tumor_df = benign_tumor_df.drop(['Дата тестирования'], axis=1)\n",
    "benign_tumor_df = benign_tumor_df.drop(['?1'], axis=1)\n",
    "benign_tumor_df = benign_tumor_df.drop(['?2'], axis=1)\n",
    "# добавление столбца с меткой\n",
    "benign_tumor_df[defs.LABEL] = [defs.LABELS[1]] * BENIGN_TUMOR_N_ROWS\n",
    "\n",
    "malignant_tumor_df = pd.read_excel(defs.MALIGNANT_TUMOR_PATH, index_col=0, nrows=MALIGNANT_TUMOR_N_ROWS)\n",
    "# удаление ненужных столбцов\n",
    "malignant_tumor_df = malignant_tumor_df.drop(['Дата рождения'], axis=1)\n",
    "malignant_tumor_df = malignant_tumor_df.drop(['Дата тестирования'], axis=1)\n",
    "malignant_tumor_df = malignant_tumor_df.drop(['Пол'], axis=1)\n",
    "malignant_tumor_df = malignant_tumor_df.drop(['?1'], axis=1)\n",
    "malignant_tumor_df = malignant_tumor_df.drop(['?2'], axis=1)\n",
    "# добавление столбца с меткой\n",
    "malignant_tumor_df[defs.LABEL] = [defs.LABELS[2]] * MALIGNANT_TUMOR_N_ROWS\n",
    "\n",
    "df = pd.concat([norm_df, benign_tumor_df, malignant_tumor_df], ignore_index=True)\n",
    "columns = {\n",
    "    'Вопрос 2': defs.QUESTION_2,\n",
    "    'Вопрос 3': defs.QUESTION_3,\n",
    "    'Вопрос 4': defs.QUESTION_4,\n",
    "    'Вопрос 5': defs.QUESTION_5,\n",
    "    'Вопрос 6': defs.QUESTION_6,\n",
    "    'Вопрос 7': defs.QUESTION_7,\n",
    "    'Вопрос 8': defs.QUESTION_8,\n",
    "    'Вопрос 9': defs.QUESTION_9,\n",
    "    'Вопрос 10': defs.QUESTION_10,\n",
    "    'Вопрос 11': defs.QUESTION_11,\n",
    "    'Вопрос 12': defs.QUESTION_12,\n",
    "    'Вопрос 13': defs.QUESTION_13,\n",
    "    'Вопрос 14': defs.QUESTION_14,\n",
    "    'Вопрос 15': defs.QUESTION_15,\n",
    "    'Вопрос 16': defs.QUESTION_16,\n",
    "    'Вопрос 17': defs.QUESTION_17,\n",
    "    'Вопрос 18': defs.QUESTION_18,\n",
    "    'Вопрос 19': defs.QUESTION_19,\n",
    "    'Вопрос 20': defs.QUESTION_20,\n",
    "    'Вопрос 22': defs.QUESTION_22,\n",
    "    'Вопрос 23': defs.QUESTION_23,\n",
    "    'Вопрос 24': defs.QUESTION_24,\n",
    "    'Вопрос 25': defs.QUESTION_25,\n",
    "    'Вопрос 26': defs.QUESTION_26,\n",
    "    'Вопрос 27': defs.QUESTION_27,\n",
    "    'Вопрос 28': defs.QUESTION_28,\n",
    "    'Вопрос 29': defs.QUESTION_29,\n",
    "    'Вопрос 30': defs.QUESTION_30,\n",
    "    'Вопрос 31': defs.QUESTION_31,\n",
    "    'Вопрос 32': defs.QUESTION_32,\n",
    "    'Вопрос 33': defs.QUESTION_33,\n",
    "    'Вопрос 34': defs.QUESTION_34,\n",
    "    'Вопрос 35': defs.QUESTION_35,\n",
    "}\n",
    "df.rename(columns=columns, inplace=True)\n",
    "df.head()"
   ]
  },
  {
   "cell_type": "markdown",
   "id": "f4e8d03a",
   "metadata": {},
   "source": [
    "### 2. Возраст"
   ]
  },
  {
   "cell_type": "code",
   "execution_count": 4,
   "id": "2e981dc1",
   "metadata": {},
   "outputs": [
    {
     "data": {
      "image/png": "[encoded data removed]",
      "text/plain": [
       "<Figure size 1728x360 with 4 Axes>"
      ]
     },
     "metadata": {
      "needs_background": "light"
     },
     "output_type": "display_data"
    }
   ],
   "source": [
    "viz.plot_hists(df, defs.QUESTION_2, 'Возрастные гистограммы до очистки данных', 120, 125)"
   ]
  },
  {
   "cell_type": "markdown",
   "id": "90794ba9",
   "metadata": {},
   "source": [
    "Видны явные возрастные выбросы: 0 и 119 лет. Удаляем эти значения."
   ]
  },
  {
   "cell_type": "code",
   "execution_count": 5,
   "id": "c96bdc25",
   "metadata": {},
   "outputs": [],
   "source": [
    "df.loc[(df[defs.QUESTION_2] > 85) | (df[defs.QUESTION_2] < 18), defs.QUESTION_2] = np.NaN"
   ]
  },
  {
   "cell_type": "markdown",
   "id": "ca424da2",
   "metadata": {},
   "source": [
    "### 3. Семейное положение"
   ]
  },
  {
   "cell_type": "code",
   "execution_count": 6,
   "id": "f22b7000",
   "metadata": {},
   "outputs": [
    {
     "data": {
      "text/plain": [
       "{1, 2, 3, 4, 5}"
      ]
     },
     "execution_count": 6,
     "metadata": {},
     "output_type": "execute_result"
    }
   ],
   "source": [
    "set(df[defs.QUESTION_3].tolist())"
   ]
  },
  {
   "cell_type": "code",
   "execution_count": 7,
   "id": "b2af65ef",
   "metadata": {},
   "outputs": [],
   "source": [
    "df.replace({\n",
    "    defs.QUESTION_3:\n",
    "    {\n",
    "        1: defs.ANSWER_3_1,\n",
    "        2: defs.ANSWER_3_2,\n",
    "        3: defs.ANSWER_3_3,\n",
    "        4: defs.ANSWER_3_4,\n",
    "        5: defs.ANSWER_3_5,\n",
    "    }\n",
    "}, inplace=True)"
   ]
  },
  {
   "cell_type": "markdown",
   "id": "23ea93b3",
   "metadata": {},
   "source": [
    "### 4. Если имеете супруга или партнёра, как долго вы живёте вместе? (в годах)"
   ]
  },
  {
   "cell_type": "code",
   "execution_count": 8,
   "id": "5d67ce1c",
   "metadata": {},
   "outputs": [
    {
     "data": {
      "text/plain": [
       "{'-',\n",
       " 0,\n",
       " '0 лет',\n",
       " 1,\n",
       " '1 год',\n",
       " '1.5 года',\n",
       " '10 лет',\n",
       " 11,\n",
       " '11 лет',\n",
       " '12 лет',\n",
       " '13 лет',\n",
       " '14 лет',\n",
       " '15 лет',\n",
       " '16 лет',\n",
       " '17 лет',\n",
       " '18 лет',\n",
       " '19 лет',\n",
       " '2 года',\n",
       " '2 года ',\n",
       " '2 месяца',\n",
       " '2,5 года',\n",
       " '20 лет',\n",
       " 21,\n",
       " '21 год',\n",
       " '21 год ',\n",
       " '22 года',\n",
       " '22 года ',\n",
       " '23 года',\n",
       " '24 года',\n",
       " '25 лет',\n",
       " '26 лет',\n",
       " '26 лет ',\n",
       " '27 лет',\n",
       " '27 лет ',\n",
       " '28 лет',\n",
       " '29 лет',\n",
       " '3 года',\n",
       " '3 месяца',\n",
       " 30,\n",
       " '30 лет',\n",
       " '31 год',\n",
       " '32 года',\n",
       " '33 года',\n",
       " '34 года',\n",
       " '35 лет',\n",
       " 36,\n",
       " '36 лет',\n",
       " '37 лет',\n",
       " '38 лет',\n",
       " '39 лет',\n",
       " '4 года',\n",
       " '40 лет',\n",
       " '41 год',\n",
       " '42 года',\n",
       " '42 года ',\n",
       " '43 года',\n",
       " '44 года',\n",
       " '45 лет',\n",
       " '46 лет',\n",
       " '47 лет',\n",
       " '48 лет',\n",
       " '49 лет',\n",
       " '5 лет',\n",
       " '5,5 лет',\n",
       " '50 лет',\n",
       " '50 лет ',\n",
       " '51 год ',\n",
       " '52 года',\n",
       " '53 года',\n",
       " '54 года',\n",
       " '56 лет',\n",
       " '58 лет',\n",
       " '6 лет',\n",
       " '7 лет',\n",
       " '8 лет',\n",
       " '9 лет',\n",
       " '?'}"
      ]
     },
     "execution_count": 8,
     "metadata": {},
     "output_type": "execute_result"
    }
   ],
   "source": [
    "set(df[defs.QUESTION_4].tolist())"
   ]
  },
  {
   "cell_type": "code",
   "execution_count": 9,
   "id": "9ecba21e",
   "metadata": {},
   "outputs": [],
   "source": [
    "def remove_no_digits(string):\n",
    "    \"\"\"Удаляет из строки нецифры.\"\"\"\n",
    "    digits = ''\n",
    "    for char in string:\n",
    "        if char.isdigit() or char == '.':\n",
    "            digits += char\n",
    "    return digits\n",
    "\n",
    "def convert_time_interval(cell_content):\n",
    "    \"\"\"Конвертирует временной интервал из строки в float формат в годах.\"\"\"\n",
    "    if isinstance(cell_content, str):\n",
    "        result = float(remove_no_digits(cell_content))\n",
    "        if 'месяц' in cell_content:\n",
    "            result /= 12\n",
    "    else:\n",
    "        result = cell_content\n",
    "    return result"
   ]
  },
  {
   "cell_type": "code",
   "execution_count": 10,
   "id": "a27dff2f",
   "metadata": {},
   "outputs": [],
   "source": [
    "df.replace({\n",
    "    defs.QUESTION_4:\n",
    "    {\n",
    "        '-': np.NaN,\n",
    "        '?': np.NaN,\n",
    "    }\n",
    "}, inplace=True)"
   ]
  },
  {
   "cell_type": "code",
   "execution_count": 11,
   "id": "1b7b167e",
   "metadata": {},
   "outputs": [
    {
     "data": {
      "image/png": "[encoded data removed]",
      "text/plain": [
       "<Figure size 1728x360 with 4 Axes>"
      ]
     },
     "metadata": {
      "needs_background": "light"
     },
     "output_type": "display_data"
    }
   ],
   "source": [
    "df[defs.QUESTION_4] = df[defs.QUESTION_4].apply(convert_time_interval)\n",
    "viz.plot_hists(df, defs.QUESTION_4, defs.QUESTION_4, 60, 65)"
   ]
  },
  {
   "cell_type": "markdown",
   "id": "4418a10a",
   "metadata": {},
   "source": [
    "### 5. В какой семье Вы выросли?"
   ]
  },
  {
   "cell_type": "code",
   "execution_count": 12,
   "id": "24301cb6",
   "metadata": {},
   "outputs": [
    {
     "data": {
      "text/plain": [
       "{'-', 1, 2, 3, 4, 5}"
      ]
     },
     "execution_count": 12,
     "metadata": {},
     "output_type": "execute_result"
    }
   ],
   "source": [
    "set(df[defs.QUESTION_5].tolist())"
   ]
  },
  {
   "cell_type": "code",
   "execution_count": 13,
   "id": "6945b65b",
   "metadata": {},
   "outputs": [],
   "source": [
    "df.replace({\n",
    "    defs.QUESTION_5:\n",
    "    {\n",
    "        '-': np.NaN,\n",
    "        1: defs.ANSWER_5_1,\n",
    "        2: defs.ANSWER_5_2,\n",
    "        3: defs.ANSWER_5_3,\n",
    "        4: defs.ANSWER_5_4,\n",
    "        5: defs.ANSWER_5_5,\n",
    "    }\n",
    "}, inplace=True)"
   ]
  },
  {
   "cell_type": "markdown",
   "id": "9a134c3e",
   "metadata": {},
   "source": [
    "### 6. Жив ли хотя бы один из Ваших родителей? (да/нет)"
   ]
  },
  {
   "cell_type": "code",
   "execution_count": 14,
   "id": "7f00ea7e",
   "metadata": {},
   "outputs": [
    {
     "data": {
      "text/plain": [
       "{'да', 'нет', 'нет '}"
      ]
     },
     "execution_count": 14,
     "metadata": {},
     "output_type": "execute_result"
    }
   ],
   "source": [
    "set(df[defs.QUESTION_6].tolist())"
   ]
  },
  {
   "cell_type": "code",
   "execution_count": 15,
   "id": "175f10f5",
   "metadata": {},
   "outputs": [],
   "source": [
    "df.replace({\n",
    "    defs.QUESTION_6:\n",
    "    {\n",
    "        'нет ': defs.NO,\n",
    "    }\n",
    "}, inplace=True)"
   ]
  },
  {
   "cell_type": "markdown",
   "id": "342c977c",
   "metadata": {},
   "source": [
    "### 7. Если да, как часто вы общаетесь?"
   ]
  },
  {
   "cell_type": "code",
   "execution_count": 16,
   "id": "a5e35130",
   "metadata": {},
   "outputs": [
    {
     "data": {
      "text/plain": [
       "{'-', 1, 2, 3, 4, 5, 6}"
      ]
     },
     "execution_count": 16,
     "metadata": {},
     "output_type": "execute_result"
    }
   ],
   "source": [
    "set(df[defs.QUESTION_7].tolist())"
   ]
  },
  {
   "cell_type": "code",
   "execution_count": 17,
   "id": "64e41bbb",
   "metadata": {},
   "outputs": [],
   "source": [
    "df.replace({\n",
    "    defs.QUESTION_7:\n",
    "    {\n",
    "        '-': np.NaN,\n",
    "        1: defs.ANSWER_7_1,\n",
    "        2: defs.ANSWER_7_2,\n",
    "        3: defs.ANSWER_7_3,\n",
    "        4: defs.ANSWER_7_4,\n",
    "        5: defs.ANSWER_7_5,\n",
    "        6: defs.ANSWER_7_6,\n",
    "    }\n",
    "}, inplace=True)"
   ]
  },
  {
   "cell_type": "markdown",
   "id": "e7bc6176",
   "metadata": {},
   "source": [
    "### 8. Есть ли у Вас дети? (да/нет)"
   ]
  },
  {
   "cell_type": "code",
   "execution_count": 18,
   "id": "84a33b94",
   "metadata": {},
   "outputs": [
    {
     "data": {
      "text/plain": [
       "{' нет', 'да', 'да ', 'нет', 'нет '}"
      ]
     },
     "execution_count": 18,
     "metadata": {},
     "output_type": "execute_result"
    }
   ],
   "source": [
    "set(df[defs.QUESTION_8].tolist())"
   ]
  },
  {
   "cell_type": "code",
   "execution_count": 19,
   "id": "04dc173c",
   "metadata": {},
   "outputs": [],
   "source": [
    "df.replace({\n",
    "    defs.QUESTION_8:\n",
    "    {\n",
    "        ' нет': defs.NO,\n",
    "        'да ': defs.YES,\n",
    "        'нет ': defs.NO,\n",
    "    }\n",
    "}, inplace=True)"
   ]
  },
  {
   "cell_type": "markdown",
   "id": "2ccad628",
   "metadata": {},
   "source": [
    "### 9. Если да, сколько?"
   ]
  },
  {
   "cell_type": "code",
   "execution_count": 20,
   "id": "6959ad6a",
   "metadata": {},
   "outputs": [
    {
     "data": {
      "text/plain": [
       "{' -', '-', 0, 1, 2, 3, 4, 6}"
      ]
     },
     "execution_count": 20,
     "metadata": {},
     "output_type": "execute_result"
    }
   ],
   "source": [
    "set(df[defs.QUESTION_9].tolist())"
   ]
  },
  {
   "cell_type": "code",
   "execution_count": 21,
   "id": "d223bbcf",
   "metadata": {},
   "outputs": [],
   "source": [
    "df.replace({\n",
    "    defs.QUESTION_9:\n",
    "    {\n",
    "        ' -': np.NaN,\n",
    "        '-': np.NaN,\n",
    "        0: np.NaN,\n",
    "    }\n",
    "}, inplace=True)"
   ]
  },
  {
   "cell_type": "markdown",
   "id": "102d15eb",
   "metadata": {},
   "source": [
    "### 10. Есть ли у Вас совершеннолетние дети? (да/нет)"
   ]
  },
  {
   "cell_type": "code",
   "execution_count": 22,
   "id": "9a8fc0fa",
   "metadata": {},
   "outputs": [
    {
     "data": {
      "text/plain": [
       "{' да', '-', 'да', 'да ', 'дв', 'нет'}"
      ]
     },
     "execution_count": 22,
     "metadata": {},
     "output_type": "execute_result"
    }
   ],
   "source": [
    "set(df[defs.QUESTION_10].tolist())"
   ]
  },
  {
   "cell_type": "code",
   "execution_count": 23,
   "id": "2a9fd447",
   "metadata": {},
   "outputs": [],
   "source": [
    "df.replace({\n",
    "    defs.QUESTION_10:\n",
    "    {\n",
    "        '-': np.NaN,\n",
    "        ' да': defs.YES,\n",
    "        'да ': defs.YES,\n",
    "        'дв': defs.YES,\n",
    "    }\n",
    "}, inplace=True)"
   ]
  },
  {
   "cell_type": "markdown",
   "id": "1f87ac45",
   "metadata": {},
   "source": [
    "### 11. Если да, как часто вы общаетесь?"
   ]
  },
  {
   "cell_type": "code",
   "execution_count": 24,
   "id": "70078c0e",
   "metadata": {},
   "outputs": [
    {
     "data": {
      "text/plain": [
       "{'-', 1, 2, 3, 4, 5, nan}"
      ]
     },
     "execution_count": 24,
     "metadata": {},
     "output_type": "execute_result"
    }
   ],
   "source": [
    "set(df[defs.QUESTION_11].tolist())"
   ]
  },
  {
   "cell_type": "code",
   "execution_count": 25,
   "id": "6adac8c6",
   "metadata": {},
   "outputs": [],
   "source": [
    "df.replace({\n",
    "    defs.QUESTION_11:\n",
    "    {\n",
    "        '-': np.NaN,\n",
    "        1: defs.ANSWER_11_1,\n",
    "        2: defs.ANSWER_11_2,\n",
    "        3: defs.ANSWER_11_3,\n",
    "        4: defs.ANSWER_11_4,\n",
    "        5: defs.ANSWER_11_5,\n",
    "        6: defs.ANSWER_11_6,\n",
    "    }\n",
    "}, inplace=True)"
   ]
  },
  {
   "cell_type": "markdown",
   "id": "1b10f203",
   "metadata": {},
   "source": [
    "### 12. Сколько человек живут вместе с Вами?"
   ]
  },
  {
   "cell_type": "code",
   "execution_count": 26,
   "id": "47d2b896",
   "metadata": {},
   "outputs": [
    {
     "data": {
      "text/plain": [
       "{nan, 1.0, 2.0, 3.0, 4.0, nan}"
      ]
     },
     "execution_count": 26,
     "metadata": {},
     "output_type": "execute_result"
    }
   ],
   "source": [
    "set(df[defs.QUESTION_12].tolist())"
   ]
  },
  {
   "cell_type": "code",
   "execution_count": 27,
   "id": "ced06487",
   "metadata": {},
   "outputs": [],
   "source": [
    "df.replace({\n",
    "    defs.QUESTION_12:\n",
    "    {\n",
    "        1.0: defs.ANSWER_12_1,\n",
    "        2.0: defs.ANSWER_12_2,\n",
    "        3.0: defs.ANSWER_12_3,\n",
    "        4.0: defs.ANSWER_12_4,\n",
    "    }\n",
    "}, inplace=True)"
   ]
  },
  {
   "cell_type": "markdown",
   "id": "40f6e0b1",
   "metadata": {},
   "source": [
    "### 13. Каковы Ваши взаимоотношения с соседями?"
   ]
  },
  {
   "cell_type": "code",
   "execution_count": 28,
   "id": "9d383aea",
   "metadata": {},
   "outputs": [
    {
     "data": {
      "text/plain": [
       "{nan, 1.0, 2.0, 3.0, 4.0, nan, 5.0, 6.0, 7.0, 33.0}"
      ]
     },
     "execution_count": 28,
     "metadata": {},
     "output_type": "execute_result"
    }
   ],
   "source": [
    "set(df[defs.QUESTION_13].tolist())"
   ]
  },
  {
   "cell_type": "code",
   "execution_count": 29,
   "id": "e0021758",
   "metadata": {},
   "outputs": [],
   "source": [
    "df.replace({\n",
    "    defs.QUESTION_13:\n",
    "    {\n",
    "        1.0: defs.ANSWER_13_1,\n",
    "        2.0: defs.ANSWER_13_2,\n",
    "        3.0: defs.ANSWER_13_3,\n",
    "        33.0: defs.ANSWER_13_3,\n",
    "        4.0: defs.ANSWER_13_4,\n",
    "        5.0: defs.ANSWER_13_5,\n",
    "        6.0: defs.ANSWER_13_6,\n",
    "        7.0: defs.ANSWER_13_7,\n",
    "    }\n",
    "}, inplace=True)"
   ]
  },
  {
   "cell_type": "markdown",
   "id": "ada5783f",
   "metadata": {},
   "source": [
    "### 14. Как часто Вы встречаетесь с друзьями?"
   ]
  },
  {
   "cell_type": "code",
   "execution_count": 30,
   "id": "aaaa2620",
   "metadata": {},
   "outputs": [
    {
     "data": {
      "text/plain": [
       "{nan, 1.0, 2.0, 3.0, 4.0, nan}"
      ]
     },
     "execution_count": 30,
     "metadata": {},
     "output_type": "execute_result"
    }
   ],
   "source": [
    "set(df[defs.QUESTION_14].tolist())"
   ]
  },
  {
   "cell_type": "code",
   "execution_count": 31,
   "id": "482f2469",
   "metadata": {},
   "outputs": [],
   "source": [
    "df.replace({\n",
    "    defs.QUESTION_14:\n",
    "    {\n",
    "        1.0: defs.ANSWER_14_1,\n",
    "        2.0: defs.ANSWER_14_2,\n",
    "        3.0: defs.ANSWER_14_3,\n",
    "        4.0: defs.ANSWER_14_4,\n",
    "    }\n",
    "}, inplace=True)"
   ]
  },
  {
   "cell_type": "markdown",
   "id": "f425c913",
   "metadata": {},
   "source": [
    "### 15. Есть ли у Вас домашние питомцы? (да/нет)"
   ]
  },
  {
   "cell_type": "code",
   "execution_count": 32,
   "id": "92a49f11",
   "metadata": {},
   "outputs": [
    {
     "data": {
      "text/plain": [
       "{'-', nan, 'да', 'да ', 'ла', 'нет'}"
      ]
     },
     "execution_count": 32,
     "metadata": {},
     "output_type": "execute_result"
    }
   ],
   "source": [
    "set(df[defs.QUESTION_15].tolist())"
   ]
  },
  {
   "cell_type": "code",
   "execution_count": 33,
   "id": "7525eb8c",
   "metadata": {},
   "outputs": [],
   "source": [
    "df.replace({\n",
    "    defs.QUESTION_15:\n",
    "    {\n",
    "        '-': np.NaN,\n",
    "        'да ': defs.YES,\n",
    "        'ла': defs.YES,\n",
    "    }\n",
    "}, inplace=True)"
   ]
  },
  {
   "cell_type": "markdown",
   "id": "3ce80f2b",
   "metadata": {},
   "source": [
    "### 16. В течение последних 7 дней, как часто Вы практиковали тяжелые физические нагрузки?"
   ]
  },
  {
   "cell_type": "code",
   "execution_count": 34,
   "id": "a1f30977",
   "metadata": {},
   "outputs": [
    {
     "data": {
      "text/plain": [
       "{'-', 0, 1, 2, 3, 4, 5, 6, 7, nan}"
      ]
     },
     "execution_count": 34,
     "metadata": {},
     "output_type": "execute_result"
    }
   ],
   "source": [
    "set(df[defs.QUESTION_16].tolist())"
   ]
  },
  {
   "cell_type": "code",
   "execution_count": 35,
   "id": "74e298e0",
   "metadata": {},
   "outputs": [],
   "source": [
    "df.replace({\n",
    "    defs.QUESTION_16:\n",
    "    {\n",
    "        '-': np.NaN,\n",
    "    }\n",
    "}, inplace=True)"
   ]
  },
  {
   "cell_type": "markdown",
   "id": "8c8bbf74",
   "metadata": {},
   "source": [
    "### 17. В течение последних 7 дней, как часто Вы практиковали умеренные физические нагрузки?"
   ]
  },
  {
   "cell_type": "code",
   "execution_count": 36,
   "id": "0a950c33",
   "metadata": {},
   "outputs": [
    {
     "data": {
      "text/plain": [
       "{'-', 0, 1, 2, 3, 4, 5, 6, 7, nan}"
      ]
     },
     "execution_count": 36,
     "metadata": {},
     "output_type": "execute_result"
    }
   ],
   "source": [
    "set(df[defs.QUESTION_17].tolist())"
   ]
  },
  {
   "cell_type": "code",
   "execution_count": 37,
   "id": "c097ae4e",
   "metadata": {},
   "outputs": [],
   "source": [
    "df.replace({\n",
    "    defs.QUESTION_17:\n",
    "    {\n",
    "        '-': np.NaN,\n",
    "    }\n",
    "}, inplace=True)"
   ]
  },
  {
   "cell_type": "markdown",
   "id": "dcfd40ad",
   "metadata": {},
   "source": [
    "### 18. В течение последних 7 дней, как часто Вы ходили пешком минимум 10 минут без перерыва?"
   ]
  },
  {
   "cell_type": "code",
   "execution_count": 38,
   "id": "a7b307ac",
   "metadata": {},
   "outputs": [
    {
     "data": {
      "text/plain": [
       "{'-', 0.0, 1.0, 2.0, 3.0, 4.0, 5.0, 6.0, 7.0, nan, nan}"
      ]
     },
     "execution_count": 38,
     "metadata": {},
     "output_type": "execute_result"
    }
   ],
   "source": [
    "set(df[defs.QUESTION_18].tolist())"
   ]
  },
  {
   "cell_type": "code",
   "execution_count": 39,
   "id": "f40dfd95",
   "metadata": {},
   "outputs": [],
   "source": [
    "df.replace({\n",
    "    defs.QUESTION_18:\n",
    "    {\n",
    "        '-': np.NaN,\n",
    "        0.0: 0,\n",
    "        1.0: 1,\n",
    "        2.0: 2,\n",
    "        3.0: 3,\n",
    "        4.0: 4,\n",
    "        5.0: 5,\n",
    "        6.0: 6,\n",
    "        7.0: 7,\n",
    "    }\n",
    "}, inplace=True)"
   ]
  },
  {
   "cell_type": "markdown",
   "id": "885229d5",
   "metadata": {},
   "source": [
    "### 19. Уровень Вашего образования?"
   ]
  },
  {
   "cell_type": "code",
   "execution_count": 40,
   "id": "83c3e388",
   "metadata": {},
   "outputs": [
    {
     "data": {
      "text/plain": [
       "{nan, 1.0, 2.0, 3.0, 4.0, nan}"
      ]
     },
     "execution_count": 40,
     "metadata": {},
     "output_type": "execute_result"
    }
   ],
   "source": [
    "set(df[defs.QUESTION_19].tolist())"
   ]
  },
  {
   "cell_type": "code",
   "execution_count": 41,
   "id": "ef64c4f5",
   "metadata": {},
   "outputs": [],
   "source": [
    "df.replace({\n",
    "    defs.QUESTION_19:\n",
    "    {\n",
    "        1.0: defs.ANSWER_19_20_1,\n",
    "        2.0: defs.ANSWER_19_20_2,\n",
    "        3.0: defs.ANSWER_19_20_3,\n",
    "        4.0: defs.ANSWER_19_20_4,\n",
    "    }\n",
    "}, inplace=True)"
   ]
  },
  {
   "cell_type": "markdown",
   "id": "4847e6f6",
   "metadata": {},
   "source": [
    "### 20. Каков уровень образования Вашего партнёра? (если применимо)"
   ]
  },
  {
   "cell_type": "code",
   "execution_count": 42,
   "id": "1ed1298c",
   "metadata": {},
   "outputs": [
    {
     "data": {
      "text/plain": [
       "{'-', 1, 2, 3, 4, nan}"
      ]
     },
     "execution_count": 42,
     "metadata": {},
     "output_type": "execute_result"
    }
   ],
   "source": [
    "set(df[defs.QUESTION_20].tolist())"
   ]
  },
  {
   "cell_type": "code",
   "execution_count": 43,
   "id": "4ad5c702",
   "metadata": {},
   "outputs": [],
   "source": [
    "df.replace({\n",
    "    defs.QUESTION_20:\n",
    "    {\n",
    "        '-': np.NaN,\n",
    "        1: defs.ANSWER_19_20_1,\n",
    "        2: defs.ANSWER_19_20_2,\n",
    "        3: defs.ANSWER_19_20_3,\n",
    "        4: defs.ANSWER_19_20_4,\n",
    "    }\n",
    "}, inplace=True)"
   ]
  },
  {
   "cell_type": "markdown",
   "id": "e0ea04b8",
   "metadata": {},
   "source": [
    "### 22. Как долго Вы проживаете в этом месте? (в годах)"
   ]
  },
  {
   "cell_type": "code",
   "execution_count": 44,
   "id": "ec9f1747",
   "metadata": {},
   "outputs": [
    {
     "data": {
      "text/plain": [
       "{'-',\n",
       " 0.5,\n",
       " '1 год',\n",
       " '1 год ',\n",
       " '1 месяц',\n",
       " '1,5 ГОДА',\n",
       " '10 лет',\n",
       " '10 лет ',\n",
       " 11,\n",
       " '11 лет',\n",
       " '11 лет ',\n",
       " '12 лет',\n",
       " '12 лет ',\n",
       " '13 лет',\n",
       " 14,\n",
       " '14 лет',\n",
       " '15 лет',\n",
       " '15 лет ',\n",
       " '16 лет',\n",
       " '17 лет',\n",
       " '18 лет',\n",
       " '19 лет',\n",
       " '2 года',\n",
       " '2 года ',\n",
       " '2,5 года',\n",
       " '2.5 года',\n",
       " '20 лет',\n",
       " '21 год',\n",
       " '22 года',\n",
       " '23 года',\n",
       " '24 года',\n",
       " '25 лет',\n",
       " '26 лет',\n",
       " '27 лет',\n",
       " '28 года',\n",
       " '28 лет',\n",
       " '29 лет',\n",
       " '3 года',\n",
       " '3 года ',\n",
       " '3.5 года',\n",
       " 30,\n",
       " '30 лет',\n",
       " '30 лет ',\n",
       " '31 год',\n",
       " '32 года',\n",
       " '33 года',\n",
       " '33 года ',\n",
       " 34,\n",
       " '34 года',\n",
       " '35 лет',\n",
       " '36 лет',\n",
       " '37 лет',\n",
       " '38 лет',\n",
       " '39 лет',\n",
       " '4 года',\n",
       " '4 года ',\n",
       " '4 лет',\n",
       " '40 лет',\n",
       " '41 год',\n",
       " 42,\n",
       " '42 года',\n",
       " '42года',\n",
       " '43 года',\n",
       " '43 года ',\n",
       " '44 года',\n",
       " '45 лет',\n",
       " '45 лет ',\n",
       " '46 лет',\n",
       " '47 лет',\n",
       " '48 лет',\n",
       " '49 лет',\n",
       " '5 лет',\n",
       " '50 лет',\n",
       " '52 года',\n",
       " '53 года',\n",
       " '54 года',\n",
       " '55 лет',\n",
       " '55 лет ',\n",
       " '56 лет',\n",
       " '57 лет',\n",
       " '58 лет',\n",
       " '59 лет',\n",
       " '6 лет',\n",
       " '6 месяцев',\n",
       " '60 лет',\n",
       " '61 год',\n",
       " '61 год ',\n",
       " '63 года',\n",
       " '64 года',\n",
       " '65 лет',\n",
       " '66 лет',\n",
       " '67 лет',\n",
       " 7,\n",
       " '7 лет',\n",
       " '72 года',\n",
       " '73 года',\n",
       " '77 лет',\n",
       " '79 лет',\n",
       " '8 лет',\n",
       " '9 лет',\n",
       " '?',\n",
       " nan}"
      ]
     },
     "execution_count": 44,
     "metadata": {},
     "output_type": "execute_result"
    }
   ],
   "source": [
    "set(df[defs.QUESTION_22].tolist())"
   ]
  },
  {
   "cell_type": "code",
   "execution_count": 45,
   "id": "42f0525f",
   "metadata": {},
   "outputs": [],
   "source": [
    "df.replace({\n",
    "    defs.QUESTION_22:\n",
    "    {\n",
    "        '-': np.NaN,\n",
    "        '?': np.NaN,\n",
    "    }\n",
    "}, inplace=True)"
   ]
  },
  {
   "cell_type": "code",
   "execution_count": 46,
   "id": "ea01e9b3",
   "metadata": {},
   "outputs": [
    {
     "data": {
      "image/png": "[encoded data removed]",
      "text/plain": [
       "<Figure size 1728x360 with 4 Axes>"
      ]
     },
     "metadata": {
      "needs_background": "light"
     },
     "output_type": "display_data"
    }
   ],
   "source": [
    "df[defs.QUESTION_22] = df[defs.QUESTION_22].apply(convert_time_interval)\n",
    "viz.plot_hists(df, defs.QUESTION_22, defs.QUESTION_22, 80, 85)"
   ]
  },
  {
   "cell_type": "markdown",
   "id": "3ca45387",
   "metadata": {},
   "source": [
    "### 23. Каков тип Вашего дома?"
   ]
  },
  {
   "cell_type": "code",
   "execution_count": 47,
   "id": "a4f980ff",
   "metadata": {},
   "outputs": [
    {
     "data": {
      "text/plain": [
       "{nan, 1.0, 2.0, 3.0, nan}"
      ]
     },
     "execution_count": 47,
     "metadata": {},
     "output_type": "execute_result"
    }
   ],
   "source": [
    "set(df[defs.QUESTION_23].tolist())"
   ]
  },
  {
   "cell_type": "code",
   "execution_count": 48,
   "id": "4c358091",
   "metadata": {},
   "outputs": [],
   "source": [
    "df.replace({\n",
    "    defs.QUESTION_23:\n",
    "    {\n",
    "        1.0: defs.ANSWER_23_1,\n",
    "        2.0: defs.ANSWER_23_2,\n",
    "        3.0: defs.ANSWER_23_3,\n",
    "    }\n",
    "}, inplace=True)"
   ]
  },
  {
   "cell_type": "markdown",
   "id": "b7c74f09",
   "metadata": {},
   "source": [
    "### 24. Если Вы живёте в многоквартирном доме, то на каком этаже?"
   ]
  },
  {
   "cell_type": "code",
   "execution_count": 49,
   "id": "910ca88f",
   "metadata": {},
   "outputs": [
    {
     "data": {
      "text/plain": [
       "{'-',\n",
       " 0,\n",
       " 1,\n",
       " 10,\n",
       " 11,\n",
       " 12,\n",
       " 13,\n",
       " 14,\n",
       " 15,\n",
       " 16,\n",
       " 17,\n",
       " 18,\n",
       " 2,\n",
       " 20,\n",
       " 22,\n",
       " 23,\n",
       " 25,\n",
       " 3,\n",
       " 4,\n",
       " 40,\n",
       " 5,\n",
       " 6,\n",
       " 7,\n",
       " 8,\n",
       " 9,\n",
       " '?',\n",
       " nan}"
      ]
     },
     "execution_count": 49,
     "metadata": {},
     "output_type": "execute_result"
    }
   ],
   "source": [
    "set(df[defs.QUESTION_24].tolist())"
   ]
  },
  {
   "cell_type": "code",
   "execution_count": 50,
   "id": "34dc367b",
   "metadata": {},
   "outputs": [],
   "source": [
    "df.replace({\n",
    "    defs.QUESTION_24:\n",
    "    {\n",
    "        '-': np.NaN,\n",
    "        '?': np.NaN,\n",
    "    }\n",
    "}, inplace=True)"
   ]
  },
  {
   "cell_type": "code",
   "execution_count": 51,
   "id": "a9ce711b",
   "metadata": {},
   "outputs": [
    {
     "data": {
      "image/png": "[encoded data removed]",
      "text/plain": [
       "<Figure size 1728x360 with 4 Axes>"
      ]
     },
     "metadata": {
      "needs_background": "light"
     },
     "output_type": "display_data"
    }
   ],
   "source": [
    "df[defs.QUESTION_24] = df[defs.QUESTION_24].apply(convert_time_interval)\n",
    "viz.plot_hists(df, defs.QUESTION_24, defs.QUESTION_24, 40, 45)"
   ]
  },
  {
   "cell_type": "markdown",
   "id": "d01651ca",
   "metadata": {},
   "source": [
    "### 25. Каким транспортом Вы обычно пользуетесь?"
   ]
  },
  {
   "cell_type": "code",
   "execution_count": 52,
   "id": "84cbcdea",
   "metadata": {},
   "outputs": [
    {
     "data": {
      "text/plain": [
       "{'-', 1.0, 2.0, 3.0, nan, nan}"
      ]
     },
     "execution_count": 52,
     "metadata": {},
     "output_type": "execute_result"
    }
   ],
   "source": [
    "set(df[defs.QUESTION_25].tolist())"
   ]
  },
  {
   "cell_type": "code",
   "execution_count": 53,
   "id": "ba6d78ad",
   "metadata": {},
   "outputs": [],
   "source": [
    "df.replace({\n",
    "    defs.QUESTION_25:\n",
    "    {\n",
    "        '-': np.NaN,\n",
    "        1.0: defs.ANSWER_25_1,\n",
    "        2.0: defs.ANSWER_25_2,\n",
    "        3.0: defs.ANSWER_25_3,\n",
    "    }\n",
    "}, inplace=True)"
   ]
  },
  {
   "cell_type": "markdown",
   "id": "b7d0256b",
   "metadata": {},
   "source": [
    "### 26. Сколько времени занимает Ваш путь до работы в одну сторону?"
   ]
  },
  {
   "cell_type": "code",
   "execution_count": 54,
   "id": "35a4021e",
   "metadata": {},
   "outputs": [
    {
     "data": {
      "text/plain": [
       "{'-', 1, 2, 3, 4, nan}"
      ]
     },
     "execution_count": 54,
     "metadata": {},
     "output_type": "execute_result"
    }
   ],
   "source": [
    "set(df[defs.QUESTION_26].tolist())"
   ]
  },
  {
   "cell_type": "code",
   "execution_count": 55,
   "id": "69d3026d",
   "metadata": {},
   "outputs": [],
   "source": [
    "df.replace({\n",
    "    defs.QUESTION_26:\n",
    "    {\n",
    "        '-': np.NaN,\n",
    "        1: defs.ANSWER_26_1,\n",
    "        2: defs.ANSWER_26_2,\n",
    "        3: defs.ANSWER_26_3,\n",
    "        4: np.NaN,\n",
    "    }\n",
    "}, inplace=True)"
   ]
  },
  {
   "cell_type": "markdown",
   "id": "daa77087",
   "metadata": {},
   "source": [
    "### 27. Каков тип Вашей занятости?"
   ]
  },
  {
   "cell_type": "code",
   "execution_count": 56,
   "id": "2ab01c6c",
   "metadata": {},
   "outputs": [
    {
     "data": {
      "text/plain": [
       "{'-', 1, 2, 3, 4, nan}"
      ]
     },
     "execution_count": 56,
     "metadata": {},
     "output_type": "execute_result"
    }
   ],
   "source": [
    "set(df[defs.QUESTION_27].tolist())"
   ]
  },
  {
   "cell_type": "code",
   "execution_count": 57,
   "id": "9db2269d",
   "metadata": {},
   "outputs": [],
   "source": [
    "df.replace({\n",
    "    defs.QUESTION_27:\n",
    "    {\n",
    "        '-': np.NaN,\n",
    "        1: defs.ANSWER_27_1,\n",
    "        2: defs.ANSWER_27_2,\n",
    "        3: defs.ANSWER_27_3,\n",
    "        4: defs.ANSWER_27_4,\n",
    "    }\n",
    "}, inplace=True)"
   ]
  },
  {
   "cell_type": "markdown",
   "id": "5bf76208",
   "metadata": {},
   "source": [
    "### 28. Каковы Ваши предпочтения в пище?"
   ]
  },
  {
   "cell_type": "code",
   "execution_count": 58,
   "id": "d6b3534d",
   "metadata": {},
   "outputs": [
    {
     "data": {
      "text/plain": [
       "{nan, 1.0, 2.0, 3.0, nan, 4.0}"
      ]
     },
     "execution_count": 58,
     "metadata": {},
     "output_type": "execute_result"
    }
   ],
   "source": [
    "set(df[defs.QUESTION_28].tolist())"
   ]
  },
  {
   "cell_type": "code",
   "execution_count": 59,
   "id": "7f4a6745",
   "metadata": {},
   "outputs": [],
   "source": [
    "df.replace({\n",
    "    defs.QUESTION_28:\n",
    "    {\n",
    "        1.0: defs.ANSWER_28_1,\n",
    "        2.0: defs.ANSWER_28_2,\n",
    "        3.0: defs.ANSWER_28_3,\n",
    "        4.0: defs.ANSWER_28_4,\n",
    "    }\n",
    "}, inplace=True)"
   ]
  },
  {
   "cell_type": "markdown",
   "id": "d51cd17e",
   "metadata": {},
   "source": [
    "### 29. Каков тип Вашего питания?"
   ]
  },
  {
   "cell_type": "code",
   "execution_count": 60,
   "id": "83a2928b",
   "metadata": {},
   "outputs": [
    {
     "data": {
      "text/plain": [
       "{nan, 1.0, 2.0, 3.0, 4.0, nan}"
      ]
     },
     "execution_count": 60,
     "metadata": {},
     "output_type": "execute_result"
    }
   ],
   "source": [
    "set(df[defs.QUESTION_29].tolist())"
   ]
  },
  {
   "cell_type": "code",
   "execution_count": 61,
   "id": "6b011693",
   "metadata": {},
   "outputs": [],
   "source": [
    "df.replace({\n",
    "    defs.QUESTION_29:\n",
    "    {\n",
    "        1.0: defs.ANSWER_29_1,\n",
    "        2.0: defs.ANSWER_29_2,\n",
    "        3.0: defs.ANSWER_29_3,\n",
    "        4.0: defs.ANSWER_29_4,\n",
    "    }\n",
    "}, inplace=True)"
   ]
  },
  {
   "cell_type": "markdown",
   "id": "b6b3ba06",
   "metadata": {},
   "source": [
    "### 30. Вы курите? (да/нет)"
   ]
  },
  {
   "cell_type": "code",
   "execution_count": 62,
   "id": "3e8dbc31",
   "metadata": {},
   "outputs": [
    {
     "data": {
      "text/plain": [
       "{nan, 'да', 'не т', 'нет', 'нет '}"
      ]
     },
     "execution_count": 62,
     "metadata": {},
     "output_type": "execute_result"
    }
   ],
   "source": [
    "set(df[defs.QUESTION_30].tolist())"
   ]
  },
  {
   "cell_type": "code",
   "execution_count": 63,
   "id": "7b2bc31e",
   "metadata": {},
   "outputs": [],
   "source": [
    "df.replace({\n",
    "    defs.QUESTION_30:\n",
    "    {\n",
    "        'не т': defs.NO,\n",
    "        'нет ': defs.NO,\n",
    "    }\n",
    "}, inplace=True)"
   ]
  },
  {
   "cell_type": "markdown",
   "id": "931b6bae",
   "metadata": {},
   "source": [
    "### 31. Количество родов"
   ]
  },
  {
   "cell_type": "code",
   "execution_count": 64,
   "id": "acc9cbd5",
   "metadata": {},
   "outputs": [
    {
     "data": {
      "text/plain": [
       "{0, 1, 2, 3, 4, 6}"
      ]
     },
     "execution_count": 64,
     "metadata": {},
     "output_type": "execute_result"
    }
   ],
   "source": [
    "set(df[defs.QUESTION_31].tolist())"
   ]
  },
  {
   "cell_type": "markdown",
   "id": "140a020f",
   "metadata": {},
   "source": [
    "### 32. Количество прерванных беременностей"
   ]
  },
  {
   "cell_type": "code",
   "execution_count": 65,
   "id": "06fcd90f",
   "metadata": {},
   "outputs": [
    {
     "data": {
      "text/plain": [
       "{0, 1, 2, 3, 4, 5, 6, 7, 8, 12}"
      ]
     },
     "execution_count": 65,
     "metadata": {},
     "output_type": "execute_result"
    }
   ],
   "source": [
    "set(df[defs.QUESTION_32].tolist())"
   ]
  },
  {
   "cell_type": "markdown",
   "id": "ddc847a6",
   "metadata": {},
   "source": [
    "### 33. Гинекологические заболевания (да/нет)"
   ]
  },
  {
   "cell_type": "code",
   "execution_count": 66,
   "id": "eeefa744",
   "metadata": {},
   "outputs": [
    {
     "data": {
      "text/plain": [
       "{'НЕТ', 'да', 'да ', 'есть', 'есть ', 'ней', 'нет', 'нте'}"
      ]
     },
     "execution_count": 66,
     "metadata": {},
     "output_type": "execute_result"
    }
   ],
   "source": [
    "set(df[defs.QUESTION_33].tolist())"
   ]
  },
  {
   "cell_type": "code",
   "execution_count": 67,
   "id": "4081adc7",
   "metadata": {},
   "outputs": [],
   "source": [
    "df.replace({\n",
    "    defs.QUESTION_33:\n",
    "    {\n",
    "        'НЕТ': defs.NO,\n",
    "        'да ': defs.YES,\n",
    "        'есть': defs.YES,\n",
    "        'есть ': defs.YES,\n",
    "        'ней': defs.NO,\n",
    "        'нте': defs.NO,\n",
    "    }\n",
    "}, inplace=True)"
   ]
  },
  {
   "cell_type": "markdown",
   "id": "f8858c2b",
   "metadata": {},
   "source": [
    "### 34. Заболевания щитовидной железы (да/нет)"
   ]
  },
  {
   "cell_type": "code",
   "execution_count": 68,
   "id": "add03bbb",
   "metadata": {},
   "outputs": [
    {
     "data": {
      "text/plain": [
       "{'НЕТ', 'да', 'дв', 'есть', 'есть ', 'нет', 'нет '}"
      ]
     },
     "execution_count": 68,
     "metadata": {},
     "output_type": "execute_result"
    }
   ],
   "source": [
    "set(df[defs.QUESTION_34].tolist())"
   ]
  },
  {
   "cell_type": "code",
   "execution_count": 69,
   "id": "9f7168e2",
   "metadata": {},
   "outputs": [],
   "source": [
    "df.replace({\n",
    "    defs.QUESTION_34:\n",
    "    {\n",
    "        'НЕТ': defs.NO,\n",
    "        'дв': defs.YES,\n",
    "        'есть': defs.YES,\n",
    "        'есть ': defs.YES,\n",
    "        'нет ': defs.NO,\n",
    "    }\n",
    "}, inplace=True)"
   ]
  },
  {
   "cell_type": "markdown",
   "id": "5f041ec0",
   "metadata": {},
   "source": [
    "### 35. Наследственность (да/нет)"
   ]
  },
  {
   "cell_type": "code",
   "execution_count": 70,
   "id": "32d7236c",
   "metadata": {},
   "outputs": [
    {
     "data": {
      "text/plain": [
       "{' нет', 'да', 'есть', 'нет'}"
      ]
     },
     "execution_count": 70,
     "metadata": {},
     "output_type": "execute_result"
    }
   ],
   "source": [
    "set(df[defs.QUESTION_35].tolist())"
   ]
  },
  {
   "cell_type": "code",
   "execution_count": 71,
   "id": "0f37261f",
   "metadata": {},
   "outputs": [],
   "source": [
    "df.replace({\n",
    "    defs.QUESTION_35:\n",
    "    {\n",
    "        ' нет': defs.NO,\n",
    "        'есть': defs.YES,\n",
    "    }\n",
    "}, inplace=True)"
   ]
  },
  {
   "cell_type": "code",
   "execution_count": 72,
   "id": "40f89251",
   "metadata": {},
   "outputs": [],
   "source": [
    "df.to_excel(excel_writer=defs.ETLED_DATA_PATH_step_1, index=False)"
   ]
  }
 ],
 "metadata": {
  "kernelspec": {
   "display_name": "Python 3",
   "language": "python",
   "name": "python3"
  },
  "language_info": {
   "codemirror_mode": {
    "name": "ipython",
    "version": 3
   },
   "file_extension": ".py",
   "mimetype": "text/x-python",
   "name": "python",
   "nbconvert_exporter": "python",
   "pygments_lexer": "ipython3",
   "version": "3.8.3"
  }
 },
 "nbformat": 4,
 "nbformat_minor": 5
}
