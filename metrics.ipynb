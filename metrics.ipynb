{
 "cells": [
  {
   "cell_type": "code",
   "execution_count": 1,
   "id": "4a2655ab",
   "metadata": {},
   "outputs": [],
   "source": [
    "import numpy as np"
   ]
  },
  {
   "cell_type": "code",
   "execution_count": 2,
   "id": "86eb32b8",
   "metadata": {},
   "outputs": [],
   "source": [
    "RANDOM_STATES = [40, 41, 42, 43, 44]"
   ]
  },
  {
   "cell_type": "markdown",
   "id": "9137f306",
   "metadata": {},
   "source": [
    "## scikit-learn: Label Encoding категориальных и ранговых признаков"
   ]
  },
  {
   "cell_type": "code",
   "execution_count": 3,
   "id": "80f8cfc2",
   "metadata": {},
   "outputs": [],
   "source": [
    "accuracy = np.array([0.5, 0.6, 0.56, 0.62, 0.55])\n",
    "precision = np.array([0.5, 0.58, 0.59, 0.62, 0.52])\n",
    "recall = np.array([0.5, 0.6, 0.56, 0.62, 0.55])\n",
    "f1 = np.array([0.5, 0.57, 0.5, 0.62, 0.52])"
   ]
  },
  {
   "cell_type": "code",
   "execution_count": 4,
   "id": "22ca21e9",
   "metadata": {},
   "outputs": [
    {
     "name": "stdout",
     "output_type": "stream",
     "text": [
      "accuracy mean: 0.5660000000000001; accuracy std 0.041761226035642196\n",
      "precision mean: 0.562; precision std 0.044899888641287286\n",
      "recall mean: 0.5660000000000001; recall std 0.041761226035642196\n",
      "f1 mean: 0.542; f1 std 0.046647615158762396\n"
     ]
    }
   ],
   "source": [
    "print(f'accuracy mean: {accuracy.mean()}; accuracy std {accuracy.std()}')\n",
    "print(f'precision mean: {precision.mean()}; precision std {precision.std()}')\n",
    "print(f'recall mean: {recall.mean()}; recall std {recall.std()}')\n",
    "print(f'f1 mean: {f1.mean()}; f1 std {f1.std()}')"
   ]
  },
  {
   "cell_type": "markdown",
   "id": "428a9670",
   "metadata": {},
   "source": [
    "## scikit-learn: Label Encoding ранговых и One-Hot Encoding категориальных признаков"
   ]
  },
  {
   "cell_type": "code",
   "execution_count": 5,
   "id": "c2b96d61",
   "metadata": {},
   "outputs": [],
   "source": [
    "accuracy = np.array([0.49, 0.6, 0.54, 0.6, 0.55])\n",
    "precision = np.array([0.49, 0.58, 0.53, 0.6, 0.52])\n",
    "recall = np.array([0.49, 0.6, 0.54, 0.6, 0.55])\n",
    "f1 = np.array([0.49, 0.57, 0.53, 0.6, 0.52])"
   ]
  },
  {
   "cell_type": "code",
   "execution_count": 6,
   "id": "f2068dab",
   "metadata": {},
   "outputs": [
    {
     "name": "stdout",
     "output_type": "stream",
     "text": [
      "accuracy mean: 0.556; accuracy std 0.041279534881100574\n",
      "precision mean: 0.5439999999999999; precision std 0.04029888335921975\n",
      "recall mean: 0.556; recall std 0.041279534881100574\n",
      "f1 mean: 0.542; f1 std 0.03867815921162742\n"
     ]
    }
   ],
   "source": [
    "print(f'accuracy mean: {accuracy.mean()}; accuracy std {accuracy.std()}')\n",
    "print(f'precision mean: {precision.mean()}; precision std {precision.std()}')\n",
    "print(f'recall mean: {recall.mean()}; recall std {recall.std()}')\n",
    "print(f'f1 mean: {f1.mean()}; f1 std {f1.std()}')"
   ]
  },
  {
   "cell_type": "markdown",
   "id": "249c9d7b",
   "metadata": {},
   "source": [
    "## scikit-learn: One-Hot Encoding категориальных и ранговых признаков"
   ]
  },
  {
   "cell_type": "code",
   "execution_count": 7,
   "id": "b893443a",
   "metadata": {},
   "outputs": [],
   "source": [
    "accuracy = np.array([0.53, 0.54, 0.56, 0.55, 0.55])\n",
    "precision = np.array([0.52, 0.55, 0.59, 0.55, 0.52])\n",
    "recall = np.array([0.52, 0.54, 0.56, 0.55, 0.55])\n",
    "f1 = np.array([0.52, 0.54, 0.5, 0.55, 0.52])"
   ]
  },
  {
   "cell_type": "code",
   "execution_count": 8,
   "id": "a4e9ca1b",
   "metadata": {},
   "outputs": [
    {
     "name": "stdout",
     "output_type": "stream",
     "text": [
      "accuracy mean: 0.546; accuracy std 0.01019803902718558\n",
      "precision mean: 0.546; precision std 0.025768197453450235\n",
      "recall mean: 0.5439999999999999; recall std 0.013564659966250548\n",
      "f1 mean: 0.526; f1 std 0.01743559577416271\n"
     ]
    }
   ],
   "source": [
    "print(f'accuracy mean: {accuracy.mean()}; accuracy std {accuracy.std()}')\n",
    "print(f'precision mean: {precision.mean()}; precision std {precision.std()}')\n",
    "print(f'recall mean: {recall.mean()}; recall std {recall.std()}')\n",
    "print(f'f1 mean: {f1.mean()}; f1 std {f1.std()}')"
   ]
  },
  {
   "cell_type": "markdown",
   "id": "a21ee2ae",
   "metadata": {},
   "source": [
    "## scikit-learn: Multi-Class Target Encoding категориальных и Label Encoding ранговых признаков"
   ]
  },
  {
   "cell_type": "code",
   "execution_count": 9,
   "id": "a7ad5a88",
   "metadata": {},
   "outputs": [],
   "source": [
    "accuracy = np.array([0.53, 0.6, 0.52, 0.62, 0.55])\n",
    "precision = np.array([0.53, 0.58, 0.52, 0.62, 0.52])\n",
    "recall = np.array([0.53, 0.6, 0.52, 0.62, 0.55])\n",
    "f1 = np.array([0.53, 0.57, 0.52, 0.62, 0.52])"
   ]
  },
  {
   "cell_type": "code",
   "execution_count": 10,
   "id": "701d4b34",
   "metadata": {},
   "outputs": [
    {
     "name": "stdout",
     "output_type": "stream",
     "text": [
      "accuracy mean: 0.5640000000000001; accuracy std 0.03929376540877698\n",
      "precision mean: 0.554; precision std 0.03979949748426478\n",
      "recall mean: 0.5640000000000001; recall std 0.03929376540877698\n",
      "f1 mean: 0.552; f1 std 0.038678159211627414\n"
     ]
    }
   ],
   "source": [
    "print(f'accuracy mean: {accuracy.mean()}; accuracy std {accuracy.std()}')\n",
    "print(f'precision mean: {precision.mean()}; precision std {precision.std()}')\n",
    "print(f'recall mean: {recall.mean()}; recall std {recall.std()}')\n",
    "print(f'f1 mean: {f1.mean()}; f1 std {f1.std()}')"
   ]
  },
  {
   "cell_type": "markdown",
   "id": "d8cd07a6",
   "metadata": {},
   "source": [
    "## scikit-learn: Multi-Class Target Encoding категориальных и ранговых признаков"
   ]
  },
  {
   "cell_type": "code",
   "execution_count": 11,
   "id": "d8f65147",
   "metadata": {},
   "outputs": [],
   "source": [
    "accuracy = np.array([0.56, 0.55, 0.55, 0.57, 0.55])\n",
    "precision = np.array([0.55, 0.54, 0.55, 0.57, 0.53])\n",
    "recall = np.array([0.56, 0.55, 0.55, 0.57, 0.55])\n",
    "f1 = np.array([0.55, 0.54, 0.55, 0.57, 0.52])"
   ]
  },
  {
   "cell_type": "code",
   "execution_count": 12,
   "id": "4be8195f",
   "metadata": {},
   "outputs": [
    {
     "name": "stdout",
     "output_type": "stream",
     "text": [
      "accuracy mean: 0.556; accuracy std 0.007999999999999967\n",
      "precision mean: 0.548; precision std 0.013266499161421575\n",
      "recall mean: 0.556; recall std 0.007999999999999967\n",
      "f1 mean: 0.546; f1 std 0.0162480768092719\n"
     ]
    }
   ],
   "source": [
    "print(f'accuracy mean: {accuracy.mean()}; accuracy std {accuracy.std()}')\n",
    "print(f'precision mean: {precision.mean()}; precision std {precision.std()}')\n",
    "print(f'recall mean: {recall.mean()}; recall std {recall.std()}')\n",
    "print(f'f1 mean: {f1.mean()}; f1 std {f1.std()}')"
   ]
  },
  {
   "cell_type": "markdown",
   "id": "92c6fede",
   "metadata": {},
   "source": [
    "# myDecisionTree"
   ]
  },
  {
   "cell_type": "code",
   "execution_count": 13,
   "id": "14ea4164",
   "metadata": {},
   "outputs": [],
   "source": [
    "accuracy = np.array([0.59, 0.55, 0.62, 0.53, 0.59])\n",
    "precision = np.array([0.41, 0.53, 0.42, 0.52, 0.40])\n",
    "recall = np.array([0.58, 0.55, 0.61, 0.53, 0.58])\n",
    "f1 = np.array([0.47, 0.53, 0.50, 0.52, 0.47])"
   ]
  },
  {
   "cell_type": "code",
   "execution_count": 14,
   "id": "842b3c30",
   "metadata": {},
   "outputs": [
    {
     "name": "stdout",
     "output_type": "stream",
     "text": [
      "accuracy mean: 0.576; accuracy std 0.03199999999999997\n",
      "precision mean: 0.45599999999999996; precision std 0.05678027826631358\n",
      "recall mean: 0.57; recall std 0.02756809750418042\n",
      "f1 mean: 0.49800000000000005; f1 std 0.024819347291981736\n"
     ]
    }
   ],
   "source": [
    "print(f'accuracy mean: {accuracy.mean()}; accuracy std {accuracy.std()}')\n",
    "print(f'precision mean: {precision.mean()}; precision std {precision.std()}')\n",
    "print(f'recall mean: {recall.mean()}; recall std {recall.std()}')\n",
    "print(f'f1 mean: {f1.mean()}; f1 std {f1.std()}')"
   ]
  },
  {
   "cell_type": "markdown",
   "id": "8a69318f",
   "metadata": {},
   "source": [
    "# Neural Network"
   ]
  },
  {
   "cell_type": "code",
   "execution_count": 15,
   "id": "fdc34c80",
   "metadata": {},
   "outputs": [],
   "source": [
    "accuracy = np.array([0.58, 0.64, 0.62, 0.63, 0.64])\n",
    "precision = np.array([0.56, 0.64, 0.62, 0.61, 0.63])\n",
    "recall = np.array([0.58, 0.64, 0.62, 0.62, 0.64])\n",
    "f1 = np.array([0.57, 0.64, 0.62, 0.61, 0.63])"
   ]
  },
  {
   "cell_type": "code",
   "execution_count": 16,
   "id": "e8d85713",
   "metadata": {},
   "outputs": [
    {
     "name": "stdout",
     "output_type": "stream",
     "text": [
      "accuracy mean: 0.622; accuracy std 0.02227105745132011\n",
      "precision mean: 0.612; precision std 0.027856776554368225\n",
      "recall mean: 0.62; recall std 0.021908902300206663\n",
      "f1 mean: 0.614; f1 std 0.024166091947189168\n"
     ]
    }
   ],
   "source": [
    "print(f'accuracy mean: {accuracy.mean()}; accuracy std {accuracy.std()}')\n",
    "print(f'precision mean: {precision.mean()}; precision std {precision.std()}')\n",
    "print(f'recall mean: {recall.mean()}; recall std {recall.std()}')\n",
    "print(f'f1 mean: {f1.mean()}; f1 std {f1.std()}')"
   ]
  },
  {
   "cell_type": "markdown",
   "id": "3c76bdb5",
   "metadata": {},
   "source": [
    "# CatBoost "
   ]
  },
  {
   "cell_type": "code",
   "execution_count": 17,
   "id": "8a647b95",
   "metadata": {},
   "outputs": [],
   "source": [
    "accuracy = np.array([0.59, 0.65, 0.63, 0.64, 0.60])\n",
    "precision = np.array([0.58, 0.65, 0.63, 0.62, 0.58])\n",
    "recall = np.array([0.59, 0.65, 0.62, 0.64, 0.60])\n",
    "f1 = np.array([0.58, 0.64, 0.62, 0.62, 0.57])"
   ]
  },
  {
   "cell_type": "code",
   "execution_count": 18,
   "id": "91d1cd87",
   "metadata": {},
   "outputs": [
    {
     "name": "stdout",
     "output_type": "stream",
     "text": [
      "accuracy mean: 0.6220000000000001; accuracy std 0.02315167380558047\n",
      "precision mean: 0.612; precision std 0.027856776554368263\n",
      "recall mean: 0.62; recall std 0.02280350850198278\n",
      "f1 mean: 0.606; f1 std 0.026532998322843223\n"
     ]
    }
   ],
   "source": [
    "print(f'accuracy mean: {accuracy.mean()}; accuracy std {accuracy.std()}')\n",
    "print(f'precision mean: {precision.mean()}; precision std {precision.std()}')\n",
    "print(f'recall mean: {recall.mean()}; recall std {recall.std()}')\n",
    "print(f'f1 mean: {f1.mean()}; f1 std {f1.std()}')"
   ]
  },
  {
   "cell_type": "markdown",
   "id": "49627a54",
   "metadata": {},
   "source": [
    "$$ \\text{Gain}(A, Q) = \\text{impurity}(A, S) - \\sum^q_{i=1} \\frac{|A_i|}{|A|}\\text{impurity}(A_i, Q), $$"
   ]
  },
  {
   "cell_type": "markdown",
   "id": "18d59eab",
   "metadata": {},
   "source": [
    "$$ \\text{H}(A, S) = -\\sum^S_{i=1} \\frac{m_i}{n} \\log \\frac{m_i}{n}, $$"
   ]
  },
  {
   "cell_type": "markdown",
   "id": "c763b434",
   "metadata": {},
   "source": [
    "$$ \\text{Gini}(A, S) = 1 - \\sum^S_{i=1} \\frac{|A_i|}{|A|}. $$"
   ]
  },
  {
   "cell_type": "markdown",
   "id": "7fad2b3f",
   "metadata": {},
   "source": [
    "$$ \\text{Normalization}(x) = \\frac{x - x_{min}}{x_{max} - x_{min}}. $$"
   ]
  },
  {
   "cell_type": "markdown",
   "id": "e3c583a7",
   "metadata": {},
   "source": [
    "$$ \\text{Standartization}(x) = \\frac{x - x_{mean}}{x_{std}}. $$"
   ]
  },
  {
   "cell_type": "markdown",
   "id": "5be6c8f3",
   "metadata": {},
   "source": [
    "$$ \\frac{\\sum^{p-1}_{j=1} [x_{\\sigma_j, k} = x_{\\sigma_p, k}] Y_{\\sigma_j} + a \\cdot P}{\\sum^{p-1}_{j=1} [x_{\\sigma_j, k} = x_{\\sigma_p, k}] + a}, $$"
   ]
  },
  {
   "cell_type": "markdown",
   "id": "49e149b5",
   "metadata": {},
   "source": [
    "$$ \\sigma(x) = \\frac{1}{1 + e^{-x}}. $$"
   ]
  },
  {
   "cell_type": "markdown",
   "id": "cae987bf",
   "metadata": {},
   "source": [
    "$$ \\tanh(x) = 2 \\sigma (2x) - 1. $$"
   ]
  },
  {
   "cell_type": "markdown",
   "id": "96f7e6a4",
   "metadata": {},
   "source": [
    "$$ \\text{Maxout}(x) = \\max(w^T_1x + b_1, w^T_2x + b_2). $$"
   ]
  },
  {
   "cell_type": "markdown",
   "id": "2e0e0315",
   "metadata": {},
   "source": [
    "$$ \\text{feature_importance}_F = \\sum_{trees, leafs_F} (v_1 - avr)^2 \\cdot c_1 + (v_2 - avr)^2 \\cdot c_2, $$"
   ]
  },
  {
   "cell_type": "markdown",
   "id": "b208f262",
   "metadata": {},
   "source": [
    "$$ avr = \\frac{v_1 \\cdot c_1 + v_2 \\cdot c_2}{c_1 + c_2}, $$"
   ]
  },
  {
   "cell_type": "markdown",
   "id": "29f892b4",
   "metadata": {},
   "source": [
    "$$ \\text{feature_total_importance}_j = \\text{feature_importance} + \\sum^N_{i=1} \\text{average_feature_importance}_i $$"
   ]
  }
 ],
 "metadata": {
  "kernelspec": {
   "display_name": "Python 3",
   "language": "python",
   "name": "python3"
  },
  "language_info": {
   "codemirror_mode": {
    "name": "ipython",
    "version": 3
   },
   "file_extension": ".py",
   "mimetype": "text/x-python",
   "name": "python",
   "nbconvert_exporter": "python",
   "pygments_lexer": "ipython3",
   "version": "3.8.3"
  }
 },
 "nbformat": 4,
 "nbformat_minor": 5
}
