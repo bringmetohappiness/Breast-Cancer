{
 "cells": [
  {
   "cell_type": "code",
   "execution_count": 1,
   "id": "4a2655ab",
   "metadata": {},
   "outputs": [],
   "source": [
    "import numpy as np"
   ]
  },
  {
   "cell_type": "markdown",
   "id": "698d0907",
   "metadata": {},
   "source": [
    "[40, 41, 42, 43, 44, 45, 46, 47, 48]"
   ]
  },
  {
   "cell_type": "markdown",
   "id": "9137f306",
   "metadata": {},
   "source": [
    "# Label Encoding"
   ]
  },
  {
   "cell_type": "code",
   "execution_count": 2,
   "id": "80f8cfc2",
   "metadata": {},
   "outputs": [],
   "source": [
    "# accuracy = np.array([0.61, 0.64, 0.59, 0.55, 0.58, 0.64, 0.58, 0.59, 0.53])\n",
    "# precision = np.array([0.60, 0.63, 0.56,  0.53, 0.57, 0.65, 0.56, 0.59, 0.53])\n",
    "# recall = np.array([0.60, 0.63, 0.58, 0.55, 0.58, 0.64, 0.58, 0.59, 0.53])\n",
    "# f1 = np.array([0.60, 0.62, 0.57, 0.53, 0.58, 0.64, 0.56, 0.59, 0.53])\n",
    "\n",
    "accuracy = np.array([0.61, 0.64, 0.59, 0.55, 0.58])\n",
    "precision = np.array([0.60, 0.63, 0.56, 0.53, 0.57])\n",
    "recall = np.array([0.60, 0.63, 0.58, 0.55, 0.58])\n",
    "f1 = np.array([0.60, 0.62, 0.57, 0.53, 0.58])"
   ]
  },
  {
   "cell_type": "code",
   "execution_count": 3,
   "id": "22ca21e9",
   "metadata": {},
   "outputs": [
    {
     "name": "stdout",
     "output_type": "stream",
     "text": [
      "accuracy mean: 0.594; accuracy std 0.03006659275674581\n",
      "precision mean: 0.5780000000000001; precision std 0.03429285639896448\n",
      "recall mean: 0.5880000000000001; recall std 0.02638181191654583\n",
      "f1 mean: 0.5800000000000001; f1 std 0.030331501776206193\n"
     ]
    }
   ],
   "source": [
    "print(f'accuracy mean: {accuracy.mean()}; accuracy std {accuracy.std()}')\n",
    "print(f'precision mean: {precision.mean()}; precision std {precision.std()}')\n",
    "print(f'recall mean: {recall.mean()}; recall std {recall.std()}')\n",
    "print(f'f1 mean: {f1.mean()}; f1 std {f1.std()}')"
   ]
  },
  {
   "cell_type": "markdown",
   "id": "428a9670",
   "metadata": {},
   "source": [
    "# One-Hot Encoding"
   ]
  },
  {
   "cell_type": "markdown",
   "id": "e952308f",
   "metadata": {},
   "source": [
    "кодирование только категориальных признаков"
   ]
  },
  {
   "cell_type": "code",
   "execution_count": 4,
   "id": "c2b96d61",
   "metadata": {},
   "outputs": [],
   "source": [
    "# accuracy = np.array([0.61, 0.61, 0.59, 0.61, 0.59, 0.59, 0.58, 0.56, 0.54])\n",
    "# precision = np.array([0.60, 0.60, 0.54, 0.59, 0.57, 0.41, 0.56, 0.57, 0.53])\n",
    "# recall = np.array([0.60, 0.60, 0.58, 0.61, 0.58, 0.59, 0.58, 0.56, 0.54])\n",
    "# f1 = np.array([0.60, 0.60, 0.54, 0.58, 0.58, 0.48, 0.56, 0.56, 0.53])\n",
    "\n",
    "accuracy = np.array([0.61, 0.61, 0.59, 0.61, 0.59])\n",
    "precision = np.array([0.60, 0.60, 0.54, 0.59, 0.57])\n",
    "recall = np.array([0.60, 0.60, 0.58, 0.61, 0.58])\n",
    "f1 = np.array([0.60, 0.60, 0.54, 0.58, 0.58])"
   ]
  },
  {
   "cell_type": "code",
   "execution_count": 5,
   "id": "f2068dab",
   "metadata": {},
   "outputs": [
    {
     "name": "stdout",
     "output_type": "stream",
     "text": [
      "accuracy mean: 0.602; accuracy std 0.00979795897113272\n",
      "precision mean: 0.58; precision std 0.02280350850198274\n",
      "recall mean: 0.594; recall std 0.01200000000000001\n",
      "f1 mean: 0.58; f1 std 0.021908902300206624\n"
     ]
    }
   ],
   "source": [
    "print(f'accuracy mean: {accuracy.mean()}; accuracy std {accuracy.std()}')\n",
    "print(f'precision mean: {precision.mean()}; precision std {precision.std()}')\n",
    "print(f'recall mean: {recall.mean()}; recall std {recall.std()}')\n",
    "print(f'f1 mean: {f1.mean()}; f1 std {f1.std()}')"
   ]
  },
  {
   "cell_type": "markdown",
   "id": "249c9d7b",
   "metadata": {},
   "source": [
    "кодироввание категориальных и ранговых признаков"
   ]
  },
  {
   "cell_type": "code",
   "execution_count": 6,
   "id": "b893443a",
   "metadata": {},
   "outputs": [],
   "source": [
    "# accuracy = np.array([0.65, 0.53, 0.59, 0.60, 0.56, 0.59, 0.60, 0.59, 0.59])\n",
    "# precision = np.array([0.64, 0.52, 0.54, 0.59, 0.57, 0.41, 0.59, 0.58, 0.56])\n",
    "# recall = np.array([0.64, 0.53, 0.58, 0.59, 0.56, 0.59, 0.60, 0.59, 0.58])\n",
    "# f1 = np.array([0.63, 0.52, 0.54, 0.59, 0.56, 0.48, 0.59, 0.58, 0.55])\n",
    "\n",
    "accuracy = np.array([0.65, 0.53, 0.59, 0.60, 0.56])\n",
    "precision = np.array([0.64, 0.52, 0.54, 0.59, 0.57])\n",
    "recall = np.array([0.64, 0.53, 0.58, 0.59, 0.56])\n",
    "f1 = np.array([0.63, 0.52, 0.54, 0.59, 0.56])"
   ]
  },
  {
   "cell_type": "code",
   "execution_count": 7,
   "id": "a4e9ca1b",
   "metadata": {},
   "outputs": [
    {
     "name": "stdout",
     "output_type": "stream",
     "text": [
      "accuracy mean: 0.5860000000000001; accuracy std 0.04029888335921976\n",
      "precision mean: 0.572; precision std 0.041665333311999314\n",
      "recall mean: 0.58; recall std 0.03633180424916989\n",
      "f1 mean: 0.568; f1 std 0.03867815921162742\n"
     ]
    }
   ],
   "source": [
    "print(f'accuracy mean: {accuracy.mean()}; accuracy std {accuracy.std()}')\n",
    "print(f'precision mean: {precision.mean()}; precision std {precision.std()}')\n",
    "print(f'recall mean: {recall.mean()}; recall std {recall.std()}')\n",
    "print(f'f1 mean: {f1.mean()}; f1 std {f1.std()}')"
   ]
  },
  {
   "cell_type": "markdown",
   "id": "a21ee2ae",
   "metadata": {},
   "source": [
    "# Target Encoding"
   ]
  },
  {
   "cell_type": "markdown",
   "id": "17bc3a6e",
   "metadata": {},
   "source": [
    "кодирование только категориальных признаков"
   ]
  },
  {
   "cell_type": "code",
   "execution_count": 8,
   "id": "a7ad5a88",
   "metadata": {},
   "outputs": [],
   "source": [
    "# accuracy = np.array([0.61, 0.60, 0.58, 0.55, 0.57, 0.59, 0.58, 0.57, 0.53])\n",
    "# precision = np.array([0.60, 0.59, 0.55, 0.52, 0.56, 0.41, 0.56, 0.58, 0.53])\n",
    "# recall = np.array([0.60, 0.59, 0.57, 0.54, 0.57, 0.59, 0.58, 0.57, 0.53])\n",
    "# f1 = np.array([0.60, 0.58, 0.54, 0.52, 0.56, 0.48, 0.56, 0.57, 0.53])\n",
    "\n",
    "accuracy = np.array([0.61, 0.60, 0.58, 0.55, 0.57])\n",
    "precision = np.array([0.60, 0.59, 0.55, 0.52, 0.56])\n",
    "recall = np.array([0.60, 0.59, 0.57, 0.54, 0.57])\n",
    "f1 = np.array([0.60, 0.58, 0.54, 0.52, 0.56])"
   ]
  },
  {
   "cell_type": "code",
   "execution_count": 9,
   "id": "701d4b34",
   "metadata": {},
   "outputs": [
    {
     "name": "stdout",
     "output_type": "stream",
     "text": [
      "accuracy mean: 0.582; accuracy std 0.02135415650406261\n",
      "precision mean: 0.564; precision std 0.02870540018881463\n",
      "recall mean: 0.574; recall std 0.020591260281973982\n",
      "f1 mean: 0.56; f1 std 0.02828427124746188\n"
     ]
    }
   ],
   "source": [
    "print(f'accuracy mean: {accuracy.mean()}; accuracy std {accuracy.std()}')\n",
    "print(f'precision mean: {precision.mean()}; precision std {precision.std()}')\n",
    "print(f'recall mean: {recall.mean()}; recall std {recall.std()}')\n",
    "print(f'f1 mean: {f1.mean()}; f1 std {f1.std()}')"
   ]
  },
  {
   "cell_type": "markdown",
   "id": "d8cd07a6",
   "metadata": {},
   "source": [
    "кодирование категориальных и ранговых признаков"
   ]
  },
  {
   "cell_type": "code",
   "execution_count": 10,
   "id": "d8f65147",
   "metadata": {},
   "outputs": [],
   "source": [
    "# accuracy = np.array([0.59, 0.66, 0.59, 0.55, 0.56, 0.59, 0.60, 0.54, 0.61])\n",
    "# precision = np.array([0.57, 0.65, 0.54, 0.52, 0.57, 0.58, 0.60, 0.54, 0.61])\n",
    "# recall = np.array([0.58, 0.65, 0.58, 0.55, 0.56, 0.58, 0.60, 0.54, 0.61])\n",
    "# f1 = np.array([0.56, 0.64, 0.54, 0.53, 0.56, 0.58, 0.59, 0.54, 0.60])\n",
    "\n",
    "accuracy = np.array([0.59, 0.66, 0.59, 0.55, 0.56])\n",
    "precision = np.array([0.57, 0.65, 0.54, 0.52, 0.57])\n",
    "recall = np.array([0.58, 0.65, 0.58, 0.55, 0.56])\n",
    "f1 = np.array([0.56, 0.64, 0.54, 0.53, 0.56])"
   ]
  },
  {
   "cell_type": "code",
   "execution_count": 11,
   "id": "4be8195f",
   "metadata": {},
   "outputs": [
    {
     "name": "stdout",
     "output_type": "stream",
     "text": [
      "accuracy mean: 0.59; accuracy std 0.03847076812334268\n",
      "precision mean: 0.5700000000000001; precision std 0.04427188724235731\n",
      "recall mean: 0.5840000000000001; recall std 0.0349857113690718\n",
      "f1 mean: 0.5660000000000001; f1 std 0.03878143885933062\n"
     ]
    }
   ],
   "source": [
    "print(f'accuracy mean: {accuracy.mean()}; accuracy std {accuracy.std()}')\n",
    "print(f'precision mean: {precision.mean()}; precision std {precision.std()}')\n",
    "print(f'recall mean: {recall.mean()}; recall std {recall.std()}')\n",
    "print(f'f1 mean: {f1.mean()}; f1 std {f1.std()}')"
   ]
  },
  {
   "cell_type": "markdown",
   "id": "92c6fede",
   "metadata": {},
   "source": [
    "# myDecisionTree"
   ]
  },
  {
   "cell_type": "code",
   "execution_count": 12,
   "id": "14ea4164",
   "metadata": {},
   "outputs": [],
   "source": [
    "accuracy = np.array([0.59, 0.55, 0.62, 0.53, 0.59])\n",
    "precision = np.array([0.41, 0.53, 0.42, 0.52, 0.40])\n",
    "recall = np.array([0.58, 0.55, 0.61, 0.53, 0.58])\n",
    "f1 = np.array([0.47, 0.53, 0.50, 0.52, 0.47])"
   ]
  },
  {
   "cell_type": "code",
   "execution_count": 13,
   "id": "842b3c30",
   "metadata": {},
   "outputs": [
    {
     "name": "stdout",
     "output_type": "stream",
     "text": [
      "accuracy mean: 0.576; accuracy std 0.03199999999999997\n",
      "precision mean: 0.45599999999999996; precision std 0.05678027826631358\n",
      "recall mean: 0.57; recall std 0.02756809750418042\n",
      "f1 mean: 0.49800000000000005; f1 std 0.024819347291981736\n"
     ]
    }
   ],
   "source": [
    "print(f'accuracy mean: {accuracy.mean()}; accuracy std {accuracy.std()}')\n",
    "print(f'precision mean: {precision.mean()}; precision std {precision.std()}')\n",
    "print(f'recall mean: {recall.mean()}; recall std {recall.std()}')\n",
    "print(f'f1 mean: {f1.mean()}; f1 std {f1.std()}')"
   ]
  }
 ],
 "metadata": {
  "kernelspec": {
   "display_name": "Python 3",
   "language": "python",
   "name": "python3"
  },
  "language_info": {
   "codemirror_mode": {
    "name": "ipython",
    "version": 3
   },
   "file_extension": ".py",
   "mimetype": "text/x-python",
   "name": "python",
   "nbconvert_exporter": "python",
   "pygments_lexer": "ipython3",
   "version": "3.8.3"
  }
 },
 "nbformat": 4,
 "nbformat_minor": 5
}
