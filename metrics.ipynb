{
 "cells": [
  {
   "cell_type": "code",
   "execution_count": 1,
   "id": "4a2655ab",
   "metadata": {},
   "outputs": [],
   "source": [
    "import numpy as np"
   ]
  },
  {
   "cell_type": "code",
   "execution_count": 2,
   "id": "86eb32b8",
   "metadata": {},
   "outputs": [],
   "source": [
    "RANDOM_STATES = [40, 41, 42, 43, 44]"
   ]
  },
  {
   "cell_type": "markdown",
   "id": "9137f306",
   "metadata": {},
   "source": [
    "# Label Encoding"
   ]
  },
  {
   "cell_type": "code",
   "execution_count": 3,
   "id": "80f8cfc2",
   "metadata": {},
   "outputs": [],
   "source": [
    "accuracy = np.array([0.5, 0.6, 0.56, 0.62, 0.55])\n",
    "precision = np.array([0.5, 0.58, 0.59, 0.62, 0.52])\n",
    "recall = np.array([0.5, 0.6, 0.56, 0.62, 0.55])\n",
    "f1 = np.array([0.5, 0.57, 0.5, 0.62, 0.52])"
   ]
  },
  {
   "cell_type": "code",
   "execution_count": 4,
   "id": "22ca21e9",
   "metadata": {},
   "outputs": [
    {
     "name": "stdout",
     "output_type": "stream",
     "text": [
      "accuracy mean: 0.5660000000000001; accuracy std 0.041761226035642196\n",
      "precision mean: 0.562; precision std 0.044899888641287286\n",
      "recall mean: 0.5660000000000001; recall std 0.041761226035642196\n",
      "f1 mean: 0.542; f1 std 0.046647615158762396\n"
     ]
    }
   ],
   "source": [
    "print(f'accuracy mean: {accuracy.mean()}; accuracy std {accuracy.std()}')\n",
    "print(f'precision mean: {precision.mean()}; precision std {precision.std()}')\n",
    "print(f'recall mean: {recall.mean()}; recall std {recall.std()}')\n",
    "print(f'f1 mean: {f1.mean()}; f1 std {f1.std()}')"
   ]
  },
  {
   "cell_type": "markdown",
   "id": "428a9670",
   "metadata": {},
   "source": [
    "# One-Hot Encoding"
   ]
  },
  {
   "cell_type": "markdown",
   "id": "e952308f",
   "metadata": {},
   "source": [
    "кодирование только категориальных признаков"
   ]
  },
  {
   "cell_type": "code",
   "execution_count": 5,
   "id": "c2b96d61",
   "metadata": {},
   "outputs": [],
   "source": [
    "accuracy = np.array([0.49, 0.6, 0.54, 0.6, 0.55])\n",
    "precision = np.array([0.49, 0.58, 0.53, 0.6, 0.52])\n",
    "recall = np.array([0.49, 0.6, 0.54, 0.6, 0.55])\n",
    "f1 = np.array([0.49, 0.57, 0.53, 0.6, 0.52])"
   ]
  },
  {
   "cell_type": "code",
   "execution_count": 6,
   "id": "f2068dab",
   "metadata": {},
   "outputs": [
    {
     "name": "stdout",
     "output_type": "stream",
     "text": [
      "accuracy mean: 0.556; accuracy std 0.041279534881100574\n",
      "precision mean: 0.5439999999999999; precision std 0.04029888335921975\n",
      "recall mean: 0.556; recall std 0.041279534881100574\n",
      "f1 mean: 0.542; f1 std 0.03867815921162742\n"
     ]
    }
   ],
   "source": [
    "print(f'accuracy mean: {accuracy.mean()}; accuracy std {accuracy.std()}')\n",
    "print(f'precision mean: {precision.mean()}; precision std {precision.std()}')\n",
    "print(f'recall mean: {recall.mean()}; recall std {recall.std()}')\n",
    "print(f'f1 mean: {f1.mean()}; f1 std {f1.std()}')"
   ]
  },
  {
   "cell_type": "markdown",
   "id": "249c9d7b",
   "metadata": {},
   "source": [
    "кодироввание категориальных и ранговых признаков"
   ]
  },
  {
   "cell_type": "code",
   "execution_count": 7,
   "id": "b893443a",
   "metadata": {},
   "outputs": [],
   "source": [
    "accuracy = np.array([0.53, 0.54, 0.56, 0.55, 0.55])\n",
    "precision = np.array([0.52, 0.55, 0.59, 0.55, 0.52])\n",
    "recall = np.array([0.52, 0.54, 0.56, 0.55, 0.55])\n",
    "f1 = np.array([0.52, 0.54, 0.5, 0.55, 0.52])"
   ]
  },
  {
   "cell_type": "code",
   "execution_count": 8,
   "id": "a4e9ca1b",
   "metadata": {},
   "outputs": [
    {
     "name": "stdout",
     "output_type": "stream",
     "text": [
      "accuracy mean: 0.546; accuracy std 0.01019803902718558\n",
      "precision mean: 0.546; precision std 0.025768197453450235\n",
      "recall mean: 0.5439999999999999; recall std 0.013564659966250548\n",
      "f1 mean: 0.526; f1 std 0.01743559577416271\n"
     ]
    }
   ],
   "source": [
    "print(f'accuracy mean: {accuracy.mean()}; accuracy std {accuracy.std()}')\n",
    "print(f'precision mean: {precision.mean()}; precision std {precision.std()}')\n",
    "print(f'recall mean: {recall.mean()}; recall std {recall.std()}')\n",
    "print(f'f1 mean: {f1.mean()}; f1 std {f1.std()}')"
   ]
  },
  {
   "cell_type": "markdown",
   "id": "a21ee2ae",
   "metadata": {},
   "source": [
    "# Target Encoding"
   ]
  },
  {
   "cell_type": "markdown",
   "id": "17bc3a6e",
   "metadata": {},
   "source": [
    "кодирование только категориальных признаков"
   ]
  },
  {
   "cell_type": "code",
   "execution_count": 9,
   "id": "a7ad5a88",
   "metadata": {},
   "outputs": [],
   "source": [
    "accuracy = np.array([0.53, 0.6, 0.52, 0.62, 0.55])\n",
    "precision = np.array([0.53, 0.58, 0.52, 0.62, 0.52])\n",
    "recall = np.array([0.53, 0.6, 0.52, 0.62, 0.55])\n",
    "f1 = np.array([0.53, 0.57, 0.52, 0.62, 0.52])"
   ]
  },
  {
   "cell_type": "code",
   "execution_count": 10,
   "id": "701d4b34",
   "metadata": {},
   "outputs": [
    {
     "name": "stdout",
     "output_type": "stream",
     "text": [
      "accuracy mean: 0.5640000000000001; accuracy std 0.03929376540877698\n",
      "precision mean: 0.554; precision std 0.03979949748426478\n",
      "recall mean: 0.5640000000000001; recall std 0.03929376540877698\n",
      "f1 mean: 0.552; f1 std 0.038678159211627414\n"
     ]
    }
   ],
   "source": [
    "print(f'accuracy mean: {accuracy.mean()}; accuracy std {accuracy.std()}')\n",
    "print(f'precision mean: {precision.mean()}; precision std {precision.std()}')\n",
    "print(f'recall mean: {recall.mean()}; recall std {recall.std()}')\n",
    "print(f'f1 mean: {f1.mean()}; f1 std {f1.std()}')"
   ]
  },
  {
   "cell_type": "markdown",
   "id": "d8cd07a6",
   "metadata": {},
   "source": [
    "кодирование категориальных и ранговых признаков"
   ]
  },
  {
   "cell_type": "code",
   "execution_count": 11,
   "id": "d8f65147",
   "metadata": {},
   "outputs": [],
   "source": [
    "accuracy = np.array([0.52, 0.6, 0.56, 0.56, 0.57])\n",
    "precision = np.array([0.51, 0.6, 0.56, 0.56, 0.55])\n",
    "recall = np.array([0.52, 0.6, 0.56, 0.56, 0.57])\n",
    "f1 = np.array([0.51, 0.6, 0.55, 0.56, 0.55])"
   ]
  },
  {
   "cell_type": "code",
   "execution_count": 12,
   "id": "4be8195f",
   "metadata": {},
   "outputs": [
    {
     "name": "stdout",
     "output_type": "stream",
     "text": [
      "accuracy mean: 0.562; accuracy std 0.02561249694973138\n",
      "precision mean: 0.556; precision std 0.028705400188814643\n",
      "recall mean: 0.562; recall std 0.02561249694973138\n",
      "f1 mean: 0.5539999999999999; f1 std 0.02870540018881464\n"
     ]
    }
   ],
   "source": [
    "print(f'accuracy mean: {accuracy.mean()}; accuracy std {accuracy.std()}')\n",
    "print(f'precision mean: {precision.mean()}; precision std {precision.std()}')\n",
    "print(f'recall mean: {recall.mean()}; recall std {recall.std()}')\n",
    "print(f'f1 mean: {f1.mean()}; f1 std {f1.std()}')"
   ]
  },
  {
   "cell_type": "markdown",
   "id": "92c6fede",
   "metadata": {},
   "source": [
    "# myDecisionTree"
   ]
  },
  {
   "cell_type": "code",
   "execution_count": 13,
   "id": "14ea4164",
   "metadata": {},
   "outputs": [],
   "source": [
    "accuracy = np.array([0.59, 0.55, 0.62, 0.53, 0.59])\n",
    "precision = np.array([0.41, 0.53, 0.42, 0.52, 0.40])\n",
    "recall = np.array([0.58, 0.55, 0.61, 0.53, 0.58])\n",
    "f1 = np.array([0.47, 0.53, 0.50, 0.52, 0.47])"
   ]
  },
  {
   "cell_type": "code",
   "execution_count": 14,
   "id": "842b3c30",
   "metadata": {},
   "outputs": [
    {
     "name": "stdout",
     "output_type": "stream",
     "text": [
      "accuracy mean: 0.576; accuracy std 0.03199999999999997\n",
      "precision mean: 0.45599999999999996; precision std 0.05678027826631358\n",
      "recall mean: 0.57; recall std 0.02756809750418042\n",
      "f1 mean: 0.49800000000000005; f1 std 0.024819347291981736\n"
     ]
    }
   ],
   "source": [
    "print(f'accuracy mean: {accuracy.mean()}; accuracy std {accuracy.std()}')\n",
    "print(f'precision mean: {precision.mean()}; precision std {precision.std()}')\n",
    "print(f'recall mean: {recall.mean()}; recall std {recall.std()}')\n",
    "print(f'f1 mean: {f1.mean()}; f1 std {f1.std()}')"
   ]
  },
  {
   "cell_type": "markdown",
   "id": "8a69318f",
   "metadata": {},
   "source": [
    "# Neural Network"
   ]
  },
  {
   "cell_type": "code",
   "execution_count": 15,
   "id": "fdc34c80",
   "metadata": {},
   "outputs": [],
   "source": [
    "accuracy = np.array([0.58, 0.64, 0.62, 0.63, 0.64])\n",
    "precision = np.array([0.56, 0.64, 0.62, 0.61, 0.63])\n",
    "recall = np.array([0.58, 0.64, 0.62, 0.62, 0.64])\n",
    "f1 = np.array([0.57, 0.64, 0.62, 0.61, 0.63])"
   ]
  },
  {
   "cell_type": "code",
   "execution_count": 16,
   "id": "e8d85713",
   "metadata": {},
   "outputs": [
    {
     "name": "stdout",
     "output_type": "stream",
     "text": [
      "accuracy mean: 0.622; accuracy std 0.02227105745132011\n",
      "precision mean: 0.612; precision std 0.027856776554368225\n",
      "recall mean: 0.62; recall std 0.021908902300206663\n",
      "f1 mean: 0.614; f1 std 0.024166091947189168\n"
     ]
    }
   ],
   "source": [
    "print(f'accuracy mean: {accuracy.mean()}; accuracy std {accuracy.std()}')\n",
    "print(f'precision mean: {precision.mean()}; precision std {precision.std()}')\n",
    "print(f'recall mean: {recall.mean()}; recall std {recall.std()}')\n",
    "print(f'f1 mean: {f1.mean()}; f1 std {f1.std()}')"
   ]
  }
 ],
 "metadata": {
  "kernelspec": {
   "display_name": "Python 3",
   "language": "python",
   "name": "python3"
  },
  "language_info": {
   "codemirror_mode": {
    "name": "ipython",
    "version": 3
   },
   "file_extension": ".py",
   "mimetype": "text/x-python",
   "name": "python",
   "nbconvert_exporter": "python",
   "pygments_lexer": "ipython3",
   "version": "3.8.3"
  }
 },
 "nbformat": 4,
 "nbformat_minor": 5
}
