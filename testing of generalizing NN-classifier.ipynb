{
 "cells": [
  {
   "cell_type": "markdown",
   "id": "ac05eb72",
   "metadata": {},
   "source": [
    "# Тестирование обобщающего NN-классификатора новообразований молочной железы"
   ]
  },
  {
   "cell_type": "code",
   "execution_count": 1,
   "id": "8d43d709",
   "metadata": {},
   "outputs": [
    {
     "ename": "ModuleNotFoundError",
     "evalue": "No module named 'sklearn'",
     "output_type": "error",
     "traceback": [
      "\u001b[1;31m---------------------------------------------------------------------------\u001b[0m",
      "\u001b[1;31mModuleNotFoundError\u001b[0m                       Traceback (most recent call last)",
      "\u001b[1;32m<ipython-input-1-8324c5e48212>\u001b[0m in \u001b[0;36m<module>\u001b[1;34m\u001b[0m\n\u001b[1;32m----> 1\u001b[1;33m \u001b[1;32mfrom\u001b[0m \u001b[0msklearn\u001b[0m\u001b[1;33m.\u001b[0m\u001b[0mmetrics\u001b[0m \u001b[1;32mimport\u001b[0m \u001b[0mconfusion_matrix\u001b[0m\u001b[1;33m,\u001b[0m \u001b[0mConfusionMatrixDisplay\u001b[0m\u001b[1;33m\u001b[0m\u001b[1;33m\u001b[0m\u001b[0m\n\u001b[0m\u001b[0;32m      2\u001b[0m \u001b[1;33m\u001b[0m\u001b[0m\n\u001b[0;32m      3\u001b[0m \u001b[1;32mimport\u001b[0m \u001b[0mdefinitions\u001b[0m \u001b[1;32mas\u001b[0m \u001b[0mdefs\u001b[0m\u001b[1;33m\u001b[0m\u001b[1;33m\u001b[0m\u001b[0m\n",
      "\u001b[1;31mModuleNotFoundError\u001b[0m: No module named 'sklearn'"
     ]
    }
   ],
   "source": [
    "from sklearn.metrics import confusion_matrix, ConfusionMatrixDisplay\n",
    "\n",
    "import definitions as defs"
   ]
  },
  {
   "cell_type": "code",
   "execution_count": null,
   "id": "73651c1a",
   "metadata": {},
   "outputs": [],
   "source": [
    "entire_ds = dataframe_to_dataset(df, 'tmp entire.csv')\n",
    "train_ds = dataframe_to_dataset(train_df, 'tmp train.csv')\n",
    "val_ds = dataframe_to_dataset(val_df, 'tmp val.csv')\n",
    "test_ds = dataframe_to_dataset(test_df, 'tmp test.csv')"
   ]
  },
  {
   "cell_type": "markdown",
   "id": "5bc5fde5",
   "metadata": {},
   "source": [
    "Построим матрицы ошибок с ещё одной меткой \"неопределён\". Эта метку будем назначать в том случае, если ни для одной другой метки вероятность не превысила заданный порог. Порог будем менять."
   ]
  },
  {
   "cell_type": "code",
   "execution_count": null,
   "id": "eebfc807",
   "metadata": {},
   "outputs": [],
   "source": [
    "def get_true_predicted_labels(threshold):\n",
    "    true_labels = []\n",
    "    predicted_labels = []\n",
    "    for point, true_probabilities in test_ds:\n",
    "        true_label_index = np.array(true_probabilities[0]).argmax()\n",
    "        true_label = defs.LABELS[true_label_index]\n",
    "        true_labels.append(true_label)\n",
    "\n",
    "        predicted_probabilities = best_model.predict(point)\n",
    "        best_predicted_probability = np.array(predicted_probabilities[0]).max()\n",
    "        if best_predicted_probability < threshold:\n",
    "            predicted_label = 'неопределён'\n",
    "        else:\n",
    "            predicted_label_index = np.array(predicted_probabilities[0]).argmax()\n",
    "            predicted_label = defs.LABELS[predicted_label_index]\n",
    "        predicted_labels.append(predicted_label)\n",
    "    return true_labels, predicted_labels\n",
    "\n",
    "\n",
    "def plot_confusion_matrix(threshold):\n",
    "    true_labels, predicted_labels = get_true_predicted_labels(threshold)\n",
    "    cm = confusion_matrix(true_labels, predicted_labels)\n",
    "    ConfusionMatrixDisplay(cm).plot()"
   ]
  },
  {
   "cell_type": "code",
   "execution_count": null,
   "id": "b2fa3380",
   "metadata": {},
   "outputs": [],
   "source": [
    "for threshold in [0.4, 0.5, 0.6, 0.7, 0.8, 0.9]:\n",
    "    plot_confusion_matrix(threshold)"
   ]
  },
  {
   "cell_type": "code",
   "execution_count": null,
   "id": "4a1680a9",
   "metadata": {
    "scrolled": true
   },
   "outputs": [],
   "source": [
    "def test():\n",
    "    \"\"\" Выводит точность классификации со всеми признаками и точности без определённых признаков \"\"\"\n",
    "    test_ds_evaluation = best_model.evaluate(test_ds, verbose=0)[1]\n",
    "    print('Точность с учётом всех признаков: {:2.2%}'.format(test_ds_evaluation))\n",
    "    \n",
    "    def zero_feature(point, label):\n",
    "        \"\"\" Зануляет признак \"\"\"\n",
    "        if defs.INPUT_NAMES[feature_name] == 'numerical':\n",
    "            point[feature_name] = tf.constant(\n",
    "                np.array(0., dtype=np.float32),\n",
    "                dtype=tf.float32,\n",
    "                shape=(1,)\n",
    "            )\n",
    "        else:\n",
    "            point[feature_name] = tf.constant(\n",
    "                np.array(0, dtype=np.int32),\n",
    "                dtype=tf.int32,\n",
    "                shape=(1,)\n",
    "            )        \n",
    "        return point, label\n",
    "        \n",
    "    for feature_name in defs.INPUT_NAMES.keys():\n",
    "        test_ds_without_feature = test_ds.map(zero_feature)\n",
    "        test_ds_without_feature_evaluation = best_model.evaluate(test_ds_without_feature, verbose=0)[1]\n",
    "        change = test_ds_without_feature_evaluation - test_ds_evaluation\n",
    "        print('Точность без признака \\\"{}\\\": {:2.2%}. Изменение: {:2.2%}'.format(\n",
    "            feature_name,\n",
    "            test_ds_without_feature_evaluation,\n",
    "            change\n",
    "        ))\n",
    "    \n",
    "test()"
   ]
  },
  {
   "cell_type": "code",
   "execution_count": null,
   "id": "d0f6f388",
   "metadata": {},
   "outputs": [],
   "source": [
    "# # удаляем временные файлы\n",
    "# os.remove(os.path.join(os.getcwd(), 'data', 'tmp entire.csv'))\n",
    "# os.remove(os.path.join(os.getcwd(), 'data', 'tmp train.csv'))\n",
    "# os.remove(os.path.join(os.getcwd(), 'data', 'tmp val.csv'))\n",
    "# os.remove(os.path.join(os.getcwd(), 'data', 'tmp test.csv'))"
   ]
  }
 ],
 "metadata": {
  "kernelspec": {
   "display_name": "Python 3",
   "language": "python",
   "name": "python3"
  },
  "language_info": {
   "codemirror_mode": {
    "name": "ipython",
    "version": 3
   },
   "file_extension": ".py",
   "mimetype": "text/x-python",
   "name": "python",
   "nbconvert_exporter": "python",
   "pygments_lexer": "ipython3",
   "version": "3.8.3"
  }
 },
 "nbformat": 4,
 "nbformat_minor": 5
}
