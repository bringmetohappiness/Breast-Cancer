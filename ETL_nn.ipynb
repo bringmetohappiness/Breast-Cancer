{
 "cells": [
  {
   "cell_type": "code",
   "execution_count": null,
   "id": "e8e82efc",
   "metadata": {},
   "outputs": [],
   "source": [
    "import pandas as pd\n",
    "pd.set_option('max_columns', None)\n",
    "pd.set_option('max_rows', None)"
   ]
  },
  {
   "cell_type": "code",
   "execution_count": null,
   "id": "46fd7d61",
   "metadata": {},
   "outputs": [],
   "source": [
    "df = pd.read_excel(defs.ETLED_DATA_PATH_step1)"
   ]
  },
  {
   "cell_type": "code",
   "execution_count": null,
   "id": "1e47105f",
   "metadata": {},
   "outputs": [],
   "source": [
    "# для визуализации распределения по классами\n",
    "norm_old = (df[defs.LABEL] == defs.LABELS[0]).sum()\n",
    "benign_tumor_old = (df[defs.LABEL] == defs.LABELS[1]).sum()\n",
    "malignant_tumor_old = (df[defs.LABEL] == defs.LABELS[2]).sum()"
   ]
  },
  {
   "cell_type": "code",
   "execution_count": null,
   "id": "eaaf59a7",
   "metadata": {},
   "outputs": [],
   "source": []
  }
 ],
 "metadata": {
  "kernelspec": {
   "display_name": "Python 3",
   "language": "python",
   "name": "python3"
  },
  "language_info": {
   "codemirror_mode": {
    "name": "ipython",
    "version": 3
   },
   "file_extension": ".py",
   "mimetype": "text/x-python",
   "name": "python",
   "nbconvert_exporter": "python",
   "pygments_lexer": "ipython3",
   "version": "3.8.3"
  }
 },
 "nbformat": 4,
 "nbformat_minor": 5
}
