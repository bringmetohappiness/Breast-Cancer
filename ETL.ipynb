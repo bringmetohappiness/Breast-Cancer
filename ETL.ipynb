{
 "cells": [
  {
   "cell_type": "markdown",
   "id": "e8570add",
   "metadata": {},
   "source": [
    "# Extract Transform Load"
   ]
  },
  {
   "cell_type": "markdown",
   "id": "41f0e725",
   "metadata": {},
   "source": [
    "Исходный набор данных находится в трёх отдельных Excel-таблицах. Каждая из них содержит точки данных, принадлежащих одному из классов.  \n",
    "В этом jupyter-ноутбуке производится\n",
    "- обединение данных таблиц в одну\n",
    "- исправление опечаток\n",
    "- раскодирование ответов к строковым значениям\n",
    "- приведение признака к необходимому типу данных\n",
    "- приведение пропусков к единому формату np.NaN (пустая ячейка)"
   ]
  },
  {
   "cell_type": "markdown",
   "id": "60cc8048",
   "metadata": {},
   "source": [
    "## Анкета-опросник\n",
    "\n",
    "- [2. Возраст](#2.-Возраст)\n",
    "- [3. Семейное положение](#3.-Семейное-положение)\n",
    "   - замужем\n",
    "   - имею гражданского супруга\n",
    "   - одинока\n",
    "   - разведена\n",
    "   - вдова\n",
    "- [4. Если имеете супруга или партнёра, как долго вы живёте вместе? (в годах)](#4.-Если-имеете-супруга-или-партнёра,-как-долго-вы-живёте-вместе?-(в-годах))\n",
    "- [5. В какой семье Вы выросли?](#5.-В-какой-семье-Вы-выросли?)\n",
    "   - полная семья, кровные родители\n",
    "   - мачеха/отчим\n",
    "   - мать/отец одиночка\n",
    "   - с бабушкой и дедушкой\n",
    "   - в детском доме\n",
    "- [6. Жив ли хотя бы один из Ваших родителей? (да/нет)](#6.-Жив-ли-хотя-бы-один-из-Ваших-родителей?-(да/нет))\n",
    "- [7. Если да, как часто вы общаетесь?](#7.-Если-да,-как-часто-вы-общаетесь?)\n",
    "   - я живу с моими родителями\n",
    "   - каждый день или почти каждый день\n",
    "   - раз в неделю\n",
    "   - один-два раза в месяц\n",
    "   - несколько раз в год\n",
    "   - я не общаюсь с родителями\n",
    "- [8. Есть ли у Вас дети? (да/нет)](#8.-Есть-ли-у-Вас-дети?-(да/нет))\n",
    "- [9. Если да, сколько?](#9.-Если-да,-сколько?)\n",
    "- [10. Есть ли у Вас совершеннолетние дети? (да/нет)](#10.-Есть-ли-у-Вас-совершеннолетние-дети?-(да/нет))\n",
    "- [11. Если да, как часто вы общаетесь?](#11.-Если-да,-как-часто-вы-общаетесь?)\n",
    "   - я живу с моими взрослыми детьми\n",
    "   - каждый день или почти каждый день\n",
    "   - раз в неделю\n",
    "   - один-два раза в месяц\n",
    "   - несколько раз в год\n",
    "   - я не общаюсь со взрослыми детьми\n",
    "- [12. Сколько человек живут вместе с Вами?](#12.-Сколько-человек-живут-вместе-с-Вами?)\n",
    "   - я живу одна\n",
    "   - 1 человек\n",
    "   - 2-3 человека\n",
    "   - 4 и более человек\n",
    "- [13. Каковы Ваши взаимоотношения с соседями?](#13.-Каковы-Ваши-взаимоотношения-с-соседями?)\n",
    "   - очень хорошие, дружеские\n",
    "   - хорошие\n",
    "   - нейтральные\n",
    "   - скорее плохие\n",
    "   - очень плохие\n",
    "   - я не знаю своих соседей\n",
    "   - у меня нет соседей\n",
    "- [14. Как часто Вы встречаетесь с друзьями?](#14.-Как-часто-Вы-встречаетесь-с-друзьями?)\n",
    "   - несколько раз в неделю\n",
    "   - раз в неделю\n",
    "   - раз в месяц\n",
    "   - реже, чем раз в месяц\n",
    "- [15. Есть ли у Вас домашние питомцы? (да/нет)](#15.-Есть-ли-у-Вас-домашние-питомцы?-(да/нет))\n",
    "- [16. В течение последних 7 дней, как часто Вы практиковали тяжелые физические нагрузки?](#16.-В-течение-последних-7-дней,-как-часто-Вы-практиковали-тяжелые-физические-нагрузки?)\n",
    "- [17. В течение последних 7 дней, как часто Вы практиковали умеренные физические нагрузки?](#17.-В-течение-последних-7-дней,-как-часто-Вы-практиковали-умеренные-физические-нагрузки?)\n",
    "- [18. В течение последних 7 дней, как часто Вы ходили пешком минимум 10 минут без перерыва?](#18.-В-течение-последних-7-дней,-как-часто-Вы-ходили-пешком-минимум-10-минут-без-перерыва?)\n",
    "- [19. Уровень Вашего образования?](#19.-Уровень-Вашего-образования?)\n",
    "   - средняя школа\n",
    "   - среднее специальное образование\n",
    "   - законченное высшее образование\n",
    "   - учёная степень\n",
    "- [20. Каков уровень образования Вашего партнёра? (если применимо)](#20.-Каков-уровень-образования-Вашего-партнёра?-(если-применимо))\n",
    "   - средняя школа\n",
    "   - среднее специальное образование\n",
    "   - законченное высшее образование\n",
    "   - учёная степень\n",
    "- [22. Как долго Вы проживаете в этом месте? (в годах)](#22.-Как-долго-Вы-проживаете-в-этом-месте?-(в-годах))\n",
    "- [23. Каков тип Вашего дома?](#23.-Каков-тип-Вашего-дома?)\n",
    "   - многоквартирный дом\n",
    "   - таунхаус\n",
    "   - собственный дом\n",
    "- [24. Если Вы живёте в многоквартирном доме, то на каком этаже?](#24.-Если-Вы-живёте-в-многоквартирном-доме,-то-на-каком-этаже?)\n",
    "- [25. Каким транспортом Вы обычно пользуетесь?](#25.-Каким-транспортом-Вы-обычно-пользуетесь?)\n",
    "   - общественный транспорт\n",
    "   - собственная машина/такси\n",
    "   - я обычно не пользуюсь транспортом\n",
    "- [26. Сколько времени занимает Ваш путь до работы в одну сторону?](#26.-Сколько-времени-занимает-Ваш-путь-до-работы-в-одну-сторону?)\n",
    "   - 1 час и меньше\n",
    "   - 1-3 часа\n",
    "   - более трёх часов\n",
    "- [27. Каков тип Вашей занятости?](#27.-Каков-тип-Вашей-занятости?)\n",
    "  - полный рабочий день\n",
    "  - частичная занятость\n",
    "  - я работаю из дома\n",
    "  - я не работаю\n",
    "- [28. Каковы Ваши предпочтения в пище?](#28.-Каковы-Ваши-предпочтения-в-пище?)\n",
    "   - я ем мясо или рыбу ежедневно\n",
    "   - я ем мясо или рыбу 2-3 раза в неделю\n",
    "   - я практически не ем мясо/рыбу\n",
    "   - я вегетарианец/веган\n",
    "- [29. Каков тип Вашего питания?](#29.-Каков-тип-Вашего-питания?)\n",
    "   - 3-4-разовое домашнее питание\n",
    "   - 3-разовое питание, домашнее и в предприятиях общественного питания\n",
    "   - дома готовлю редко, питаюсь в предприятиях общественного питания\n",
    "   - регулярного режима питания нет\n",
    "- [30. Вы курите? (да/нет)](#30.-Вы-курите?-(да/нет))\n",
    "- [31. Количество родов](#31.-Количество-родов)\n",
    "- [32. Количество прерванных беременностей](#32.-Количество-прерванных-беременностей)\n",
    "- [33. Гинекологические заболевания (да/нет)](#33.-Гинекологические-заболевания-(да/нет))\n",
    "- [34. Заболевания щитовидной железы (да/нет)](#34.-Заболевания-щитовидной-железы-(да/нет))\n",
    "- [35. Наследственность (да/нет)](#35.-Наследственность-(да/нет))"
   ]
  },
  {
   "cell_type": "code",
   "execution_count": 1,
   "id": "855d167b",
   "metadata": {},
   "outputs": [],
   "source": [
    "import os\n",
    "\n",
    "import matplotlib.pyplot as plt\n",
    "import numpy as np\n",
    "import pandas as pd\n",
    "pd.set_option('display.max_columns', None)\n",
    "\n",
    "import utils\n",
    "from utils import visualization as viz"
   ]
  },
  {
   "cell_type": "code",
   "execution_count": 2,
   "id": "e7f8a572",
   "metadata": {},
   "outputs": [],
   "source": [
    "NORM_PATH = os.path.join('data', 'origin', 'Таблица учёта НОРМА.xlsx')\n",
    "BENIGN_TUMOR_PATH = os.path.join('data', 'origin', 'Таблица учёта ДОБРОКАЧЕСТВЕННАЯ.xlsx')\n",
    "MALIGNANT_TUMOR_PATH = os.path.join('data', 'origin', 'Таблица учёта ОНКОЛОГИЯ.xlsx')\n",
    "\n",
    "NORM_N_ROWS = 197\n",
    "BENIGN_TUMOR_N_ROWS = 199\n",
    "MALIGNANT_TUMOR_N_ROWS = 199"
   ]
  },
  {
   "cell_type": "code",
   "execution_count": 3,
   "id": "00cdfbef",
   "metadata": {},
   "outputs": [
    {
     "data": {
      "text/html": [
       "<div>\n",
       "<style scoped>\n",
       "    .dataframe tbody tr th:only-of-type {\n",
       "        vertical-align: middle;\n",
       "    }\n",
       "\n",
       "    .dataframe tbody tr th {\n",
       "        vertical-align: top;\n",
       "    }\n",
       "\n",
       "    .dataframe thead th {\n",
       "        text-align: right;\n",
       "    }\n",
       "</style>\n",
       "<table border=\"1\" class=\"dataframe\">\n",
       "  <thead>\n",
       "    <tr style=\"text-align: right;\">\n",
       "      <th></th>\n",
       "      <th>2. Возраст</th>\n",
       "      <th>3. Семейное положение</th>\n",
       "      <th>4. Если имеете супруга или партнера, как долго вы живете вместе (в годах)?</th>\n",
       "      <th>5. В какой семье Вы выросли?</th>\n",
       "      <th>6. Жив ли хотя бы один из Ваших родителей (да/нет)?</th>\n",
       "      <th>7. Если да, как часто вы общаетесь?</th>\n",
       "      <th>8. Есть ли у Вас дети (да/нет)?</th>\n",
       "      <th>9. Если да, сколько?</th>\n",
       "      <th>10. Есть ли у Вас совершеннолетние дети (да/нет)?</th>\n",
       "      <th>11. Если да, как часто вы общаетесь?</th>\n",
       "      <th>12. Сколько человек живут вместе с Вами?</th>\n",
       "      <th>13. Каковы Ваши взаимоотношения с соседями?</th>\n",
       "      <th>14. Как часто Вы встречаетесь с друзьями?</th>\n",
       "      <th>15. Есть ли у Вас домашние питомцы (да/нет)?</th>\n",
       "      <th>16. В течение последних 7 дней, как часто Вы практиковали тяжелые физические нагрузки?</th>\n",
       "      <th>17. В течение последних 7 дней, как часто Вы практиковали умеренные физические нагрузки?</th>\n",
       "      <th>18. В течение последних 7 дней, как часто Вы ходили пешком минимум 10 минут без перерыва?</th>\n",
       "      <th>19. Уровень Вашего образования?</th>\n",
       "      <th>20. Каков уровень образования Вашего партнера (если применимо)?</th>\n",
       "      <th>22. Как долго Вы проживаете в этом месте (в годах)?</th>\n",
       "      <th>23. Каков тип Вашего дома?</th>\n",
       "      <th>24. Если Вы живете в многоквартирном доме, то на каком этаже?</th>\n",
       "      <th>25. Каким транспортом Вы обычно пользуетесь?</th>\n",
       "      <th>26. Сколько времени занимает Ваш путь до работы в одну сторону?</th>\n",
       "      <th>27. Каков тип Вашей занятости?</th>\n",
       "      <th>28. Каковы Ваши предпочтения в пище?</th>\n",
       "      <th>29. Каков тип Вашего питания?</th>\n",
       "      <th>30. Вы курите (да/нет)?</th>\n",
       "      <th>31. Количество родов</th>\n",
       "      <th>32. Количество прерванных беременностей</th>\n",
       "      <th>33. Гинекологические заболевания (да/нет)</th>\n",
       "      <th>34. Заболевания щитовидной железы (да/нет)</th>\n",
       "      <th>35. Наследственность (да/нет)</th>\n",
       "      <th>Метка</th>\n",
       "    </tr>\n",
       "  </thead>\n",
       "  <tbody>\n",
       "    <tr>\n",
       "      <th>0</th>\n",
       "      <td>46.515068</td>\n",
       "      <td>2</td>\n",
       "      <td>21</td>\n",
       "      <td>1</td>\n",
       "      <td>да</td>\n",
       "      <td>2</td>\n",
       "      <td>да</td>\n",
       "      <td>1</td>\n",
       "      <td>да</td>\n",
       "      <td>1</td>\n",
       "      <td>3.0</td>\n",
       "      <td>2.0</td>\n",
       "      <td>2.0</td>\n",
       "      <td>да</td>\n",
       "      <td>-</td>\n",
       "      <td>-</td>\n",
       "      <td>7.0</td>\n",
       "      <td>2.0</td>\n",
       "      <td>2</td>\n",
       "      <td>7</td>\n",
       "      <td>1.0</td>\n",
       "      <td>12</td>\n",
       "      <td>1.0</td>\n",
       "      <td>-</td>\n",
       "      <td>4</td>\n",
       "      <td>1.0</td>\n",
       "      <td>1.0</td>\n",
       "      <td>нет</td>\n",
       "      <td>1</td>\n",
       "      <td>0</td>\n",
       "      <td>да</td>\n",
       "      <td>нет</td>\n",
       "      <td>нет</td>\n",
       "      <td>норма</td>\n",
       "    </tr>\n",
       "    <tr>\n",
       "      <th>1</th>\n",
       "      <td>45.983562</td>\n",
       "      <td>4</td>\n",
       "      <td>-</td>\n",
       "      <td>1</td>\n",
       "      <td>да</td>\n",
       "      <td>3</td>\n",
       "      <td>да</td>\n",
       "      <td>1</td>\n",
       "      <td>да</td>\n",
       "      <td>2</td>\n",
       "      <td>1.0</td>\n",
       "      <td>1.0</td>\n",
       "      <td>3.0</td>\n",
       "      <td>да</td>\n",
       "      <td>4</td>\n",
       "      <td>4</td>\n",
       "      <td>7.0</td>\n",
       "      <td>2.0</td>\n",
       "      <td>-</td>\n",
       "      <td>11</td>\n",
       "      <td>1.0</td>\n",
       "      <td>5</td>\n",
       "      <td>1.0</td>\n",
       "      <td>2</td>\n",
       "      <td>1</td>\n",
       "      <td>2.0</td>\n",
       "      <td>3.0</td>\n",
       "      <td>нет</td>\n",
       "      <td>1</td>\n",
       "      <td>0</td>\n",
       "      <td>да</td>\n",
       "      <td>нет</td>\n",
       "      <td>нет</td>\n",
       "      <td>норма</td>\n",
       "    </tr>\n",
       "    <tr>\n",
       "      <th>2</th>\n",
       "      <td>35.443836</td>\n",
       "      <td>1</td>\n",
       "      <td>11</td>\n",
       "      <td>1</td>\n",
       "      <td>да</td>\n",
       "      <td>3</td>\n",
       "      <td>да</td>\n",
       "      <td>1</td>\n",
       "      <td>нет</td>\n",
       "      <td>-</td>\n",
       "      <td>3.0</td>\n",
       "      <td>2.0</td>\n",
       "      <td>2.0</td>\n",
       "      <td>да</td>\n",
       "      <td>1</td>\n",
       "      <td>3</td>\n",
       "      <td>7.0</td>\n",
       "      <td>3.0</td>\n",
       "      <td>3</td>\n",
       "      <td>34</td>\n",
       "      <td>1.0</td>\n",
       "      <td>3</td>\n",
       "      <td>1.0</td>\n",
       "      <td>1</td>\n",
       "      <td>3</td>\n",
       "      <td>1.0</td>\n",
       "      <td>2.0</td>\n",
       "      <td>да</td>\n",
       "      <td>1</td>\n",
       "      <td>2</td>\n",
       "      <td>нет</td>\n",
       "      <td>нет</td>\n",
       "      <td>нет</td>\n",
       "      <td>норма</td>\n",
       "    </tr>\n",
       "    <tr>\n",
       "      <th>3</th>\n",
       "      <td>53.539726</td>\n",
       "      <td>4</td>\n",
       "      <td>-</td>\n",
       "      <td>1</td>\n",
       "      <td>да</td>\n",
       "      <td>2</td>\n",
       "      <td>да</td>\n",
       "      <td>2</td>\n",
       "      <td>да</td>\n",
       "      <td>2</td>\n",
       "      <td>3.0</td>\n",
       "      <td>1.0</td>\n",
       "      <td>4.0</td>\n",
       "      <td>да</td>\n",
       "      <td>0</td>\n",
       "      <td>0</td>\n",
       "      <td>7.0</td>\n",
       "      <td>3.0</td>\n",
       "      <td>1</td>\n",
       "      <td>50 лет</td>\n",
       "      <td>1.0</td>\n",
       "      <td>5</td>\n",
       "      <td>1.0</td>\n",
       "      <td>2</td>\n",
       "      <td>1</td>\n",
       "      <td>1.0</td>\n",
       "      <td>1.0</td>\n",
       "      <td>да</td>\n",
       "      <td>2</td>\n",
       "      <td>5</td>\n",
       "      <td>нет</td>\n",
       "      <td>нет</td>\n",
       "      <td>нет</td>\n",
       "      <td>норма</td>\n",
       "    </tr>\n",
       "    <tr>\n",
       "      <th>4</th>\n",
       "      <td>44.115068</td>\n",
       "      <td>1</td>\n",
       "      <td>12 лет</td>\n",
       "      <td>1</td>\n",
       "      <td>да</td>\n",
       "      <td>2</td>\n",
       "      <td>да</td>\n",
       "      <td>1</td>\n",
       "      <td>да</td>\n",
       "      <td>1</td>\n",
       "      <td>3.0</td>\n",
       "      <td>2.0</td>\n",
       "      <td>4.0</td>\n",
       "      <td>нет</td>\n",
       "      <td>5</td>\n",
       "      <td>0</td>\n",
       "      <td>7.0</td>\n",
       "      <td>1.0</td>\n",
       "      <td>3</td>\n",
       "      <td>4 года</td>\n",
       "      <td>1.0</td>\n",
       "      <td>4</td>\n",
       "      <td>3.0</td>\n",
       "      <td>1</td>\n",
       "      <td>1</td>\n",
       "      <td>2.0</td>\n",
       "      <td>1.0</td>\n",
       "      <td>нет</td>\n",
       "      <td>1</td>\n",
       "      <td>2</td>\n",
       "      <td>есть</td>\n",
       "      <td>нет</td>\n",
       "      <td>нет</td>\n",
       "      <td>норма</td>\n",
       "    </tr>\n",
       "  </tbody>\n",
       "</table>\n",
       "</div>"
      ],
      "text/plain": [
       "   2. Возраст  3. Семейное положение  \\\n",
       "0   46.515068                      2   \n",
       "1   45.983562                      4   \n",
       "2   35.443836                      1   \n",
       "3   53.539726                      4   \n",
       "4   44.115068                      1   \n",
       "\n",
       "  4. Если имеете супруга или партнера, как долго вы живете вместе (в годах)?  \\\n",
       "0                                                 21                           \n",
       "1                                                  -                           \n",
       "2                                                 11                           \n",
       "3                                                  -                           \n",
       "4                                             12 лет                           \n",
       "\n",
       "  5. В какой семье Вы выросли?  \\\n",
       "0                            1   \n",
       "1                            1   \n",
       "2                            1   \n",
       "3                            1   \n",
       "4                            1   \n",
       "\n",
       "  6. Жив ли хотя бы один из Ваших родителей (да/нет)?  \\\n",
       "0                                                 да    \n",
       "1                                                 да    \n",
       "2                                                 да    \n",
       "3                                                 да    \n",
       "4                                                 да    \n",
       "\n",
       "  7. Если да, как часто вы общаетесь? 8. Есть ли у Вас дети (да/нет)?  \\\n",
       "0                                   2                              да   \n",
       "1                                   3                              да   \n",
       "2                                   3                              да   \n",
       "3                                   2                              да   \n",
       "4                                   2                              да   \n",
       "\n",
       "  9. Если да, сколько? 10. Есть ли у Вас совершеннолетние дети (да/нет)?  \\\n",
       "0                    1                                                да   \n",
       "1                    1                                                да   \n",
       "2                    1                                               нет   \n",
       "3                    2                                                да   \n",
       "4                    1                                                да   \n",
       "\n",
       "  11. Если да, как часто вы общаетесь?  \\\n",
       "0                                    1   \n",
       "1                                    2   \n",
       "2                                    -   \n",
       "3                                    2   \n",
       "4                                    1   \n",
       "\n",
       "   12. Сколько человек живут вместе с Вами?  \\\n",
       "0                                       3.0   \n",
       "1                                       1.0   \n",
       "2                                       3.0   \n",
       "3                                       3.0   \n",
       "4                                       3.0   \n",
       "\n",
       "   13. Каковы Ваши взаимоотношения с соседями?  \\\n",
       "0                                          2.0   \n",
       "1                                          1.0   \n",
       "2                                          2.0   \n",
       "3                                          1.0   \n",
       "4                                          2.0   \n",
       "\n",
       "   14. Как часто Вы встречаетесь с друзьями?  \\\n",
       "0                                        2.0   \n",
       "1                                        3.0   \n",
       "2                                        2.0   \n",
       "3                                        4.0   \n",
       "4                                        4.0   \n",
       "\n",
       "  15. Есть ли у Вас домашние питомцы (да/нет)?  \\\n",
       "0                                           да   \n",
       "1                                           да   \n",
       "2                                           да   \n",
       "3                                           да   \n",
       "4                                          нет   \n",
       "\n",
       "  16. В течение последних 7 дней, как часто Вы практиковали тяжелые физические нагрузки?  \\\n",
       "0                                                  -                                       \n",
       "1                                                  4                                       \n",
       "2                                                  1                                       \n",
       "3                                                  0                                       \n",
       "4                                                  5                                       \n",
       "\n",
       "  17. В течение последних 7 дней, как часто Вы практиковали умеренные физические нагрузки?  \\\n",
       "0                                                  -                                         \n",
       "1                                                  4                                         \n",
       "2                                                  3                                         \n",
       "3                                                  0                                         \n",
       "4                                                  0                                         \n",
       "\n",
       "  18. В течение последних 7 дней, как часто Вы ходили пешком минимум 10 минут без перерыва?  \\\n",
       "0                                                7.0                                          \n",
       "1                                                7.0                                          \n",
       "2                                                7.0                                          \n",
       "3                                                7.0                                          \n",
       "4                                                7.0                                          \n",
       "\n",
       "   19. Уровень Вашего образования?  \\\n",
       "0                              2.0   \n",
       "1                              2.0   \n",
       "2                              3.0   \n",
       "3                              3.0   \n",
       "4                              1.0   \n",
       "\n",
       "  20. Каков уровень образования Вашего партнера (если применимо)?  \\\n",
       "0                                                  2                \n",
       "1                                                  -                \n",
       "2                                                  3                \n",
       "3                                                  1                \n",
       "4                                                  3                \n",
       "\n",
       "  22. Как долго Вы проживаете в этом месте (в годах)?  \\\n",
       "0                                                  7    \n",
       "1                                                 11    \n",
       "2                                                 34    \n",
       "3                                             50 лет    \n",
       "4                                            4 года     \n",
       "\n",
       "   23. Каков тип Вашего дома?  \\\n",
       "0                         1.0   \n",
       "1                         1.0   \n",
       "2                         1.0   \n",
       "3                         1.0   \n",
       "4                         1.0   \n",
       "\n",
       "  24. Если Вы живете в многоквартирном доме, то на каком этаже?  \\\n",
       "0                                                 12              \n",
       "1                                                  5              \n",
       "2                                                  3              \n",
       "3                                                  5              \n",
       "4                                                  4              \n",
       "\n",
       "  25. Каким транспортом Вы обычно пользуетесь?  \\\n",
       "0                                          1.0   \n",
       "1                                          1.0   \n",
       "2                                          1.0   \n",
       "3                                          1.0   \n",
       "4                                          3.0   \n",
       "\n",
       "  26. Сколько времени занимает Ваш путь до работы в одну сторону?  \\\n",
       "0                                                  -                \n",
       "1                                                  2                \n",
       "2                                                  1                \n",
       "3                                                  2                \n",
       "4                                                  1                \n",
       "\n",
       "  27. Каков тип Вашей занятости?  28. Каковы Ваши предпочтения в пище?  \\\n",
       "0                              4                                   1.0   \n",
       "1                              1                                   2.0   \n",
       "2                              3                                   1.0   \n",
       "3                              1                                   1.0   \n",
       "4                              1                                   2.0   \n",
       "\n",
       "   29. Каков тип Вашего питания? 30. Вы курите (да/нет)?  \\\n",
       "0                            1.0                     нет   \n",
       "1                            3.0                     нет   \n",
       "2                            2.0                      да   \n",
       "3                            1.0                      да   \n",
       "4                            1.0                     нет   \n",
       "\n",
       "   31. Количество родов  32. Количество прерванных беременностей  \\\n",
       "0                     1                                        0   \n",
       "1                     1                                        0   \n",
       "2                     1                                        2   \n",
       "3                     2                                        5   \n",
       "4                     1                                        2   \n",
       "\n",
       "  33. Гинекологические заболевания (да/нет)  \\\n",
       "0                                        да   \n",
       "1                                        да   \n",
       "2                                       нет   \n",
       "3                                       нет   \n",
       "4                                      есть   \n",
       "\n",
       "  34. Заболевания щитовидной железы (да/нет) 35. Наследственность (да/нет)  \\\n",
       "0                                        нет                           нет   \n",
       "1                                        нет                           нет   \n",
       "2                                        нет                           нет   \n",
       "3                                        нет                           нет   \n",
       "4                                        нет                           нет   \n",
       "\n",
       "   Метка  \n",
       "0  норма  \n",
       "1  норма  \n",
       "2  норма  \n",
       "3  норма  \n",
       "4  норма  "
      ]
     },
     "execution_count": 3,
     "metadata": {},
     "output_type": "execute_result"
    }
   ],
   "source": [
    "norm_df = pd.read_excel(NORM_PATH, index_col=0, nrows=NORM_N_ROWS)\n",
    "# удаление ненужных столбцов\n",
    "norm_df = norm_df.drop(columns=[\n",
    "    'Дата рождения',\n",
    "    'Дата тестирования',\n",
    "    'Пол',\n",
    "    '?1',\n",
    "    '?2'\n",
    "])\n",
    "# добавление столбца с меткой\n",
    "norm_df[utils.constants.TARGET] = [utils.constants.LABELS[0]] * NORM_N_ROWS\n",
    "\n",
    "benign_tumor_df = pd.read_excel(BENIGN_TUMOR_PATH, index_col=0, nrows=BENIGN_TUMOR_N_ROWS)\n",
    "# удаление ненужных столбцов\n",
    "benign_tumor_df = benign_tumor_df.drop(columns=[\n",
    "    'Дата рождения',\n",
    "    'Дата тестирования',\n",
    "    '?1',\n",
    "    '?2',\n",
    "])\n",
    "# добавление столбца с меткой\n",
    "benign_tumor_df[utils.constants.TARGET] = [utils.constants.LABELS[1]] * BENIGN_TUMOR_N_ROWS\n",
    "\n",
    "malignant_tumor_df = pd.read_excel(MALIGNANT_TUMOR_PATH, index_col=0, nrows=MALIGNANT_TUMOR_N_ROWS)\n",
    "# удаление ненужных столбцов\n",
    "malignant_tumor_df = malignant_tumor_df.drop(columns=[\n",
    "    'Дата рождения',\n",
    "    'Дата тестирования',\n",
    "    'Пол',\n",
    "    '?1',\n",
    "    '?2',\n",
    "])\n",
    "# добавление столбца с меткой\n",
    "malignant_tumor_df[utils.constants.TARGET] = [utils.constants.LABELS[2]] * MALIGNANT_TUMOR_N_ROWS\n",
    "\n",
    "df = pd.concat([norm_df, benign_tumor_df, malignant_tumor_df], ignore_index=True)\n",
    "df = df.rename(columns={\n",
    "    'Вопрос 2': utils.constants.QUESTION_2,\n",
    "    'Вопрос 3': utils.constants.QUESTION_3,\n",
    "    'Вопрос 4': utils.constants.QUESTION_4,\n",
    "    'Вопрос 5': utils.constants.QUESTION_5,\n",
    "    'Вопрос 6': utils.constants.QUESTION_6,\n",
    "    'Вопрос 7': utils.constants.QUESTION_7,\n",
    "    'Вопрос 8': utils.constants.QUESTION_8,\n",
    "    'Вопрос 9': utils.constants.QUESTION_9,\n",
    "    'Вопрос 10': utils.constants.QUESTION_10,\n",
    "    'Вопрос 11': utils.constants.QUESTION_11,\n",
    "    'Вопрос 12': utils.constants.QUESTION_12,\n",
    "    'Вопрос 13': utils.constants.QUESTION_13,\n",
    "    'Вопрос 14': utils.constants.QUESTION_14,\n",
    "    'Вопрос 15': utils.constants.QUESTION_15,\n",
    "    'Вопрос 16': utils.constants.QUESTION_16,\n",
    "    'Вопрос 17': utils.constants.QUESTION_17,\n",
    "    'Вопрос 18': utils.constants.QUESTION_18,\n",
    "    'Вопрос 19': utils.constants.QUESTION_19,\n",
    "    'Вопрос 20': utils.constants.QUESTION_20,\n",
    "    'Вопрос 22': utils.constants.QUESTION_22,\n",
    "    'Вопрос 23': utils.constants.QUESTION_23,\n",
    "    'Вопрос 24': utils.constants.QUESTION_24,\n",
    "    'Вопрос 25': utils.constants.QUESTION_25,\n",
    "    'Вопрос 26': utils.constants.QUESTION_26,\n",
    "    'Вопрос 27': utils.constants.QUESTION_27,\n",
    "    'Вопрос 28': utils.constants.QUESTION_28,\n",
    "    'Вопрос 29': utils.constants.QUESTION_29,\n",
    "    'Вопрос 30': utils.constants.QUESTION_30,\n",
    "    'Вопрос 31': utils.constants.QUESTION_31,\n",
    "    'Вопрос 32': utils.constants.QUESTION_32,\n",
    "    'Вопрос 33': utils.constants.QUESTION_33,\n",
    "    'Вопрос 34': utils.constants.QUESTION_34,\n",
    "    'Вопрос 35': utils.constants.QUESTION_35,\n",
    "})\n",
    "df.head()"
   ]
  },
  {
   "cell_type": "markdown",
   "id": "f4e8d03a",
   "metadata": {},
   "source": [
    "### 2. Возраст"
   ]
  },
  {
   "cell_type": "code",
   "execution_count": 4,
   "id": "e26e58b3",
   "metadata": {},
   "outputs": [
    {
     "data": {
      "image/png": "[encoded data removed]",
      "text/plain": [
       "<Figure size 1200x500 with 1 Axes>"
      ]
     },
     "metadata": {},
     "output_type": "display_data"
    }
   ],
   "source": [
    "fig, ax = plt.subplots(figsize=(12, 5))\n",
    "df[utils.constants.QUESTION_2].hist(ax=ax, bins=120)\n",
    "ax.set(title=utils.constants.QUESTION_2)\n",
    "plt.show()"
   ]
  },
  {
   "cell_type": "markdown",
   "id": "90794ba9",
   "metadata": {},
   "source": [
    "Видны явные возрастные выбросы: 0 и 119 лет. Заменяем эти значения на NaN."
   ]
  },
  {
   "cell_type": "code",
   "execution_count": 5,
   "id": "c96bdc25",
   "metadata": {},
   "outputs": [],
   "source": [
    "df.loc[(df[utils.constants.QUESTION_2] > 85) | (df[utils.constants.QUESTION_2] < 18), utils.constants.QUESTION_2] = np.NaN"
   ]
  },
  {
   "cell_type": "markdown",
   "id": "ca424da2",
   "metadata": {},
   "source": [
    "### 3. Семейное положение"
   ]
  },
  {
   "cell_type": "code",
   "execution_count": 6,
   "id": "f22b7000",
   "metadata": {},
   "outputs": [
    {
     "data": {
      "text/plain": [
       "array([2, 4, 1, 3, 5], dtype=int64)"
      ]
     },
     "execution_count": 6,
     "metadata": {},
     "output_type": "execute_result"
    }
   ],
   "source": [
    "df[utils.constants.QUESTION_3].unique()"
   ]
  },
  {
   "cell_type": "code",
   "execution_count": 7,
   "id": "b98ece38",
   "metadata": {},
   "outputs": [],
   "source": [
    "df[utils.constants.QUESTION_3].replace({\n",
    "    1: utils.constants.ANSWER_3_1,\n",
    "    2: utils.constants.ANSWER_3_2,\n",
    "    3: utils.constants.ANSWER_3_3,\n",
    "    4: utils.constants.ANSWER_3_4,\n",
    "    5: utils.constants.ANSWER_3_5,\n",
    "}, inplace=True)"
   ]
  },
  {
   "cell_type": "code",
   "execution_count": 8,
   "id": "b1b81161",
   "metadata": {},
   "outputs": [
    {
     "data": {
      "text/plain": [
       "array(['имею гражданского супруга', 'разведена', 'замужем', 'одинока',\n",
       "       'вдова'], dtype=object)"
      ]
     },
     "execution_count": 8,
     "metadata": {},
     "output_type": "execute_result"
    }
   ],
   "source": [
    "df[utils.constants.QUESTION_3].unique()"
   ]
  },
  {
   "cell_type": "markdown",
   "id": "23ea93b3",
   "metadata": {},
   "source": [
    "### 4. Если имеете супруга или партнёра, как долго вы живёте вместе? (в годах)"
   ]
  },
  {
   "cell_type": "code",
   "execution_count": 9,
   "id": "5d67ce1c",
   "metadata": {},
   "outputs": [
    {
     "data": {
      "text/plain": [
       "array([21, '-', 11, '12 лет', '5,5 лет', '1 год', '21 год', 0, '3 года',\n",
       "       '37 лет', '45 лет', '10 лет', '40 лет', '?', '13 лет', '20 лет',\n",
       "       '24 года', '4 года', '2 года', '5 лет', '17 лет', '15 лет',\n",
       "       '25 лет', '2 месяца', '29 лет', '19 лет', '21 год ', '30 лет',\n",
       "       '43 года', '7 лет', '50 лет ', '6 лет', '32 года', '23 года',\n",
       "       '11 лет', '36 лет', '27 лет', '41 год', '42 года', '2 года ',\n",
       "       '26 лет ', '39 лет', '47 лет', '42 года ', '8 лет', '2,5 года',\n",
       "       '33 года', '34 года', 36, 30, '0 лет', '14 лет', '22 года',\n",
       "       '1.5 года', '18 лет', '58 лет', '22 года ', 1, '28 лет', '26 лет',\n",
       "       '16 лет', '9 лет', '38 лет', '46 лет', '50 лет', '56 лет',\n",
       "       '54 года', '53 года', '52 года', '51 год ', '48 лет', '3 месяца',\n",
       "       '27 лет ', '35 лет', '49 лет', '44 года', '31 год'], dtype=object)"
      ]
     },
     "execution_count": 9,
     "metadata": {},
     "output_type": "execute_result"
    }
   ],
   "source": [
    "df[utils.constants.QUESTION_4].unique()"
   ]
  },
  {
   "cell_type": "code",
   "execution_count": 10,
   "id": "9ecba21e",
   "metadata": {},
   "outputs": [],
   "source": [
    "def remove_no_digits(string):\n",
    "    \"\"\"Удаляет из строки нецифры.\"\"\"\n",
    "    digits = ''\n",
    "    for char in string:\n",
    "        if char.isdigit() or char == '.':\n",
    "            digits += char\n",
    "\n",
    "    return digits\n",
    "\n",
    "\n",
    "def convert_time_interval(cell_content):\n",
    "    \"\"\"Конвертирует временной интервал из строки в float формат в годах.\"\"\"\n",
    "    if isinstance(cell_content, str):\n",
    "        result = float(remove_no_digits(cell_content))\n",
    "        if 'месяц' in cell_content:\n",
    "            result /= 12\n",
    "    else:\n",
    "        result = cell_content\n",
    "\n",
    "    return result"
   ]
  },
  {
   "cell_type": "code",
   "execution_count": 11,
   "id": "a27dff2f",
   "metadata": {},
   "outputs": [],
   "source": [
    "df[utils.constants.QUESTION_4].replace({\n",
    "    '-': np.NaN,\n",
    "    '?': np.NaN,\n",
    "}, inplace=True)\n",
    "df[utils.constants.QUESTION_4] = df[utils.constants.QUESTION_4].apply(convert_time_interval)"
   ]
  },
  {
   "cell_type": "code",
   "execution_count": 12,
   "id": "1f262c34",
   "metadata": {},
   "outputs": [
    {
     "data": {
      "image/png": "[encoded data removed]",
      "text/plain": [
       "<Figure size 1200x500 with 1 Axes>"
      ]
     },
     "metadata": {},
     "output_type": "display_data"
    }
   ],
   "source": [
    "fig, ax = plt.subplots(figsize=(12, 5))\n",
    "df[utils.constants.QUESTION_4].hist(ax=ax, bins=60)\n",
    "ax.set(title=utils.constants.QUESTION_4)\n",
    "plt.show()"
   ]
  },
  {
   "cell_type": "markdown",
   "id": "4418a10a",
   "metadata": {},
   "source": [
    "### 5. В какой семье Вы выросли?"
   ]
  },
  {
   "cell_type": "code",
   "execution_count": 13,
   "id": "24301cb6",
   "metadata": {},
   "outputs": [
    {
     "data": {
      "text/plain": [
       "array([1, '-', 3, 2, 5, 4], dtype=object)"
      ]
     },
     "execution_count": 13,
     "metadata": {},
     "output_type": "execute_result"
    }
   ],
   "source": [
    "df[utils.constants.QUESTION_5].unique()"
   ]
  },
  {
   "cell_type": "code",
   "execution_count": 14,
   "id": "6945b65b",
   "metadata": {},
   "outputs": [],
   "source": [
    "df[utils.constants.QUESTION_5].replace({\n",
    "    '-': np.NaN,\n",
    "    1: utils.constants.ANSWER_5_1,\n",
    "    2: utils.constants.ANSWER_5_2,\n",
    "    3: utils.constants.ANSWER_5_3,\n",
    "    4: utils.constants.ANSWER_5_4,\n",
    "    5: utils.constants.ANSWER_5_5,\n",
    "}, inplace=True)"
   ]
  },
  {
   "cell_type": "code",
   "execution_count": 15,
   "id": "c1187535",
   "metadata": {},
   "outputs": [
    {
     "data": {
      "text/plain": [
       "array(['полная семья, кровные родители', nan, 'мать/отец одиночка',\n",
       "       'мачеха/отчим', 'в детском доме', 'с бабушкой и дедушкой'],\n",
       "      dtype=object)"
      ]
     },
     "execution_count": 15,
     "metadata": {},
     "output_type": "execute_result"
    }
   ],
   "source": [
    "df[utils.constants.QUESTION_5].unique()"
   ]
  },
  {
   "cell_type": "markdown",
   "id": "9a134c3e",
   "metadata": {},
   "source": [
    "### 6. Жив ли хотя бы один из Ваших родителей? (да/нет)"
   ]
  },
  {
   "cell_type": "code",
   "execution_count": 16,
   "id": "7f00ea7e",
   "metadata": {},
   "outputs": [
    {
     "data": {
      "text/plain": [
       "array(['да', 'нет', 'нет '], dtype=object)"
      ]
     },
     "execution_count": 16,
     "metadata": {},
     "output_type": "execute_result"
    }
   ],
   "source": [
    "df[utils.constants.QUESTION_6].unique()"
   ]
  },
  {
   "cell_type": "code",
   "execution_count": 17,
   "id": "175f10f5",
   "metadata": {},
   "outputs": [],
   "source": [
    "df[utils.constants.QUESTION_6].replace({'нет ': utils.constants.NO}, inplace=True)"
   ]
  },
  {
   "cell_type": "code",
   "execution_count": 18,
   "id": "ee410c62",
   "metadata": {},
   "outputs": [
    {
     "data": {
      "text/plain": [
       "array(['да', 'нет'], dtype=object)"
      ]
     },
     "execution_count": 18,
     "metadata": {},
     "output_type": "execute_result"
    }
   ],
   "source": [
    "df[utils.constants.QUESTION_6].unique()"
   ]
  },
  {
   "cell_type": "markdown",
   "id": "342c977c",
   "metadata": {},
   "source": [
    "### 7. Если да, как часто вы общаетесь?"
   ]
  },
  {
   "cell_type": "code",
   "execution_count": 19,
   "id": "a5e35130",
   "metadata": {},
   "outputs": [
    {
     "data": {
      "text/plain": [
       "array([2, 3, 1, 4, '-', 5, 6], dtype=object)"
      ]
     },
     "execution_count": 19,
     "metadata": {},
     "output_type": "execute_result"
    }
   ],
   "source": [
    "df[utils.constants.QUESTION_7].unique()"
   ]
  },
  {
   "cell_type": "code",
   "execution_count": 20,
   "id": "64e41bbb",
   "metadata": {},
   "outputs": [],
   "source": [
    "df[utils.constants.QUESTION_7].replace({\n",
    "    '-': np.NaN,\n",
    "    1: utils.constants.ANSWER_7_1,\n",
    "    2: utils.constants.ANSWER_7_2,\n",
    "    3: utils.constants.ANSWER_7_3,\n",
    "    4: utils.constants.ANSWER_7_4,\n",
    "    5: utils.constants.ANSWER_7_5,\n",
    "    6: utils.constants.ANSWER_7_6,\n",
    "}, inplace=True)"
   ]
  },
  {
   "cell_type": "code",
   "execution_count": 21,
   "id": "3eea3afc",
   "metadata": {},
   "outputs": [
    {
     "data": {
      "text/plain": [
       "array(['каждый день или почти каждый день', 'раз в неделю',\n",
       "       'я живу с моими родителями', 'один-два раза в месяц', nan,\n",
       "       'несколько раз в год', 'я не общаюсь с родителями'], dtype=object)"
      ]
     },
     "execution_count": 21,
     "metadata": {},
     "output_type": "execute_result"
    }
   ],
   "source": [
    "df[utils.constants.QUESTION_7].unique()"
   ]
  },
  {
   "cell_type": "markdown",
   "id": "e7bc6176",
   "metadata": {},
   "source": [
    "### 8. Есть ли у Вас дети? (да/нет)"
   ]
  },
  {
   "cell_type": "code",
   "execution_count": 22,
   "id": "84a33b94",
   "metadata": {},
   "outputs": [
    {
     "data": {
      "text/plain": [
       "array(['да', 'нет ', ' нет', 'нет', 'да '], dtype=object)"
      ]
     },
     "execution_count": 22,
     "metadata": {},
     "output_type": "execute_result"
    }
   ],
   "source": [
    "df[utils.constants.QUESTION_8].unique()"
   ]
  },
  {
   "cell_type": "code",
   "execution_count": 23,
   "id": "04dc173c",
   "metadata": {},
   "outputs": [],
   "source": [
    "df[utils.constants.QUESTION_8].replace({\n",
    "    ' нет': utils.constants.NO,\n",
    "    'да ': utils.constants.YES,\n",
    "    'нет ': utils.constants.NO,\n",
    "}, inplace=True)"
   ]
  },
  {
   "cell_type": "code",
   "execution_count": 24,
   "id": "ebc046cf",
   "metadata": {},
   "outputs": [
    {
     "data": {
      "text/plain": [
       "array(['да', 'нет'], dtype=object)"
      ]
     },
     "execution_count": 24,
     "metadata": {},
     "output_type": "execute_result"
    }
   ],
   "source": [
    "df[utils.constants.QUESTION_8].unique()"
   ]
  },
  {
   "cell_type": "markdown",
   "id": "2ccad628",
   "metadata": {},
   "source": [
    "### 9. Если да, сколько?"
   ]
  },
  {
   "cell_type": "code",
   "execution_count": 25,
   "id": "6959ad6a",
   "metadata": {},
   "outputs": [
    {
     "data": {
      "text/plain": [
       "array([1, 2, 0, '-', 4, 3, 6, ' -'], dtype=object)"
      ]
     },
     "execution_count": 25,
     "metadata": {},
     "output_type": "execute_result"
    }
   ],
   "source": [
    "df[utils.constants.QUESTION_9].unique()"
   ]
  },
  {
   "cell_type": "code",
   "execution_count": 26,
   "id": "d223bbcf",
   "metadata": {},
   "outputs": [],
   "source": [
    "df[utils.constants.QUESTION_9].replace({\n",
    "    ' -': np.NaN,\n",
    "    '-': np.NaN,\n",
    "    0: np.NaN,\n",
    "}, inplace=True)"
   ]
  },
  {
   "cell_type": "code",
   "execution_count": 27,
   "id": "796517a4",
   "metadata": {},
   "outputs": [
    {
     "data": {
      "text/plain": [
       "array([ 1.,  2., nan,  4.,  3.,  6.])"
      ]
     },
     "execution_count": 27,
     "metadata": {},
     "output_type": "execute_result"
    }
   ],
   "source": [
    "df[utils.constants.QUESTION_9].unique()"
   ]
  },
  {
   "cell_type": "markdown",
   "id": "102d15eb",
   "metadata": {},
   "source": [
    "### 10. Есть ли у Вас совершеннолетние дети? (да/нет)"
   ]
  },
  {
   "cell_type": "code",
   "execution_count": 28,
   "id": "9a8fc0fa",
   "metadata": {},
   "outputs": [
    {
     "data": {
      "text/plain": [
       "array(['да', 'нет', '-', ' да', 'дв', 'да '], dtype=object)"
      ]
     },
     "execution_count": 28,
     "metadata": {},
     "output_type": "execute_result"
    }
   ],
   "source": [
    "df[utils.constants.QUESTION_10].unique()"
   ]
  },
  {
   "cell_type": "code",
   "execution_count": 29,
   "id": "2a9fd447",
   "metadata": {},
   "outputs": [],
   "source": [
    "df[utils.constants.QUESTION_10].replace({\n",
    "    '-': np.NaN,\n",
    "    ' да': utils.constants.YES,\n",
    "    'да ': utils.constants.YES,\n",
    "    'дв': utils.constants.YES,\n",
    "}, inplace=True)"
   ]
  },
  {
   "cell_type": "code",
   "execution_count": 30,
   "id": "f7d085c5",
   "metadata": {},
   "outputs": [
    {
     "data": {
      "text/plain": [
       "array(['да', 'нет', nan], dtype=object)"
      ]
     },
     "execution_count": 30,
     "metadata": {},
     "output_type": "execute_result"
    }
   ],
   "source": [
    "df[utils.constants.QUESTION_10].unique()"
   ]
  },
  {
   "cell_type": "markdown",
   "id": "1f87ac45",
   "metadata": {},
   "source": [
    "### 11. Если да, как часто вы общаетесь?"
   ]
  },
  {
   "cell_type": "code",
   "execution_count": 31,
   "id": "70078c0e",
   "metadata": {},
   "outputs": [
    {
     "data": {
      "text/plain": [
       "array([1, 2, '-', 3, 4, nan, 5], dtype=object)"
      ]
     },
     "execution_count": 31,
     "metadata": {},
     "output_type": "execute_result"
    }
   ],
   "source": [
    "df[utils.constants.QUESTION_11].unique()"
   ]
  },
  {
   "cell_type": "code",
   "execution_count": 32,
   "id": "6adac8c6",
   "metadata": {},
   "outputs": [],
   "source": [
    "df[utils.constants.QUESTION_11].replace({\n",
    "    '-': np.NaN,\n",
    "    1: utils.constants.ANSWER_11_1,\n",
    "    2: utils.constants.ANSWER_11_2,\n",
    "    3: utils.constants.ANSWER_11_3,\n",
    "    4: utils.constants.ANSWER_11_4,\n",
    "    5: utils.constants.ANSWER_11_5,\n",
    "    6: utils.constants.ANSWER_11_6,\n",
    "}, inplace=True)"
   ]
  },
  {
   "cell_type": "code",
   "execution_count": 33,
   "id": "4cf093a2",
   "metadata": {},
   "outputs": [
    {
     "data": {
      "text/plain": [
       "array(['я живу с моими взрослыми детьми',\n",
       "       'каждый день или почти каждый день', nan, 'раз в неделю',\n",
       "       'один-два раза в месяц', 'несколько раз в год'], dtype=object)"
      ]
     },
     "execution_count": 33,
     "metadata": {},
     "output_type": "execute_result"
    }
   ],
   "source": [
    "df[utils.constants.QUESTION_11].unique()"
   ]
  },
  {
   "cell_type": "markdown",
   "id": "1b10f203",
   "metadata": {},
   "source": [
    "### 12. Сколько человек живут вместе с Вами?"
   ]
  },
  {
   "cell_type": "code",
   "execution_count": 34,
   "id": "47d2b896",
   "metadata": {},
   "outputs": [
    {
     "data": {
      "text/plain": [
       "array([ 3.,  1.,  4.,  2., nan])"
      ]
     },
     "execution_count": 34,
     "metadata": {},
     "output_type": "execute_result"
    }
   ],
   "source": [
    "df[utils.constants.QUESTION_12].unique()"
   ]
  },
  {
   "cell_type": "code",
   "execution_count": 35,
   "id": "ced06487",
   "metadata": {},
   "outputs": [],
   "source": [
    "df[utils.constants.QUESTION_12].replace({\n",
    "    1.0: utils.constants.ANSWER_12_1,\n",
    "    2.0: utils.constants.ANSWER_12_2,\n",
    "    3.0: utils.constants.ANSWER_12_3,\n",
    "    4.0: utils.constants.ANSWER_12_4,\n",
    "}, inplace=True)"
   ]
  },
  {
   "cell_type": "code",
   "execution_count": 36,
   "id": "a86eebc6",
   "metadata": {},
   "outputs": [
    {
     "data": {
      "text/plain": [
       "array(['2-3 человека', 'я живу одна', '4 и более человек', '1 человек',\n",
       "       nan], dtype=object)"
      ]
     },
     "execution_count": 36,
     "metadata": {},
     "output_type": "execute_result"
    }
   ],
   "source": [
    "df[utils.constants.QUESTION_12].unique()"
   ]
  },
  {
   "cell_type": "markdown",
   "id": "40f6e0b1",
   "metadata": {},
   "source": [
    "### 13. Каковы Ваши взаимоотношения с соседями?"
   ]
  },
  {
   "cell_type": "code",
   "execution_count": 37,
   "id": "9d383aea",
   "metadata": {},
   "outputs": [
    {
     "data": {
      "text/plain": [
       "array([ 2.,  1.,  3.,  4.,  6., nan,  7.,  5., 33.])"
      ]
     },
     "execution_count": 37,
     "metadata": {},
     "output_type": "execute_result"
    }
   ],
   "source": [
    "df[utils.constants.QUESTION_13].unique()"
   ]
  },
  {
   "cell_type": "code",
   "execution_count": 38,
   "id": "e0021758",
   "metadata": {},
   "outputs": [],
   "source": [
    "df[utils.constants.QUESTION_13].replace({\n",
    "    1.0: utils.constants.ANSWER_13_1,\n",
    "    2.0: utils.constants.ANSWER_13_2,\n",
    "    3.0: utils.constants.ANSWER_13_3,\n",
    "    33.0: utils.constants.ANSWER_13_3,\n",
    "    4.0: utils.constants.ANSWER_13_4,\n",
    "    5.0: utils.constants.ANSWER_13_5,\n",
    "    6.0: utils.constants.ANSWER_13_6,\n",
    "    7.0: utils.constants.ANSWER_13_7,\n",
    "}, inplace=True)"
   ]
  },
  {
   "cell_type": "code",
   "execution_count": 39,
   "id": "3b249b6b",
   "metadata": {},
   "outputs": [
    {
     "data": {
      "text/plain": [
       "array(['хорошие', 'очень хорошие, дружеские', 'нейтральные',\n",
       "       'скорее плохие', 'я не знаю своих соседей', nan,\n",
       "       'у меня нет соседей', 'очень плохие'], dtype=object)"
      ]
     },
     "execution_count": 39,
     "metadata": {},
     "output_type": "execute_result"
    }
   ],
   "source": [
    "df[utils.constants.QUESTION_13].unique()"
   ]
  },
  {
   "cell_type": "markdown",
   "id": "ada5783f",
   "metadata": {},
   "source": [
    "### 14. Как часто Вы встречаетесь с друзьями?"
   ]
  },
  {
   "cell_type": "code",
   "execution_count": 40,
   "id": "aaaa2620",
   "metadata": {},
   "outputs": [
    {
     "data": {
      "text/plain": [
       "array([ 2.,  3.,  4.,  1., nan])"
      ]
     },
     "execution_count": 40,
     "metadata": {},
     "output_type": "execute_result"
    }
   ],
   "source": [
    "df[utils.constants.QUESTION_14].unique()"
   ]
  },
  {
   "cell_type": "code",
   "execution_count": 41,
   "id": "482f2469",
   "metadata": {},
   "outputs": [],
   "source": [
    "df[utils.constants.QUESTION_14].replace({\n",
    "    1.0: utils.constants.ANSWER_14_1,\n",
    "    2.0: utils.constants.ANSWER_14_2,\n",
    "    3.0: utils.constants.ANSWER_14_3,\n",
    "    4.0: utils.constants.ANSWER_14_4,\n",
    "}, inplace=True)"
   ]
  },
  {
   "cell_type": "code",
   "execution_count": 42,
   "id": "74974e1d",
   "metadata": {},
   "outputs": [
    {
     "data": {
      "text/plain": [
       "array(['раз в неделю', 'раз в месяц', 'реже, чем раз в месяц',\n",
       "       'несколько раз в неделю', nan], dtype=object)"
      ]
     },
     "execution_count": 42,
     "metadata": {},
     "output_type": "execute_result"
    }
   ],
   "source": [
    "df[utils.constants.QUESTION_14].unique()"
   ]
  },
  {
   "cell_type": "markdown",
   "id": "f425c913",
   "metadata": {},
   "source": [
    "### 15. Есть ли у Вас домашние питомцы? (да/нет)"
   ]
  },
  {
   "cell_type": "code",
   "execution_count": 43,
   "id": "92a49f11",
   "metadata": {},
   "outputs": [
    {
     "data": {
      "text/plain": [
       "array(['да', 'нет', '-', nan, 'да ', 'ла'], dtype=object)"
      ]
     },
     "execution_count": 43,
     "metadata": {},
     "output_type": "execute_result"
    }
   ],
   "source": [
    "df[utils.constants.QUESTION_15].unique()"
   ]
  },
  {
   "cell_type": "code",
   "execution_count": 44,
   "id": "7525eb8c",
   "metadata": {},
   "outputs": [],
   "source": [
    "df[utils.constants.QUESTION_15].replace({\n",
    "    '-': np.NaN,\n",
    "    'да ': utils.constants.YES,\n",
    "    'ла': utils.constants.YES,\n",
    "}, inplace=True)"
   ]
  },
  {
   "cell_type": "code",
   "execution_count": 45,
   "id": "2cb9b34f",
   "metadata": {},
   "outputs": [
    {
     "data": {
      "text/plain": [
       "array(['да', 'нет', nan], dtype=object)"
      ]
     },
     "execution_count": 45,
     "metadata": {},
     "output_type": "execute_result"
    }
   ],
   "source": [
    "df[utils.constants.QUESTION_15].unique()"
   ]
  },
  {
   "cell_type": "markdown",
   "id": "3ce80f2b",
   "metadata": {},
   "source": [
    "### 16. В течение последних 7 дней, как часто Вы практиковали тяжелые физические нагрузки?"
   ]
  },
  {
   "cell_type": "code",
   "execution_count": 46,
   "id": "a1f30977",
   "metadata": {},
   "outputs": [
    {
     "data": {
      "text/plain": [
       "array(['-', 4, 1, 0, 5, 2, 3, 7, 6, nan], dtype=object)"
      ]
     },
     "execution_count": 46,
     "metadata": {},
     "output_type": "execute_result"
    }
   ],
   "source": [
    "df[utils.constants.QUESTION_16].unique()"
   ]
  },
  {
   "cell_type": "code",
   "execution_count": 47,
   "id": "74e298e0",
   "metadata": {},
   "outputs": [],
   "source": [
    "df[utils.constants.QUESTION_16].replace({'-': np.NaN}, inplace=True)"
   ]
  },
  {
   "cell_type": "code",
   "execution_count": 48,
   "id": "c68f4217",
   "metadata": {},
   "outputs": [
    {
     "data": {
      "text/plain": [
       "array([nan,  4.,  1.,  0.,  5.,  2.,  3.,  7.,  6.])"
      ]
     },
     "execution_count": 48,
     "metadata": {},
     "output_type": "execute_result"
    }
   ],
   "source": [
    "df[utils.constants.QUESTION_16].unique()"
   ]
  },
  {
   "cell_type": "markdown",
   "id": "8c8bbf74",
   "metadata": {},
   "source": [
    "### 17. В течение последних 7 дней, как часто Вы практиковали умеренные физические нагрузки?"
   ]
  },
  {
   "cell_type": "code",
   "execution_count": 49,
   "id": "0a950c33",
   "metadata": {},
   "outputs": [
    {
     "data": {
      "text/plain": [
       "array(['-', 4, 3, 0, 2, 5, 7, 1, nan, 6], dtype=object)"
      ]
     },
     "execution_count": 49,
     "metadata": {},
     "output_type": "execute_result"
    }
   ],
   "source": [
    "df[utils.constants.QUESTION_17].unique()"
   ]
  },
  {
   "cell_type": "code",
   "execution_count": 50,
   "id": "c097ae4e",
   "metadata": {},
   "outputs": [],
   "source": [
    "df[utils.constants.QUESTION_17].replace({'-': np.NaN}, inplace=True)"
   ]
  },
  {
   "cell_type": "code",
   "execution_count": 51,
   "id": "da5b210b",
   "metadata": {},
   "outputs": [
    {
     "data": {
      "text/plain": [
       "array([nan,  4.,  3.,  0.,  2.,  5.,  7.,  1.,  6.])"
      ]
     },
     "execution_count": 51,
     "metadata": {},
     "output_type": "execute_result"
    }
   ],
   "source": [
    "df[utils.constants.QUESTION_17].unique()"
   ]
  },
  {
   "cell_type": "markdown",
   "id": "dcfd40ad",
   "metadata": {},
   "source": [
    "### 18. В течение последних 7 дней, как часто Вы ходили пешком минимум 10 минут без перерыва?"
   ]
  },
  {
   "cell_type": "code",
   "execution_count": 52,
   "id": "a7b307ac",
   "metadata": {},
   "outputs": [
    {
     "data": {
      "text/plain": [
       "array([7.0, 3.0, 5.0, 2.0, 4.0, 0.0, 1.0, 6.0, nan, '-'], dtype=object)"
      ]
     },
     "execution_count": 52,
     "metadata": {},
     "output_type": "execute_result"
    }
   ],
   "source": [
    "df[utils.constants.QUESTION_18].unique()"
   ]
  },
  {
   "cell_type": "code",
   "execution_count": 53,
   "id": "f40dfd95",
   "metadata": {},
   "outputs": [],
   "source": [
    "df[utils.constants.QUESTION_18].replace({\n",
    "    '-': np.NaN,\n",
    "    0.0: 0,\n",
    "    1.0: 1,\n",
    "    2.0: 2,\n",
    "    3.0: 3,\n",
    "    4.0: 4,\n",
    "    5.0: 5,\n",
    "    6.0: 6,\n",
    "    7.0: 7,\n",
    "}, inplace=True)"
   ]
  },
  {
   "cell_type": "code",
   "execution_count": 54,
   "id": "e9d35b6d",
   "metadata": {},
   "outputs": [
    {
     "data": {
      "text/plain": [
       "array([ 7.,  3.,  5.,  2.,  4.,  0.,  1.,  6., nan])"
      ]
     },
     "execution_count": 54,
     "metadata": {},
     "output_type": "execute_result"
    }
   ],
   "source": [
    "df[utils.constants.QUESTION_18].unique()"
   ]
  },
  {
   "cell_type": "markdown",
   "id": "885229d5",
   "metadata": {},
   "source": [
    "### 19. Уровень Вашего образования?"
   ]
  },
  {
   "cell_type": "code",
   "execution_count": 55,
   "id": "83c3e388",
   "metadata": {},
   "outputs": [
    {
     "data": {
      "text/plain": [
       "array([ 2.,  3.,  1., nan,  4.])"
      ]
     },
     "execution_count": 55,
     "metadata": {},
     "output_type": "execute_result"
    }
   ],
   "source": [
    "df[utils.constants.QUESTION_19].unique()"
   ]
  },
  {
   "cell_type": "code",
   "execution_count": 56,
   "id": "ef64c4f5",
   "metadata": {},
   "outputs": [],
   "source": [
    "df[utils.constants.QUESTION_19].replace({\n",
    "    1.0: utils.constants.ANSWER_19_20_1,\n",
    "    2.0: utils.constants.ANSWER_19_20_2,\n",
    "    3.0: utils.constants.ANSWER_19_20_3,\n",
    "    4.0: utils.constants.ANSWER_19_20_4,\n",
    "}, inplace=True)"
   ]
  },
  {
   "cell_type": "code",
   "execution_count": 57,
   "id": "8112baf5",
   "metadata": {},
   "outputs": [
    {
     "data": {
      "text/plain": [
       "array(['среднее специальное образование',\n",
       "       'законченное высшее образование', 'средняя школа', nan,\n",
       "       'учёная степень'], dtype=object)"
      ]
     },
     "execution_count": 57,
     "metadata": {},
     "output_type": "execute_result"
    }
   ],
   "source": [
    "df[utils.constants.QUESTION_19].unique()"
   ]
  },
  {
   "cell_type": "markdown",
   "id": "4847e6f6",
   "metadata": {},
   "source": [
    "### 20. Каков уровень образования Вашего партнёра? (если применимо)"
   ]
  },
  {
   "cell_type": "code",
   "execution_count": 58,
   "id": "1ed1298c",
   "metadata": {},
   "outputs": [
    {
     "data": {
      "text/plain": [
       "array([2, '-', 3, 1, nan, 4], dtype=object)"
      ]
     },
     "execution_count": 58,
     "metadata": {},
     "output_type": "execute_result"
    }
   ],
   "source": [
    "df[utils.constants.QUESTION_20].unique()"
   ]
  },
  {
   "cell_type": "code",
   "execution_count": 59,
   "id": "4ad5c702",
   "metadata": {},
   "outputs": [],
   "source": [
    "df[utils.constants.QUESTION_20].replace({\n",
    "    '-': np.NaN,\n",
    "    1: utils.constants.ANSWER_19_20_1,\n",
    "    2: utils.constants.ANSWER_19_20_2,\n",
    "    3: utils.constants.ANSWER_19_20_3,\n",
    "    4: utils.constants.ANSWER_19_20_4,\n",
    "}, inplace=True)"
   ]
  },
  {
   "cell_type": "code",
   "execution_count": 60,
   "id": "b08dcdd1",
   "metadata": {},
   "outputs": [
    {
     "data": {
      "text/plain": [
       "array(['среднее специальное образование', nan,\n",
       "       'законченное высшее образование', 'средняя школа',\n",
       "       'учёная степень'], dtype=object)"
      ]
     },
     "execution_count": 60,
     "metadata": {},
     "output_type": "execute_result"
    }
   ],
   "source": [
    "df[utils.constants.QUESTION_20].unique()"
   ]
  },
  {
   "cell_type": "markdown",
   "id": "e0ea04b8",
   "metadata": {},
   "source": [
    "### 22. Как долго Вы проживаете в этом месте? (в годах)"
   ]
  },
  {
   "cell_type": "code",
   "execution_count": 61,
   "id": "ec9f1747",
   "metadata": {},
   "outputs": [
    {
     "data": {
      "text/plain": [
       "array([7, 11, 34, '50 лет', '4 года ', '29 лет', '18 лет', '22 года',\n",
       "       '1 год', '5 лет', '35 лет', '20 лет', '38 лет', '17 лет', '47 лет',\n",
       "       '32 года', '15 лет', '25 лет', '41 год', '7 лет', '12 лет',\n",
       "       '30 лет ', '2 года', '3 года', '?', '52 года', '10 лет', '2 года ',\n",
       "       '49 лет', 0.5, '42 года', '14 лет', '40 лет', '6 лет', '-',\n",
       "       '8 лет', '34 года', '45 лет', '55 лет ', '26 лет', '61 год ', nan,\n",
       "       '28 лет', '3.5 года', '43 года ', '15 лет ', '42года', '67 лет',\n",
       "       '24 года', '53 года', '33 года ', '12 лет ', '11 лет', '13 лет',\n",
       "       '37 лет', '21 год', '2,5 года', '36 лет', '27 лет', '31 год',\n",
       "       '16 лет', '79 лет', '64 года', '54 года', '6 месяцев', 14, 42, 30,\n",
       "       '9 лет', '4 года', '33 года', '30 лет', '19 лет', '23 года',\n",
       "       '56 лет', '44 года', '1,5 ГОДА', '45 лет ', '48 лет', '3 года ',\n",
       "       '11 лет ', '39 лет', '43 года', '1 месяц', '4 лет', '28 года',\n",
       "       '46 лет', '55 лет', '2.5 года', '66 лет', '10 лет ', '58 лет',\n",
       "       '72 года', '73 года', '57 лет', '59 лет', '60 лет', '77 лет',\n",
       "       '1 год ', '63 года', '61 год', '65 лет'], dtype=object)"
      ]
     },
     "execution_count": 61,
     "metadata": {},
     "output_type": "execute_result"
    }
   ],
   "source": [
    "df[utils.constants.QUESTION_22].unique()"
   ]
  },
  {
   "cell_type": "code",
   "execution_count": 62,
   "id": "42f0525f",
   "metadata": {},
   "outputs": [],
   "source": [
    "df[utils.constants.QUESTION_22].replace({\n",
    "    '-': np.NaN,\n",
    "    '?': np.NaN,\n",
    "}, inplace=True)\n",
    "df[utils.constants.QUESTION_22] = df[utils.constants.QUESTION_22].apply(convert_time_interval)"
   ]
  },
  {
   "cell_type": "code",
   "execution_count": 63,
   "id": "ea01e9b3",
   "metadata": {},
   "outputs": [
    {
     "data": {
      "image/png": "[encoded data removed]",
      "text/plain": [
       "<Figure size 1200x500 with 1 Axes>"
      ]
     },
     "metadata": {},
     "output_type": "display_data"
    }
   ],
   "source": [
    "fig, ax = plt.subplots(figsize=(12, 5))\n",
    "df[utils.constants.QUESTION_22].hist(ax=ax, bins=80)\n",
    "ax.set(title=utils.constants.QUESTION_22)\n",
    "plt.show()"
   ]
  },
  {
   "cell_type": "markdown",
   "id": "3ca45387",
   "metadata": {},
   "source": [
    "### 23. Каков тип Вашего дома?"
   ]
  },
  {
   "cell_type": "code",
   "execution_count": 64,
   "id": "a4f980ff",
   "metadata": {},
   "outputs": [
    {
     "data": {
      "text/plain": [
       "array([ 1.,  2.,  3., nan])"
      ]
     },
     "execution_count": 64,
     "metadata": {},
     "output_type": "execute_result"
    }
   ],
   "source": [
    "df[utils.constants.QUESTION_23].unique()"
   ]
  },
  {
   "cell_type": "code",
   "execution_count": 65,
   "id": "4c358091",
   "metadata": {},
   "outputs": [],
   "source": [
    "df[utils.constants.QUESTION_23].replace({\n",
    "    1.0: utils.constants.ANSWER_23_1,\n",
    "    2.0: utils.constants.ANSWER_23_2,\n",
    "    3.0: utils.constants.ANSWER_23_3,\n",
    "}, inplace=True)"
   ]
  },
  {
   "cell_type": "code",
   "execution_count": 66,
   "id": "1ffbed85",
   "metadata": {},
   "outputs": [
    {
     "data": {
      "text/plain": [
       "array(['многоквартирный дом', 'таунхаус', 'собственный дом', nan],\n",
       "      dtype=object)"
      ]
     },
     "execution_count": 66,
     "metadata": {},
     "output_type": "execute_result"
    }
   ],
   "source": [
    "df[utils.constants.QUESTION_23].unique()"
   ]
  },
  {
   "cell_type": "markdown",
   "id": "b7c74f09",
   "metadata": {},
   "source": [
    "### 24. Если Вы живёте в многоквартирном доме, то на каком этаже?"
   ]
  },
  {
   "cell_type": "code",
   "execution_count": 67,
   "id": "910ca88f",
   "metadata": {},
   "outputs": [
    {
     "data": {
      "text/plain": [
       "array([12, 5, 3, 4, 2, 9, 1, 13, 8, 11, 14, 16, 6, '-', 7, 23, 17, nan,\n",
       "       15, 20, 22, 10, 0, 40, '?', 25, 18], dtype=object)"
      ]
     },
     "execution_count": 67,
     "metadata": {},
     "output_type": "execute_result"
    }
   ],
   "source": [
    "df[utils.constants.QUESTION_24].unique()"
   ]
  },
  {
   "cell_type": "code",
   "execution_count": 68,
   "id": "34dc367b",
   "metadata": {},
   "outputs": [],
   "source": [
    "df[utils.constants.QUESTION_24].replace({\n",
    "    '-': np.NaN,\n",
    "    '?': np.NaN,\n",
    "}, inplace=True)\n",
    "df[utils.constants.QUESTION_24] = df[utils.constants.QUESTION_24].apply(convert_time_interval)"
   ]
  },
  {
   "cell_type": "code",
   "execution_count": 69,
   "id": "a9ce711b",
   "metadata": {},
   "outputs": [
    {
     "data": {
      "image/png": "[encoded data removed]",
      "text/plain": [
       "<Figure size 1200x500 with 1 Axes>"
      ]
     },
     "metadata": {},
     "output_type": "display_data"
    }
   ],
   "source": [
    "fig, ax = plt.subplots(figsize=(12, 5))\n",
    "df[utils.constants.QUESTION_24].hist(ax=ax, bins=40)\n",
    "ax.set(title=utils.constants.QUESTION_24)\n",
    "plt.show()"
   ]
  },
  {
   "cell_type": "markdown",
   "id": "d01651ca",
   "metadata": {},
   "source": [
    "### 25. Каким транспортом Вы обычно пользуетесь?"
   ]
  },
  {
   "cell_type": "code",
   "execution_count": 70,
   "id": "84cbcdea",
   "metadata": {},
   "outputs": [
    {
     "data": {
      "text/plain": [
       "array([1.0, 3.0, 2.0, nan, '-'], dtype=object)"
      ]
     },
     "execution_count": 70,
     "metadata": {},
     "output_type": "execute_result"
    }
   ],
   "source": [
    "df[utils.constants.QUESTION_25].unique()"
   ]
  },
  {
   "cell_type": "code",
   "execution_count": 71,
   "id": "ba6d78ad",
   "metadata": {},
   "outputs": [],
   "source": [
    "df[utils.constants.QUESTION_25].replace({\n",
    "    '-': np.NaN,\n",
    "    1.0: utils.constants.ANSWER_25_1,\n",
    "    2.0: utils.constants.ANSWER_25_2,\n",
    "    3.0: utils.constants.ANSWER_25_3,\n",
    "}, inplace=True)"
   ]
  },
  {
   "cell_type": "code",
   "execution_count": 72,
   "id": "32aa8fab",
   "metadata": {},
   "outputs": [
    {
     "data": {
      "text/plain": [
       "array(['общественный транспорт', 'я обычно не пользуюсь транспортом',\n",
       "       'собственная машина/такси', nan], dtype=object)"
      ]
     },
     "execution_count": 72,
     "metadata": {},
     "output_type": "execute_result"
    }
   ],
   "source": [
    "df[utils.constants.QUESTION_25].unique()"
   ]
  },
  {
   "cell_type": "markdown",
   "id": "b7d0256b",
   "metadata": {},
   "source": [
    "### 26. Сколько времени занимает Ваш путь до работы в одну сторону?"
   ]
  },
  {
   "cell_type": "code",
   "execution_count": 73,
   "id": "35a4021e",
   "metadata": {},
   "outputs": [
    {
     "data": {
      "text/plain": [
       "array(['-', 2, 1, 3, nan, 4], dtype=object)"
      ]
     },
     "execution_count": 73,
     "metadata": {},
     "output_type": "execute_result"
    }
   ],
   "source": [
    "df[utils.constants.QUESTION_26].unique()"
   ]
  },
  {
   "cell_type": "code",
   "execution_count": 74,
   "id": "69d3026d",
   "metadata": {},
   "outputs": [],
   "source": [
    "df[utils.constants.QUESTION_26].replace({\n",
    "    '-': np.NaN,\n",
    "    1: utils.constants.ANSWER_26_1,\n",
    "    2: utils.constants.ANSWER_26_2,\n",
    "    3: utils.constants.ANSWER_26_3,\n",
    "    4: np.NaN,\n",
    "}, inplace=True)"
   ]
  },
  {
   "cell_type": "code",
   "execution_count": 75,
   "id": "163d9185",
   "metadata": {},
   "outputs": [
    {
     "data": {
      "text/plain": [
       "array([nan, '1-3 часа', '1 час и меньше', 'более трёх часов'],\n",
       "      dtype=object)"
      ]
     },
     "execution_count": 75,
     "metadata": {},
     "output_type": "execute_result"
    }
   ],
   "source": [
    "df[utils.constants.QUESTION_26].unique()"
   ]
  },
  {
   "cell_type": "markdown",
   "id": "daa77087",
   "metadata": {},
   "source": [
    "### 27. Каков тип Вашей занятости?"
   ]
  },
  {
   "cell_type": "code",
   "execution_count": 76,
   "id": "2ab01c6c",
   "metadata": {},
   "outputs": [
    {
     "data": {
      "text/plain": [
       "array([4, 1, 3, 2, '-', nan], dtype=object)"
      ]
     },
     "execution_count": 76,
     "metadata": {},
     "output_type": "execute_result"
    }
   ],
   "source": [
    "df[utils.constants.QUESTION_27].unique()"
   ]
  },
  {
   "cell_type": "code",
   "execution_count": 77,
   "id": "9db2269d",
   "metadata": {},
   "outputs": [],
   "source": [
    "df[utils.constants.QUESTION_27].replace({\n",
    "    '-': np.NaN,\n",
    "    1: utils.constants.ANSWER_27_1,\n",
    "    2: utils.constants.ANSWER_27_2,\n",
    "    3: utils.constants.ANSWER_27_3,\n",
    "    4: utils.constants.ANSWER_27_4,\n",
    "}, inplace=True)"
   ]
  },
  {
   "cell_type": "code",
   "execution_count": 78,
   "id": "4623df0f",
   "metadata": {},
   "outputs": [
    {
     "data": {
      "text/plain": [
       "array(['я не работаю', 'полный рабочий день', 'я работаю из дома',\n",
       "       'частичная занятость', nan], dtype=object)"
      ]
     },
     "execution_count": 78,
     "metadata": {},
     "output_type": "execute_result"
    }
   ],
   "source": [
    "df[utils.constants.QUESTION_27].unique()"
   ]
  },
  {
   "cell_type": "markdown",
   "id": "5bf76208",
   "metadata": {},
   "source": [
    "### 28. Каковы Ваши предпочтения в пище?"
   ]
  },
  {
   "cell_type": "code",
   "execution_count": 79,
   "id": "d6b3534d",
   "metadata": {},
   "outputs": [
    {
     "data": {
      "text/plain": [
       "array([ 1.,  2.,  3., nan,  4.])"
      ]
     },
     "execution_count": 79,
     "metadata": {},
     "output_type": "execute_result"
    }
   ],
   "source": [
    "df[utils.constants.QUESTION_28].unique()"
   ]
  },
  {
   "cell_type": "code",
   "execution_count": 80,
   "id": "7f4a6745",
   "metadata": {},
   "outputs": [],
   "source": [
    "df[utils.constants.QUESTION_28].replace({\n",
    "    1.0: utils.constants.ANSWER_28_1,\n",
    "    2.0: utils.constants.ANSWER_28_2,\n",
    "    3.0: utils.constants.ANSWER_28_3,\n",
    "    4.0: utils.constants.ANSWER_28_4,\n",
    "}, inplace=True)"
   ]
  },
  {
   "cell_type": "code",
   "execution_count": 81,
   "id": "de160a93",
   "metadata": {},
   "outputs": [
    {
     "data": {
      "text/plain": [
       "array(['я ем мясо или рыбу ежедневно',\n",
       "       'я ем мясо или рыбу 2-3 раза в неделю',\n",
       "       'я практически не ем мясо/рыбу', nan, 'я вегетарианец/веган'],\n",
       "      dtype=object)"
      ]
     },
     "execution_count": 81,
     "metadata": {},
     "output_type": "execute_result"
    }
   ],
   "source": [
    "df[utils.constants.QUESTION_28].unique()"
   ]
  },
  {
   "cell_type": "markdown",
   "id": "d51cd17e",
   "metadata": {},
   "source": [
    "### 29. Каков тип Вашего питания?"
   ]
  },
  {
   "cell_type": "code",
   "execution_count": 82,
   "id": "83a2928b",
   "metadata": {},
   "outputs": [
    {
     "data": {
      "text/plain": [
       "array([ 1.,  3.,  2.,  4., nan])"
      ]
     },
     "execution_count": 82,
     "metadata": {},
     "output_type": "execute_result"
    }
   ],
   "source": [
    "df[utils.constants.QUESTION_29].unique()"
   ]
  },
  {
   "cell_type": "code",
   "execution_count": 83,
   "id": "6b011693",
   "metadata": {},
   "outputs": [],
   "source": [
    "df[utils.constants.QUESTION_29].replace({\n",
    "    1.0: utils.constants.ANSWER_29_1,\n",
    "    2.0: utils.constants.ANSWER_29_2,\n",
    "    3.0: utils.constants.ANSWER_29_3,\n",
    "    4.0: utils.constants.ANSWER_29_4,\n",
    "}, inplace=True)"
   ]
  },
  {
   "cell_type": "code",
   "execution_count": 84,
   "id": "fb95ca9f",
   "metadata": {},
   "outputs": [
    {
     "data": {
      "text/plain": [
       "array(['3-4-разовое домашнее питание',\n",
       "       'дома готовлю редко, питаюсь в предприятиях общественного питания',\n",
       "       '3-разовое питание, домашнее и в предприятиях общественного питания',\n",
       "       'регулярного режима питания нет', nan], dtype=object)"
      ]
     },
     "execution_count": 84,
     "metadata": {},
     "output_type": "execute_result"
    }
   ],
   "source": [
    "df[utils.constants.QUESTION_29].unique()"
   ]
  },
  {
   "cell_type": "markdown",
   "id": "b6b3ba06",
   "metadata": {},
   "source": [
    "### 30. Вы курите? (да/нет)"
   ]
  },
  {
   "cell_type": "code",
   "execution_count": 85,
   "id": "3e8dbc31",
   "metadata": {},
   "outputs": [
    {
     "data": {
      "text/plain": [
       "array(['нет', 'да', nan, 'нет ', 'не т'], dtype=object)"
      ]
     },
     "execution_count": 85,
     "metadata": {},
     "output_type": "execute_result"
    }
   ],
   "source": [
    "df[utils.constants.QUESTION_30].unique()"
   ]
  },
  {
   "cell_type": "code",
   "execution_count": 86,
   "id": "7b2bc31e",
   "metadata": {},
   "outputs": [],
   "source": [
    "df[utils.constants.QUESTION_30].replace({\n",
    "    'не т': utils.constants.NO,\n",
    "    'нет ': utils.constants.NO,\n",
    "}, inplace=True)"
   ]
  },
  {
   "cell_type": "code",
   "execution_count": 87,
   "id": "be8e14b0",
   "metadata": {},
   "outputs": [
    {
     "data": {
      "text/plain": [
       "array(['нет', 'да', nan], dtype=object)"
      ]
     },
     "execution_count": 87,
     "metadata": {},
     "output_type": "execute_result"
    }
   ],
   "source": [
    "df[utils.constants.QUESTION_30].unique()"
   ]
  },
  {
   "cell_type": "markdown",
   "id": "931b6bae",
   "metadata": {},
   "source": [
    "### 31. Количество родов"
   ]
  },
  {
   "cell_type": "code",
   "execution_count": 88,
   "id": "acc9cbd5",
   "metadata": {},
   "outputs": [
    {
     "data": {
      "text/plain": [
       "array([1, 2, 0, 4, 3, 6], dtype=int64)"
      ]
     },
     "execution_count": 88,
     "metadata": {},
     "output_type": "execute_result"
    }
   ],
   "source": [
    "df[utils.constants.QUESTION_31].unique()"
   ]
  },
  {
   "cell_type": "markdown",
   "id": "140a020f",
   "metadata": {},
   "source": [
    "### 32. Количество прерванных беременностей"
   ]
  },
  {
   "cell_type": "code",
   "execution_count": 89,
   "id": "06fcd90f",
   "metadata": {},
   "outputs": [
    {
     "data": {
      "text/plain": [
       "array([ 0,  2,  5,  4,  1,  3,  8,  7,  6, 12], dtype=int64)"
      ]
     },
     "execution_count": 89,
     "metadata": {},
     "output_type": "execute_result"
    }
   ],
   "source": [
    "df[utils.constants.QUESTION_32].unique()"
   ]
  },
  {
   "cell_type": "markdown",
   "id": "ddc847a6",
   "metadata": {},
   "source": [
    "### 33. Гинекологические заболевания (да/нет)"
   ]
  },
  {
   "cell_type": "code",
   "execution_count": 90,
   "id": "eeefa744",
   "metadata": {},
   "outputs": [
    {
     "data": {
      "text/plain": [
       "array(['да', 'нет', 'есть', 'есть ', 'НЕТ', 'да ', 'ней', 'нте'],\n",
       "      dtype=object)"
      ]
     },
     "execution_count": 90,
     "metadata": {},
     "output_type": "execute_result"
    }
   ],
   "source": [
    "df[utils.constants.QUESTION_33].unique()"
   ]
  },
  {
   "cell_type": "code",
   "execution_count": 91,
   "id": "4081adc7",
   "metadata": {},
   "outputs": [],
   "source": [
    "df[utils.constants.QUESTION_33].replace({\n",
    "    'НЕТ': utils.constants.NO,\n",
    "    'да ': utils.constants.YES,\n",
    "    'есть': utils.constants.YES,\n",
    "    'есть ': utils.constants.YES,\n",
    "    'ней': utils.constants.NO,\n",
    "    'нте': utils.constants.NO,\n",
    "}, inplace=True)"
   ]
  },
  {
   "cell_type": "code",
   "execution_count": 92,
   "id": "62e942d5",
   "metadata": {},
   "outputs": [
    {
     "data": {
      "text/plain": [
       "array(['да', 'нет'], dtype=object)"
      ]
     },
     "execution_count": 92,
     "metadata": {},
     "output_type": "execute_result"
    }
   ],
   "source": [
    "df[utils.constants.QUESTION_33].unique()"
   ]
  },
  {
   "cell_type": "markdown",
   "id": "f8858c2b",
   "metadata": {},
   "source": [
    "### 34. Заболевания щитовидной железы (да/нет)"
   ]
  },
  {
   "cell_type": "code",
   "execution_count": 93,
   "id": "add03bbb",
   "metadata": {},
   "outputs": [
    {
     "data": {
      "text/plain": [
       "array(['нет', 'есть', 'нет ', 'НЕТ', 'есть ', 'да', 'дв'], dtype=object)"
      ]
     },
     "execution_count": 93,
     "metadata": {},
     "output_type": "execute_result"
    }
   ],
   "source": [
    "df[utils.constants.QUESTION_34].unique()"
   ]
  },
  {
   "cell_type": "code",
   "execution_count": 94,
   "id": "9f7168e2",
   "metadata": {},
   "outputs": [],
   "source": [
    "df[utils.constants.QUESTION_34].replace({\n",
    "    'НЕТ': utils.constants.NO,\n",
    "    'дв': utils.constants.YES,\n",
    "    'есть': utils.constants.YES,\n",
    "    'есть ': utils.constants.YES,\n",
    "    'нет ': utils.constants.NO,\n",
    "}, inplace=True)"
   ]
  },
  {
   "cell_type": "code",
   "execution_count": 95,
   "id": "5ae45a76",
   "metadata": {},
   "outputs": [
    {
     "data": {
      "text/plain": [
       "array(['нет', 'да'], dtype=object)"
      ]
     },
     "execution_count": 95,
     "metadata": {},
     "output_type": "execute_result"
    }
   ],
   "source": [
    "df[utils.constants.QUESTION_34].unique()"
   ]
  },
  {
   "cell_type": "markdown",
   "id": "5f041ec0",
   "metadata": {},
   "source": [
    "### 35. Наследственность (да/нет)"
   ]
  },
  {
   "cell_type": "code",
   "execution_count": 96,
   "id": "32d7236c",
   "metadata": {},
   "outputs": [
    {
     "data": {
      "text/plain": [
       "array(['нет', 'есть', 'да', ' нет'], dtype=object)"
      ]
     },
     "execution_count": 96,
     "metadata": {},
     "output_type": "execute_result"
    }
   ],
   "source": [
    "df[utils.constants.QUESTION_35].unique()"
   ]
  },
  {
   "cell_type": "code",
   "execution_count": 97,
   "id": "0f37261f",
   "metadata": {},
   "outputs": [],
   "source": [
    "df[utils.constants.QUESTION_35].replace({\n",
    "    ' нет': utils.constants.NO,\n",
    "    'есть': utils.constants.YES,\n",
    "}, inplace=True)"
   ]
  },
  {
   "cell_type": "code",
   "execution_count": 98,
   "id": "ce7e37bb",
   "metadata": {},
   "outputs": [
    {
     "data": {
      "text/plain": [
       "array(['нет', 'да'], dtype=object)"
      ]
     },
     "execution_count": 98,
     "metadata": {},
     "output_type": "execute_result"
    }
   ],
   "source": [
    "df[utils.constants.QUESTION_35].unique()"
   ]
  },
  {
   "cell_type": "code",
   "execution_count": 99,
   "id": "40f89251",
   "metadata": {},
   "outputs": [],
   "source": [
    "df.to_excel(excel_writer=utils.constants.ETLED_DATA_PATH, index=False)"
   ]
  }
 ],
 "metadata": {
  "kernelspec": {
   "display_name": "Python 3 (ipykernel)",
   "language": "python",
   "name": "python3"
  },
  "language_info": {
   "codemirror_mode": {
    "name": "ipython",
    "version": 3
   },
   "file_extension": ".py",
   "mimetype": "text/x-python",
   "name": "python",
   "nbconvert_exporter": "python",
   "pygments_lexer": "ipython3",
   "version": "3.10.7"
  }
 },
 "nbformat": 4,
 "nbformat_minor": 5
}
