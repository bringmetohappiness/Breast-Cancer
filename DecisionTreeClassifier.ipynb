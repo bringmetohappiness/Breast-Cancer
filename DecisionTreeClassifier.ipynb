{
 "cells": [
  {
   "cell_type": "markdown",
   "id": "5b525e14",
   "metadata": {},
   "source": [
    "- [Предобработка](#Предобработка)\n",
    "- [Label Encoding категориальных и ранговых признаков](#Label-Encoding-категориальных-и-ранговых-признаков)\n",
    "- [Label Encoding ранговых и One-Hot Encoding категориальных признаков](#Label-Encoding-ранговых-и-One-Hot-Encoding-категориальных-признаков)\n",
    "- [One-Hot Encoding категориальных и ранговых признаков](#One-Hot-Encoding-категориальных-и-ранговых-признаков)\n",
    "- [Multi-Class Target Encoding категориальных и Label Encoding ранговых признаков](#Multi-Class-Target-Encoding-категориальных-и-Label-Encoding-ранговых-признаков)\n",
    "- [Multi-Class Target Encoding категориальных и ранговых признаков](#Multi-Class-Target-Encoding-категориальных-и-ранговых-признаков)"
   ]
  },
  {
   "cell_type": "code",
   "execution_count": 1,
   "id": "680be4f0",
   "metadata": {},
   "outputs": [],
   "source": [
    "import os\n",
    "import subprocess\n",
    "\n",
    "import matplotlib.pyplot as plt\n",
    "%matplotlib inline\n",
    "import numpy as np\n",
    "import pandas as pd\n",
    "from sklearn.metrics import classification_report\n",
    "from sklearn.metrics import ConfusionMatrixDisplay\n",
    "from sklearn.model_selection import GridSearchCV\n",
    "from sklearn.model_selection import train_test_split\n",
    "from sklearn.model_selection import StratifiedShuffleSplit\n",
    "from sklearn.tree import DecisionTreeClassifier\n",
    "\n",
    "from utils import definitions as defs"
   ]
  },
  {
   "cell_type": "code",
   "execution_count": 2,
   "id": "d6d135a4",
   "metadata": {},
   "outputs": [],
   "source": [
    "RANDOM_STATE = 42\n",
    "TRAIN_SIZE = 0.7"
   ]
  },
  {
   "cell_type": "code",
   "execution_count": 3,
   "id": "50f0622d",
   "metadata": {},
   "outputs": [],
   "source": [
    "df = pd.read_excel(defs.ETLED_DATA_PATH)"
   ]
  },
  {
   "cell_type": "markdown",
   "id": "7a4205af",
   "metadata": {},
   "source": [
    "## Предобработка"
   ]
  },
  {
   "cell_type": "code",
   "execution_count": 4,
   "id": "532495cc",
   "metadata": {},
   "outputs": [],
   "source": [
    "y = df[defs.TARGET]\n",
    "X = df.drop(defs.TARGET, axis=1)"
   ]
  },
  {
   "cell_type": "code",
   "execution_count": 5,
   "id": "55a543d3",
   "metadata": {},
   "outputs": [],
   "source": [
    "feature_names = list(X)"
   ]
  },
  {
   "cell_type": "markdown",
   "id": "1bf27c47",
   "metadata": {},
   "source": [
    "Меняем NaN на -1 в численных признаках."
   ]
  },
  {
   "cell_type": "code",
   "execution_count": 6,
   "id": "0de59ec1",
   "metadata": {},
   "outputs": [],
   "source": [
    "X.replace({\n",
    "    defs.QUESTION_2: {np.NaN: -1},\n",
    "    defs.QUESTION_4: {np.NaN: -1},\n",
    "    defs.QUESTION_22: {np.NaN: -1},\n",
    "    defs.QUESTION_24: {np.NaN: -1},\n",
    "}, inplace=True)"
   ]
  },
  {
   "cell_type": "markdown",
   "id": "a3461fba",
   "metadata": {},
   "source": [
    "Label Encoding ранговых признаков."
   ]
  },
  {
   "cell_type": "code",
   "execution_count": 7,
   "id": "964613d4",
   "metadata": {},
   "outputs": [],
   "source": [
    "X.replace({\n",
    "    defs.QUESTION_5:\n",
    "    {\n",
    "        np.NaN: -1,\n",
    "        defs.ANSWER_5_5: 0,\n",
    "        defs.ANSWER_5_4: 1,\n",
    "        defs.ANSWER_5_3: 2,\n",
    "        defs.ANSWER_5_2: 3,\n",
    "        defs.ANSWER_5_1: 4,\n",
    "    },\n",
    "    defs.QUESTION_7:\n",
    "    {\n",
    "        np.NaN: -1,\n",
    "        defs.ANSWER_7_6: 0,\n",
    "        defs.ANSWER_7_5: 1,\n",
    "        defs.ANSWER_7_4: 2,\n",
    "        defs.ANSWER_7_3: 3,\n",
    "        defs.ANSWER_7_2: 4,\n",
    "        defs.ANSWER_7_1: 5,\n",
    "    },\n",
    "    defs.QUESTION_9:\n",
    "    {\n",
    "        np.NaN: -1,\n",
    "    },\n",
    "    defs.QUESTION_11:\n",
    "    {\n",
    "        np.NaN: -1,\n",
    "        defs.ANSWER_11_6: 0,\n",
    "        defs.ANSWER_11_5: 1,\n",
    "        defs.ANSWER_11_4: 2,\n",
    "        defs.ANSWER_11_3: 3,\n",
    "        defs.ANSWER_11_2: 4,\n",
    "        defs.ANSWER_11_1: 5,\n",
    "    },\n",
    "    defs.QUESTION_12:\n",
    "    {\n",
    "        np.NaN: -1,\n",
    "        defs.ANSWER_12_1: 0,\n",
    "        defs.ANSWER_12_2: 1,\n",
    "        defs.ANSWER_12_3: 2,\n",
    "        defs.ANSWER_12_4: 3,\n",
    "    },\n",
    "    defs.QUESTION_13:\n",
    "    {\n",
    "        np.NaN: -1,\n",
    "        defs.ANSWER_13_5: 0,\n",
    "        defs.ANSWER_13_4: 1,\n",
    "        defs.ANSWER_13_6: 2,\n",
    "        defs.ANSWER_13_7: 3,\n",
    "        defs.ANSWER_13_3: 4,\n",
    "        defs.ANSWER_13_2: 5,\n",
    "        defs.ANSWER_13_1: 6,\n",
    "    },\n",
    "    defs.QUESTION_14:\n",
    "    {\n",
    "        np.NaN: -1,\n",
    "        defs.ANSWER_14_4: 0,\n",
    "        defs.ANSWER_14_3: 1,\n",
    "        defs.ANSWER_14_2: 2,\n",
    "        defs.ANSWER_14_1: 3,\n",
    "    },\n",
    "    defs.QUESTION_16:\n",
    "    {\n",
    "        np.NaN: -1,\n",
    "    },\n",
    "    defs.QUESTION_17:\n",
    "    {\n",
    "        np.NaN: -1,\n",
    "    },\n",
    "    defs.QUESTION_18:\n",
    "    {\n",
    "        np.NaN: -1,\n",
    "    },\n",
    "    defs.QUESTION_19:\n",
    "    {\n",
    "        np.NaN: -1,\n",
    "        defs.ANSWER_19_20_1: 0,\n",
    "        defs.ANSWER_19_20_2: 1,\n",
    "        defs.ANSWER_19_20_3: 2,\n",
    "        defs.ANSWER_19_20_4: 3,\n",
    "    },\n",
    "    defs.QUESTION_20:\n",
    "    {\n",
    "        np.NaN: -1,\n",
    "        defs.ANSWER_19_20_1: 0,\n",
    "        defs.ANSWER_19_20_2: 1,\n",
    "        defs.ANSWER_19_20_3: 2,\n",
    "        defs.ANSWER_19_20_4: 3,\n",
    "    },\n",
    "    defs.QUESTION_26:\n",
    "    {\n",
    "        np.NaN: -1,\n",
    "        defs.ANSWER_26_1: 0,\n",
    "        defs.ANSWER_26_2: 1,\n",
    "        defs.ANSWER_26_3: 2,\n",
    "    },\n",
    "    defs.QUESTION_27:\n",
    "    {\n",
    "        np.NaN: -1,\n",
    "        defs.ANSWER_27_4: 0,\n",
    "        defs.ANSWER_27_3: 1,\n",
    "        defs.ANSWER_27_2: 2,\n",
    "        defs.ANSWER_27_1: 3,\n",
    "    },\n",
    "    defs.QUESTION_28:\n",
    "    {\n",
    "        np.NaN: -1,\n",
    "        defs.ANSWER_28_4: 0,\n",
    "        defs.ANSWER_28_3: 1,\n",
    "        defs.ANSWER_28_2: 2,\n",
    "        defs.ANSWER_28_1: 3,\n",
    "    },\n",
    "    defs.QUESTION_29:\n",
    "    {\n",
    "        np.NaN: -1,\n",
    "        defs.ANSWER_29_4: 0,\n",
    "        defs.ANSWER_29_3: 1,\n",
    "        defs.ANSWER_29_2: 2,\n",
    "        defs.ANSWER_29_1: 3,\n",
    "    },\n",
    "}, inplace=True)\n",
    "\n",
    "X[defs.QUESTION_9] = X[defs.QUESTION_9].astype('int64')"
   ]
  },
  {
   "cell_type": "markdown",
   "id": "9238516f",
   "metadata": {},
   "source": [
    "Кодируем бинарные признаки."
   ]
  },
  {
   "cell_type": "code",
   "execution_count": 8,
   "id": "83677d03",
   "metadata": {},
   "outputs": [],
   "source": [
    "for feature in defs.BINARY_FEATURES:\n",
    "    if X[feature].isna().sum():\n",
    "        X[feature].replace({np.NaN: -1}, inplace=True)\n",
    "    X[feature].replace({defs.YES: 1, defs.NO: 0}, inplace=True)"
   ]
  },
  {
   "cell_type": "markdown",
   "id": "4203a3d1",
   "metadata": {},
   "source": [
    "## Label Encoding категориальных и ранговых признаков"
   ]
  },
  {
   "cell_type": "code",
   "execution_count": 9,
   "id": "fc9e27f5",
   "metadata": {},
   "outputs": [],
   "source": [
    "def encode_categorical_feature(df, feature, categories):\n",
    "    # Столбец в DataFrame становится \"категориальным\". Это означает, что ячейки в нём могут\n",
    "    # принимать только значения из допустимых категорий либо np.NaN. Допустимые категории\n",
    "    # определяются при создании такого столбца либо множеством различных ячеек, либо\n",
    "    # специальным списком. Если допустимые категории определяются специальным списком и \n",
    "    # значение ячейки не входит в этот список, её значение становится np.NaN.\n",
    "    df[feature] = pd.Categorical(df[feature], categories=categories)\n",
    "    # Категории кодируются числами 0, 1, 2, ... np.NaN числом -1.\n",
    "    df[feature] = df[feature].cat.codes\n",
    "    # Приведение к типу, допустимому для конвертации DataFrame в Dataset.\n",
    "    df[feature] = df[feature].astype('int64')"
   ]
  },
  {
   "cell_type": "code",
   "execution_count": 10,
   "id": "b53e6212",
   "metadata": {},
   "outputs": [],
   "source": [
    "X_LE = X.copy()\n",
    "\n",
    "for feature, categories in defs.CATEGORICAL_FEATURES.items():\n",
    "    encode_categorical_feature(X_LE, feature, categories)"
   ]
  },
  {
   "cell_type": "code",
   "execution_count": 11,
   "id": "1e2a3fd1",
   "metadata": {},
   "outputs": [],
   "source": [
    "X_LE_train, X_LE_test, y_train, y_test = train_test_split(\n",
    "    X_LE, y,\n",
    "    train_size=TRAIN_SIZE,\n",
    "    stratify=y,\n",
    "    random_state=RANDOM_STATE,\n",
    ")"
   ]
  },
  {
   "cell_type": "code",
   "execution_count": 12,
   "id": "00c3f9ac",
   "metadata": {},
   "outputs": [],
   "source": [
    "PARAM_GRID = [\n",
    "    {\n",
    "        'min_samples_split': [2],\n",
    "        'min_samples_leaf': [1],\n",
    "    },\n",
    "    {\n",
    "        'min_samples_split': [4],\n",
    "        'min_samples_leaf': [1, 2],\n",
    "    },\n",
    "    {\n",
    "        'min_samples_split': [8],\n",
    "        'min_samples_leaf': [1, 2, 4],\n",
    "    },\n",
    "    {\n",
    "        'min_samples_split': [16],\n",
    "        'min_samples_leaf': [1, 2, 4, 8],\n",
    "    },\n",
    "    {\n",
    "        'min_samples_split': [32],\n",
    "        'min_samples_leaf': [1, 2, 4, 8, 16],\n",
    "    },\n",
    "    {\n",
    "        'min_samples_split': [64],\n",
    "        'min_samples_leaf': [1, 2, 4, 8, 16, 32],\n",
    "    },\n",
    "    {\n",
    "        'min_samples_split': [128],\n",
    "        'min_samples_leaf': [1, 2, 4, 8, 16, 32, 64],\n",
    "    },\n",
    "    {\n",
    "        'min_samples_split': [256],\n",
    "        'min_samples_leaf': [1, 2, 4, 8, 16, 32, 64, 128],\n",
    "    },\n",
    "    {\n",
    "        'min_samples_split': [512],\n",
    "        'min_samples_leaf': [1, 2, 4, 8, 16, 32, 64, 128, 256],\n",
    "    },\n",
    "]"
   ]
  },
  {
   "cell_type": "code",
   "execution_count": 13,
   "id": "48d32621",
   "metadata": {},
   "outputs": [],
   "source": [
    "def cross_validation(param_grid, X_train, y_train):\n",
    "    search = GridSearchCV(\n",
    "        DecisionTreeClassifier(random_state=RANDOM_STATE),\n",
    "        param_grid,\n",
    "        refit=True,\n",
    "        cv=StratifiedShuffleSplit(n_splits=5, random_state=RANDOM_STATE),\n",
    "    )\n",
    "    search.fit(X_train, y_train)\n",
    "\n",
    "    print('Лучшие гиперпараметры:')\n",
    "    for param, value in search.best_params_.items():\n",
    "        print(f'{param}: {value}')\n",
    "        \n",
    "    return search.best_estimator_"
   ]
  },
  {
   "cell_type": "code",
   "execution_count": 14,
   "id": "1d7f0fa7",
   "metadata": {},
   "outputs": [
    {
     "name": "stdout",
     "output_type": "stream",
     "text": [
      "Лучшие гиперпараметры:\n",
      "min_samples_leaf: 1\n",
      "min_samples_split: 4\n"
     ]
    }
   ],
   "source": [
    "tree = cross_validation(PARAM_GRID, X_LE_train, y_train)"
   ]
  },
  {
   "cell_type": "code",
   "execution_count": 15,
   "id": "ba796aab",
   "metadata": {},
   "outputs": [
    {
     "data": {
      "image/png": "[encoded data removed]",
      "text/plain": [
       "<Figure size 648x432 with 2 Axes>"
      ]
     },
     "metadata": {
      "needs_background": "light"
     },
     "output_type": "display_data"
    },
    {
     "name": "stdout",
     "output_type": "stream",
     "text": [
      "                           precision    recall  f1-score   support\n",
      "\n",
      "доброкачественная опухоль       0.59      0.53      0.56        60\n",
      "  злокачественная опухоль       0.53      0.60      0.56        60\n",
      "                    норма       0.40      0.39      0.40        59\n",
      "\n",
      "                 accuracy                           0.51       179\n",
      "                macro avg       0.51      0.51      0.51       179\n",
      "             weighted avg       0.51      0.51      0.51       179\n",
      "\n"
     ]
    }
   ],
   "source": [
    "y_pred = tree.predict(X_LE_test)\n",
    "\n",
    "fig, ax = plt.subplots(figsize=(9, 6))\n",
    "ConfusionMatrixDisplay.from_predictions(y_test, y_pred, ax=ax)\n",
    "ax.set_xticklabels(ax.get_xticklabels(), rotation=30)\n",
    "plt.show()\n",
    "\n",
    "print(classification_report(y_test, y_pred))"
   ]
  },
  {
   "cell_type": "markdown",
   "id": "0d834d96",
   "metadata": {},
   "source": [
    "## Label Encoding ранговых и One-Hot Encoding категориальных признаков"
   ]
  },
  {
   "cell_type": "code",
   "execution_count": 16,
   "id": "6e592b5f",
   "metadata": {},
   "outputs": [],
   "source": [
    "X_OHE = X.copy()\n",
    "\n",
    "X_OHE = pd.concat([X_OHE, pd.get_dummies(X_OHE[defs.QUESTION_3], prefix='вопрос3')], axis=1).drop([defs.QUESTION_3], axis=1)\n",
    "X_OHE = pd.concat([X_OHE, pd.get_dummies(X_OHE[defs.QUESTION_23], prefix='вопрос23')], axis=1).drop([defs.QUESTION_23], axis=1)\n",
    "X_OHE = pd.concat([X_OHE, pd.get_dummies(X_OHE[defs.QUESTION_25], prefix='вопрос25')], axis=1).drop([defs.QUESTION_25], axis=1)"
   ]
  },
  {
   "cell_type": "code",
   "execution_count": 17,
   "id": "bca0b380",
   "metadata": {},
   "outputs": [],
   "source": [
    "X_OHE_train, X_OHE_test, y_train, y_test = train_test_split(\n",
    "    X_OHE, y,\n",
    "    train_size=TRAIN_SIZE,\n",
    "    stratify=y,\n",
    "    random_state=RANDOM_STATE,\n",
    ")"
   ]
  },
  {
   "cell_type": "code",
   "execution_count": 18,
   "id": "40531778",
   "metadata": {},
   "outputs": [
    {
     "name": "stdout",
     "output_type": "stream",
     "text": [
      "Лучшие гиперпараметры:\n",
      "min_samples_leaf: 1\n",
      "min_samples_split: 8\n"
     ]
    }
   ],
   "source": [
    "tree = cross_validation(PARAM_GRID, X_OHE_train, y_train)"
   ]
  },
  {
   "cell_type": "code",
   "execution_count": 19,
   "id": "c4f13b75",
   "metadata": {},
   "outputs": [
    {
     "data": {
      "image/png": "[encoded data removed]",
      "text/plain": [
       "<Figure size 648x432 with 2 Axes>"
      ]
     },
     "metadata": {
      "needs_background": "light"
     },
     "output_type": "display_data"
    },
    {
     "name": "stdout",
     "output_type": "stream",
     "text": [
      "                           precision    recall  f1-score   support\n",
      "\n",
      "доброкачественная опухоль       0.58      0.55      0.56        60\n",
      "  злокачественная опухоль       0.53      0.58      0.56        60\n",
      "                    норма       0.43      0.41      0.42        59\n",
      "\n",
      "                 accuracy                           0.51       179\n",
      "                macro avg       0.51      0.51      0.51       179\n",
      "             weighted avg       0.51      0.51      0.51       179\n",
      "\n"
     ]
    }
   ],
   "source": [
    "y_pred = tree.predict(X_OHE_test)\n",
    "\n",
    "fig, ax = plt.subplots(figsize=(9, 6))\n",
    "ConfusionMatrixDisplay.from_predictions(y_test, y_pred, ax=ax)\n",
    "ax.set_xticklabels(ax.get_xticklabels(), rotation=30)\n",
    "plt.show()\n",
    "\n",
    "print(classification_report(y_test, y_pred, zero_division=0))"
   ]
  },
  {
   "cell_type": "markdown",
   "id": "ff47be1f",
   "metadata": {},
   "source": [
    "## One-Hot Encoding категориальных и ранговых признаков"
   ]
  },
  {
   "cell_type": "code",
   "execution_count": 20,
   "id": "db128571",
   "metadata": {},
   "outputs": [],
   "source": [
    "X_OHE = pd.concat([X_OHE, pd.get_dummies(X_OHE[defs.QUESTION_5], prefix='вопрос5')], axis=1).drop([defs.QUESTION_5], axis=1)\n",
    "X_OHE = pd.concat([X_OHE, pd.get_dummies(X_OHE[defs.QUESTION_7], prefix='вопрос7')], axis=1).drop([defs.QUESTION_7], axis=1)\n",
    "X_OHE = pd.concat([X_OHE, pd.get_dummies(X_OHE[defs.QUESTION_9], prefix='вопрос9')], axis=1).drop([defs.QUESTION_9], axis=1)\n",
    "X_OHE = pd.concat([X_OHE, pd.get_dummies(X_OHE[defs.QUESTION_11], prefix='вопрос11')], axis=1).drop([defs.QUESTION_11], axis=1)\n",
    "X_OHE = pd.concat([X_OHE, pd.get_dummies(X_OHE[defs.QUESTION_12], prefix='вопрос12')], axis=1).drop([defs.QUESTION_12], axis=1)\n",
    "X_OHE = pd.concat([X_OHE, pd.get_dummies(X_OHE[defs.QUESTION_13], prefix='вопрос13')], axis=1).drop([defs.QUESTION_13], axis=1)\n",
    "X_OHE = pd.concat([X_OHE, pd.get_dummies(X_OHE[defs.QUESTION_14], prefix='вопрос14')], axis=1).drop([defs.QUESTION_14], axis=1)\n",
    "X_OHE = pd.concat([X_OHE, pd.get_dummies(X_OHE[defs.QUESTION_19], prefix='вопрос19')], axis=1).drop([defs.QUESTION_19], axis=1)\n",
    "X_OHE = pd.concat([X_OHE, pd.get_dummies(X_OHE[defs.QUESTION_20], prefix='вопрос20')], axis=1).drop([defs.QUESTION_20], axis=1)\n",
    "X_OHE = pd.concat([X_OHE, pd.get_dummies(X_OHE[defs.QUESTION_26], prefix='вопрос26')], axis=1).drop([defs.QUESTION_26], axis=1)\n",
    "X_OHE = pd.concat([X_OHE, pd.get_dummies(X_OHE[defs.QUESTION_27], prefix='вопрос27')], axis=1).drop([defs.QUESTION_27], axis=1)\n",
    "X_OHE = pd.concat([X_OHE, pd.get_dummies(X_OHE[defs.QUESTION_28], prefix='вопрос28')], axis=1).drop([defs.QUESTION_28], axis=1)\n",
    "X_OHE = pd.concat([X_OHE, pd.get_dummies(X_OHE[defs.QUESTION_29], prefix='вопрос29')], axis=1).drop([defs.QUESTION_29], axis=1)"
   ]
  },
  {
   "cell_type": "code",
   "execution_count": 21,
   "id": "dd327c85",
   "metadata": {},
   "outputs": [],
   "source": [
    "X_OHE_train, X_OHE_test, y_train, y_test = train_test_split(\n",
    "    X_OHE, y,\n",
    "    train_size=TRAIN_SIZE,\n",
    "    stratify=y,\n",
    "    random_state=RANDOM_STATE,\n",
    ")"
   ]
  },
  {
   "cell_type": "code",
   "execution_count": 22,
   "id": "e11f1ccd",
   "metadata": {},
   "outputs": [
    {
     "name": "stdout",
     "output_type": "stream",
     "text": [
      "Лучшие гиперпараметры:\n",
      "min_samples_leaf: 32\n",
      "min_samples_split: 128\n"
     ]
    }
   ],
   "source": [
    "tree = cross_validation(PARAM_GRID, X_OHE_train, y_train)"
   ]
  },
  {
   "cell_type": "code",
   "execution_count": 23,
   "id": "70785275",
   "metadata": {},
   "outputs": [
    {
     "data": {
      "image/png": "[encoded data removed]",
      "text/plain": [
       "<Figure size 648x432 with 2 Axes>"
      ]
     },
     "metadata": {
      "needs_background": "light"
     },
     "output_type": "display_data"
    },
    {
     "name": "stdout",
     "output_type": "stream",
     "text": [
      "                           precision    recall  f1-score   support\n",
      "\n",
      "доброкачественная опухоль       0.65      0.75      0.70        60\n",
      "  злокачественная опухоль       0.47      0.77      0.58        60\n",
      "                    норма       0.58      0.12      0.20        59\n",
      "\n",
      "                 accuracy                           0.55       179\n",
      "                macro avg       0.57      0.55      0.49       179\n",
      "             weighted avg       0.57      0.55      0.49       179\n",
      "\n"
     ]
    }
   ],
   "source": [
    "y_pred = tree.predict(X_OHE_test)\n",
    "\n",
    "fig, ax = plt.subplots(figsize=(9, 6))\n",
    "ConfusionMatrixDisplay.from_predictions(y_test, y_pred, ax=ax)\n",
    "ax.set_xticklabels(ax.get_xticklabels(), rotation=30)\n",
    "plt.show()\n",
    "\n",
    "print(classification_report(y_test, y_pred, zero_division=0))"
   ]
  },
  {
   "cell_type": "markdown",
   "id": "967c0db6",
   "metadata": {},
   "source": [
    "## Multi-Class Target Encoding категориальных и Label Encoding ранговых признаков"
   ]
  },
  {
   "cell_type": "code",
   "execution_count": 24,
   "id": "f0c6bb06",
   "metadata": {},
   "outputs": [],
   "source": [
    "def multiclass_target_encode(X, y, feature_name):\n",
    "    X = X.copy()\n",
    "    y_OHE = pd.get_dummies(y)\n",
    "    for class_ in y_OHE.columns:\n",
    "        tmp = pd.DataFrame(index=X.index)\n",
    "        feature_values = X[feature_name].unique()\n",
    "        for feature_value in feature_values:\n",
    "            if feature_value is np.NaN:\n",
    "                a = X.loc[X[feature_name].isna()].index  # точки с NaN\n",
    "                tmp.loc[a, f'{feature_name}_{class_}'] = -1\n",
    "            else:\n",
    "                a = X[X[feature_name] == feature_value].index  # точки с определённым значением признака\n",
    "                b = y_OHE[y_OHE[class_] == 1].index  # точки с определённым классом\n",
    "                c = a.intersection(b)  # пересечение этих множеств точек\n",
    "\n",
    "                tmp.loc[a, f'{feature_name}_{class_}'] = len(c) / len(X.index)\n",
    "        X = pd.concat([X, tmp], axis=1)\n",
    "\n",
    "    return X"
   ]
  },
  {
   "cell_type": "code",
   "execution_count": 25,
   "id": "7d647fd1",
   "metadata": {},
   "outputs": [],
   "source": [
    "X_TE = X.copy()\n",
    "\n",
    "for feature in defs.CATEGORICAL_FEATURES:\n",
    "    X_TE = multiclass_target_encode(X_TE, y, feature)\n",
    "    X_TE = X_TE.drop(feature, axis=1)"
   ]
  },
  {
   "cell_type": "code",
   "execution_count": 26,
   "id": "0919fbdd",
   "metadata": {},
   "outputs": [],
   "source": [
    "X_TE_train, X_TE_test, y_train, y_test = train_test_split(\n",
    "    X_TE, y,\n",
    "    train_size=TRAIN_SIZE,\n",
    "    stratify=y,\n",
    "    random_state=RANDOM_STATE,\n",
    ")"
   ]
  },
  {
   "cell_type": "code",
   "execution_count": 27,
   "id": "1b8c9896",
   "metadata": {},
   "outputs": [
    {
     "name": "stdout",
     "output_type": "stream",
     "text": [
      "Лучшие гиперпараметры:\n",
      "min_samples_leaf: 2\n",
      "min_samples_split: 4\n"
     ]
    }
   ],
   "source": [
    "tree = cross_validation(PARAM_GRID, X_TE_train, y_train)"
   ]
  },
  {
   "cell_type": "code",
   "execution_count": 28,
   "id": "0f666798",
   "metadata": {},
   "outputs": [
    {
     "data": {
      "image/png": "[encoded data removed]",
      "text/plain": [
       "<Figure size 648x432 with 2 Axes>"
      ]
     },
     "metadata": {
      "needs_background": "light"
     },
     "output_type": "display_data"
    },
    {
     "name": "stdout",
     "output_type": "stream",
     "text": [
      "                           precision    recall  f1-score   support\n",
      "\n",
      "доброкачественная опухоль       0.51      0.48      0.50        60\n",
      "  злокачественная опухоль       0.52      0.57      0.54        60\n",
      "                    норма       0.38      0.36      0.37        59\n",
      "\n",
      "                 accuracy                           0.47       179\n",
      "                macro avg       0.47      0.47      0.47       179\n",
      "             weighted avg       0.47      0.47      0.47       179\n",
      "\n"
     ]
    }
   ],
   "source": [
    "y_pred = tree.predict(X_TE_test)\n",
    "\n",
    "fig, ax = plt.subplots(figsize=(9, 6))\n",
    "ConfusionMatrixDisplay.from_predictions(y_test, y_pred, ax=ax)\n",
    "ax.set_xticklabels(ax.get_xticklabels(), rotation=30)\n",
    "plt.show()\n",
    "\n",
    "print(classification_report(y_test, y_pred, zero_division=0))"
   ]
  },
  {
   "cell_type": "markdown",
   "id": "984b34bc",
   "metadata": {},
   "source": [
    "## Multi-Class Target Encoding категориальных и ранговых признаков"
   ]
  },
  {
   "cell_type": "code",
   "execution_count": 29,
   "id": "692836a7",
   "metadata": {},
   "outputs": [],
   "source": [
    "for feature in defs.RANK_FEATURES:\n",
    "    X_TE = multiclass_target_encode(X_TE, y, feature)\n",
    "    X_TE = X_TE.drop(feature, axis=1)"
   ]
  },
  {
   "cell_type": "code",
   "execution_count": 30,
   "id": "98f6c487",
   "metadata": {},
   "outputs": [],
   "source": [
    "X_TE_train, X_TE_test, y_train, y_test = train_test_split(\n",
    "    X_TE, y,\n",
    "    train_size=TRAIN_SIZE,\n",
    "    stratify=y,\n",
    "    random_state=RANDOM_STATE,\n",
    ")"
   ]
  },
  {
   "cell_type": "code",
   "execution_count": 31,
   "id": "6741a836",
   "metadata": {},
   "outputs": [
    {
     "name": "stdout",
     "output_type": "stream",
     "text": [
      "Лучшие гиперпараметры:\n",
      "min_samples_leaf: 8\n",
      "min_samples_split: 32\n"
     ]
    }
   ],
   "source": [
    "tree = cross_validation(PARAM_GRID, X_TE_train, y_train)"
   ]
  },
  {
   "cell_type": "code",
   "execution_count": 32,
   "id": "25954dde",
   "metadata": {},
   "outputs": [
    {
     "data": {
      "image/png": "[encoded data removed]",
      "text/plain": [
       "<Figure size 648x432 with 2 Axes>"
      ]
     },
     "metadata": {
      "needs_background": "light"
     },
     "output_type": "display_data"
    },
    {
     "name": "stdout",
     "output_type": "stream",
     "text": [
      "                           precision    recall  f1-score   support\n",
      "\n",
      "доброкачественная опухоль       0.65      0.62      0.63        60\n",
      "  злокачественная опухоль       0.49      0.58      0.53        60\n",
      "                    норма       0.34      0.29      0.31        59\n",
      "\n",
      "                 accuracy                           0.50       179\n",
      "                macro avg       0.49      0.50      0.49       179\n",
      "             weighted avg       0.49      0.50      0.49       179\n",
      "\n"
     ]
    }
   ],
   "source": [
    "y_pred = tree.predict(X_TE_test)\n",
    "\n",
    "fig, ax = plt.subplots(figsize=(9, 6))\n",
    "ConfusionMatrixDisplay.from_predictions(y_test, y_pred, ax=ax)\n",
    "ax.set_xticklabels(ax.get_xticklabels(), rotation=30)\n",
    "plt.show()\n",
    "\n",
    "print(classification_report(y_test, y_pred))"
   ]
  }
 ],
 "metadata": {
  "kernelspec": {
   "display_name": "Python 3",
   "language": "python",
   "name": "python3"
  },
  "language_info": {
   "codemirror_mode": {
    "name": "ipython",
    "version": 3
   },
   "file_extension": ".py",
   "mimetype": "text/x-python",
   "name": "python",
   "nbconvert_exporter": "python",
   "pygments_lexer": "ipython3",
   "version": "3.8.3"
  }
 },
 "nbformat": 4,
 "nbformat_minor": 5
}
