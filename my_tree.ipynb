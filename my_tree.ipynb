{
 "cells": [
  {
   "cell_type": "code",
   "execution_count": 1,
   "id": "ff596829",
   "metadata": {},
   "outputs": [],
   "source": [
    "import pandas as pd\n",
    "\n",
    "from utils import decision_tree as dt\n",
    "from utils import definitions as defs"
   ]
  },
  {
   "cell_type": "code",
   "execution_count": 2,
   "id": "45b8e4bc",
   "metadata": {},
   "outputs": [],
   "source": [
    "df = pd.read_excel(defs.ETLED_DATA_PATH_my_tree)\n",
    "\n",
    "Y = df[defs.LABEL]\n",
    "X = df.drop(defs.LABEL, axis=1)"
   ]
  },
  {
   "cell_type": "code",
   "execution_count": 3,
   "id": "e67dc0d7",
   "metadata": {},
   "outputs": [],
   "source": [
    "spec_cases = {\n",
    "    'pre4. Есть ответ на вопрос 4?': defs.QUESTION_4,\n",
    "    defs.QUESTION_6: defs.QUESTION_7,\n",
    "    defs.QUESTION_8: defs.QUESTION_9,\n",
    "    'pre11. Есть ответ на вопрос 11?': defs.QUESTION_11,\n",
    "    'pre20. Есть ответ на вопрос 20?': defs.QUESTION_20,\n",
    "    defs.QUESTION_23: defs.QUESTION_24,\n",
    "    defs.QUESTION_27: defs.QUESTION_26,\n",
    "}\n",
    "\n",
    "categorical_feature_names = [\n",
    "    defs.QUESTION_3,\n",
    "    'pre4. Есть ответ на вопрос 4?',\n",
    "    defs.QUESTION_5,\n",
    "    defs.QUESTION_5,\n",
    "    defs.QUESTION_7,\n",
    "    defs.QUESTION_8,\n",
    "    defs.QUESTION_9,\n",
    "    'pre11. Есть ответ на вопрос 11?',\n",
    "    defs.QUESTION_11,\n",
    "    defs.QUESTION_12,\n",
    "    defs.QUESTION_13,\n",
    "    defs.QUESTION_14,\n",
    "    defs.QUESTION_15,\n",
    "    defs.QUESTION_16,\n",
    "    defs.QUESTION_17,\n",
    "    defs.QUESTION_18,\n",
    "    defs.QUESTION_19,\n",
    "    'pre20. Есть ответ на вопрос 20?',\n",
    "    defs.QUESTION_23,\n",
    "    defs.QUESTION_25,\n",
    "    defs.QUESTION_26,\n",
    "    defs.QUESTION_27,\n",
    "    defs.QUESTION_28,\n",
    "    defs.QUESTION_29,\n",
    "    defs.QUESTION_30,\n",
    "    defs.QUESTION_31,\n",
    "    defs.QUESTION_32,\n",
    "    defs.QUESTION_33,\n",
    "    defs.QUESTION_34,\n",
    "    defs.QUESTION_35,\n",
    "]\n",
    "\n",
    "numerical_feature_names = [\n",
    "    defs.QUESTION_2,\n",
    "    defs.QUESTION_4,\n",
    "    defs.QUESTION_22,\n",
    "    defs.QUESTION_24,\n",
    "]"
   ]
  },
  {
   "cell_type": "code",
   "execution_count": 4,
   "id": "2ea69ae8",
   "metadata": {},
   "outputs": [],
   "source": [
    "tree = dt.DecisionTree()"
   ]
  },
  {
   "cell_type": "code",
   "execution_count": 5,
   "id": "0421b68d",
   "metadata": {},
   "outputs": [
    {
     "name": "stdout",
     "output_type": "stream",
     "text": [
      "Входное множество содержит NaN\n",
      "Признак - 20. Каков уровень образования Вашего партнера (если применимо)?\n",
      "Входное множество содержит NaN\n",
      "Признак - 20. Каков уровень образования Вашего партнера (если применимо)?\n",
      "Входное множество содержит NaN\n",
      "Признак - 9. Если да, сколько?\n",
      "Входное множество содержит NaN\n",
      "Признак - 20. Каков уровень образования Вашего партнера (если применимо)?\n"
     ]
    },
    {
     "data": {
      "text/plain": [
       "<utils.decision_tree.Node at 0x270b888c520>"
      ]
     },
     "execution_count": 5,
     "metadata": {},
     "output_type": "execute_result"
    }
   ],
   "source": [
    "tree.fit(X, Y, categorical_feature_names, numerical_feature_names, special_cases=spec_cases)"
   ]
  }
 ],
 "metadata": {
  "kernelspec": {
   "display_name": "Python 3",
   "language": "python",
   "name": "python3"
  },
  "language_info": {
   "codemirror_mode": {
    "name": "ipython",
    "version": 3
   },
   "file_extension": ".py",
   "mimetype": "text/x-python",
   "name": "python",
   "nbconvert_exporter": "python",
   "pygments_lexer": "ipython3",
   "version": "3.8.3"
  }
 },
 "nbformat": 4,
 "nbformat_minor": 5
}
